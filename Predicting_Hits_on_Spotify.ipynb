{
  "nbformat": 4,
  "nbformat_minor": 0,
  "metadata": {
    "colab": {
      "name": "Predicting Hits on Spotify.ipynb",
      "provenance": [],
      "collapsed_sections": []
    },
    "kernelspec": {
      "name": "python3",
      "display_name": "Python 3"
    },
    "language_info": {
      "name": "python"
    }
  },
  "cells": [
    {
      "cell_type": "code",
      "execution_count": null,
      "metadata": {
        "id": "sJVAFAqsVHgS"
      },
      "outputs": [],
      "source": [
        "import pandas as pd\n",
        "import numpy as np\n",
        "import seaborn as sns\n",
        "import matplotlib.pyplot as plt"
      ]
    },
    {
      "cell_type": "markdown",
      "source": [
        "# Data Collection"
      ],
      "metadata": {
        "id": "ZFhTwgRq4po-"
      }
    },
    {
      "cell_type": "code",
      "source": [
        "from google.colab import files\n",
        "file = files.upload()  #upload file into google colab session"
      ],
      "metadata": {
        "colab": {
          "resources": {
            "http://localhost:8080/nbextensions/google.colab/files.js": {
              "data": "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",
              "ok": true,
              "headers": [
                [
                  "content-type",
                  "application/javascript"
                ]
              ],
              "status": 200,
              "status_text": ""
            }
          },
          "base_uri": "https://localhost:8080/",
          "height": 250
        },
        "id": "p9t_N2kwap3Q",
        "outputId": "4663faf2-5bd9-49f6-a8ad-ebc824cf39a3"
      },
      "execution_count": null,
      "outputs": [
        {
          "output_type": "display_data",
          "data": {
            "text/plain": [
              "<IPython.core.display.HTML object>"
            ],
            "text/html": [
              "\n",
              "     <input type=\"file\" id=\"files-62bf942c-f6cf-4508-9d97-91c7068cbd49\" name=\"files[]\" multiple disabled\n",
              "        style=\"border:none\" />\n",
              "     <output id=\"result-62bf942c-f6cf-4508-9d97-91c7068cbd49\">\n",
              "      Upload widget is only available when the cell has been executed in the\n",
              "      current browser session. Please rerun this cell to enable.\n",
              "      </output>\n",
              "      <script src=\"/nbextensions/google.colab/files.js\"></script> "
            ]
          },
          "metadata": {}
        },
        {
          "output_type": "stream",
          "name": "stdout",
          "text": [
            "Saving dataset-of-00s.csv to dataset-of-00s.csv\n",
            "Saving dataset-of-10s.csv to dataset-of-10s.csv\n",
            "Saving dataset-of-60s.csv to dataset-of-60s.csv\n",
            "Saving dataset-of-70s.csv to dataset-of-70s.csv\n",
            "Saving dataset-of-80s.csv to dataset-of-80s.csv\n",
            "Saving dataset-of-90s.csv to dataset-of-90s.csv\n"
          ]
        }
      ]
    },
    {
      "cell_type": "code",
      "source": [
        "df_00 = pd.read_csv(\"dataset-of-00s.csv\") \n",
        "df_10 = pd.read_csv(\"dataset-of-10s.csv\")\n",
        "df_60 = pd.read_csv(\"dataset-of-60s.csv\")\n",
        "df_70 = pd.read_csv(\"dataset-of-70s.csv\")\n",
        "df_80 = pd.read_csv(\"dataset-of-80s.csv\")\n",
        "df_90 = pd.read_csv(\"dataset-of-90s.csv\")\n",
        "df = pd.concat([df_00, df_10, df_60, df_70, df_80, df_90])\n",
        "df.head()"
      ],
      "metadata": {
        "id": "_Eu6BrGJatgo",
        "colab": {
          "base_uri": "https://localhost:8080/",
          "height": 409
        },
        "outputId": "d52cb936-429e-457d-fa44-6088b4b9acef"
      },
      "execution_count": null,
      "outputs": [
        {
          "output_type": "execute_result",
          "data": {
            "text/plain": [
              "                      track             artist  \\\n",
              "0                 Lucky Man  Montgomery Gentry   \n",
              "1            On The Hotline       Pretty Ricky   \n",
              "2        Clouds Of Dementia         Candlemass   \n",
              "3  Heavy Metal, Raise Hell!      Zwartketterij   \n",
              "4           I Got A Feelin'   Billy Currington   \n",
              "\n",
              "                                    uri  danceability  energy  key  loudness  \\\n",
              "0  spotify:track:4GiXBCUF7H6YfNQsnBRIzl         0.578   0.471    4    -7.270   \n",
              "1  spotify:track:1zyqZONW985Cs4osz9wlsu         0.704   0.854   10    -5.477   \n",
              "2  spotify:track:6cHZf7RbxXCKwEkgAZT4mY         0.162   0.836    9    -3.009   \n",
              "3  spotify:track:2IjBPp2vMeX7LggzRN3iSX         0.188   0.994    4    -3.745   \n",
              "4  spotify:track:1tF370eYXUcWwkIvaq3IGz         0.630   0.764    2    -4.353   \n",
              "\n",
              "   mode  speechiness  acousticness  instrumentalness  liveness  valence  \\\n",
              "0     1       0.0289      0.368000           0.00000     0.159    0.532   \n",
              "1     0       0.1830      0.018500           0.00000     0.148    0.688   \n",
              "2     1       0.0473      0.000111           0.00457     0.174    0.300   \n",
              "3     1       0.1660      0.000007           0.07840     0.192    0.333   \n",
              "4     1       0.0275      0.363000           0.00000     0.125    0.631   \n",
              "\n",
              "     tempo  duration_ms  time_signature  chorus_hit  sections  target  \n",
              "0  133.061       196707               4    30.88059        13       1  \n",
              "1   92.988       242587               4    41.51106        10       1  \n",
              "2   86.964       338893               4    65.32887        13       0  \n",
              "3  148.440       255667               4    58.59528         9       0  \n",
              "4  112.098       193760               4    22.62384        10       1  "
            ],
            "text/html": [
              "\n",
              "  <div id=\"df-bff6809c-ef0f-49d6-97b7-e25f20d3f92f\">\n",
              "    <div class=\"colab-df-container\">\n",
              "      <div>\n",
              "<style scoped>\n",
              "    .dataframe tbody tr th:only-of-type {\n",
              "        vertical-align: middle;\n",
              "    }\n",
              "\n",
              "    .dataframe tbody tr th {\n",
              "        vertical-align: top;\n",
              "    }\n",
              "\n",
              "    .dataframe thead th {\n",
              "        text-align: right;\n",
              "    }\n",
              "</style>\n",
              "<table border=\"1\" class=\"dataframe\">\n",
              "  <thead>\n",
              "    <tr style=\"text-align: right;\">\n",
              "      <th></th>\n",
              "      <th>track</th>\n",
              "      <th>artist</th>\n",
              "      <th>uri</th>\n",
              "      <th>danceability</th>\n",
              "      <th>energy</th>\n",
              "      <th>key</th>\n",
              "      <th>loudness</th>\n",
              "      <th>mode</th>\n",
              "      <th>speechiness</th>\n",
              "      <th>acousticness</th>\n",
              "      <th>instrumentalness</th>\n",
              "      <th>liveness</th>\n",
              "      <th>valence</th>\n",
              "      <th>tempo</th>\n",
              "      <th>duration_ms</th>\n",
              "      <th>time_signature</th>\n",
              "      <th>chorus_hit</th>\n",
              "      <th>sections</th>\n",
              "      <th>target</th>\n",
              "    </tr>\n",
              "  </thead>\n",
              "  <tbody>\n",
              "    <tr>\n",
              "      <th>0</th>\n",
              "      <td>Lucky Man</td>\n",
              "      <td>Montgomery Gentry</td>\n",
              "      <td>spotify:track:4GiXBCUF7H6YfNQsnBRIzl</td>\n",
              "      <td>0.578</td>\n",
              "      <td>0.471</td>\n",
              "      <td>4</td>\n",
              "      <td>-7.270</td>\n",
              "      <td>1</td>\n",
              "      <td>0.0289</td>\n",
              "      <td>0.368000</td>\n",
              "      <td>0.00000</td>\n",
              "      <td>0.159</td>\n",
              "      <td>0.532</td>\n",
              "      <td>133.061</td>\n",
              "      <td>196707</td>\n",
              "      <td>4</td>\n",
              "      <td>30.88059</td>\n",
              "      <td>13</td>\n",
              "      <td>1</td>\n",
              "    </tr>\n",
              "    <tr>\n",
              "      <th>1</th>\n",
              "      <td>On The Hotline</td>\n",
              "      <td>Pretty Ricky</td>\n",
              "      <td>spotify:track:1zyqZONW985Cs4osz9wlsu</td>\n",
              "      <td>0.704</td>\n",
              "      <td>0.854</td>\n",
              "      <td>10</td>\n",
              "      <td>-5.477</td>\n",
              "      <td>0</td>\n",
              "      <td>0.1830</td>\n",
              "      <td>0.018500</td>\n",
              "      <td>0.00000</td>\n",
              "      <td>0.148</td>\n",
              "      <td>0.688</td>\n",
              "      <td>92.988</td>\n",
              "      <td>242587</td>\n",
              "      <td>4</td>\n",
              "      <td>41.51106</td>\n",
              "      <td>10</td>\n",
              "      <td>1</td>\n",
              "    </tr>\n",
              "    <tr>\n",
              "      <th>2</th>\n",
              "      <td>Clouds Of Dementia</td>\n",
              "      <td>Candlemass</td>\n",
              "      <td>spotify:track:6cHZf7RbxXCKwEkgAZT4mY</td>\n",
              "      <td>0.162</td>\n",
              "      <td>0.836</td>\n",
              "      <td>9</td>\n",
              "      <td>-3.009</td>\n",
              "      <td>1</td>\n",
              "      <td>0.0473</td>\n",
              "      <td>0.000111</td>\n",
              "      <td>0.00457</td>\n",
              "      <td>0.174</td>\n",
              "      <td>0.300</td>\n",
              "      <td>86.964</td>\n",
              "      <td>338893</td>\n",
              "      <td>4</td>\n",
              "      <td>65.32887</td>\n",
              "      <td>13</td>\n",
              "      <td>0</td>\n",
              "    </tr>\n",
              "    <tr>\n",
              "      <th>3</th>\n",
              "      <td>Heavy Metal, Raise Hell!</td>\n",
              "      <td>Zwartketterij</td>\n",
              "      <td>spotify:track:2IjBPp2vMeX7LggzRN3iSX</td>\n",
              "      <td>0.188</td>\n",
              "      <td>0.994</td>\n",
              "      <td>4</td>\n",
              "      <td>-3.745</td>\n",
              "      <td>1</td>\n",
              "      <td>0.1660</td>\n",
              "      <td>0.000007</td>\n",
              "      <td>0.07840</td>\n",
              "      <td>0.192</td>\n",
              "      <td>0.333</td>\n",
              "      <td>148.440</td>\n",
              "      <td>255667</td>\n",
              "      <td>4</td>\n",
              "      <td>58.59528</td>\n",
              "      <td>9</td>\n",
              "      <td>0</td>\n",
              "    </tr>\n",
              "    <tr>\n",
              "      <th>4</th>\n",
              "      <td>I Got A Feelin'</td>\n",
              "      <td>Billy Currington</td>\n",
              "      <td>spotify:track:1tF370eYXUcWwkIvaq3IGz</td>\n",
              "      <td>0.630</td>\n",
              "      <td>0.764</td>\n",
              "      <td>2</td>\n",
              "      <td>-4.353</td>\n",
              "      <td>1</td>\n",
              "      <td>0.0275</td>\n",
              "      <td>0.363000</td>\n",
              "      <td>0.00000</td>\n",
              "      <td>0.125</td>\n",
              "      <td>0.631</td>\n",
              "      <td>112.098</td>\n",
              "      <td>193760</td>\n",
              "      <td>4</td>\n",
              "      <td>22.62384</td>\n",
              "      <td>10</td>\n",
              "      <td>1</td>\n",
              "    </tr>\n",
              "  </tbody>\n",
              "</table>\n",
              "</div>\n",
              "      <button class=\"colab-df-convert\" onclick=\"convertToInteractive('df-bff6809c-ef0f-49d6-97b7-e25f20d3f92f')\"\n",
              "              title=\"Convert this dataframe to an interactive table.\"\n",
              "              style=\"display:none;\">\n",
              "        \n",
              "  <svg xmlns=\"http://www.w3.org/2000/svg\" height=\"24px\"viewBox=\"0 0 24 24\"\n",
              "       width=\"24px\">\n",
              "    <path d=\"M0 0h24v24H0V0z\" fill=\"none\"/>\n",
              "    <path d=\"M18.56 5.44l.94 2.06.94-2.06 2.06-.94-2.06-.94-.94-2.06-.94 2.06-2.06.94zm-11 1L8.5 8.5l.94-2.06 2.06-.94-2.06-.94L8.5 2.5l-.94 2.06-2.06.94zm10 10l.94 2.06.94-2.06 2.06-.94-2.06-.94-.94-2.06-.94 2.06-2.06.94z\"/><path d=\"M17.41 7.96l-1.37-1.37c-.4-.4-.92-.59-1.43-.59-.52 0-1.04.2-1.43.59L10.3 9.45l-7.72 7.72c-.78.78-.78 2.05 0 2.83L4 21.41c.39.39.9.59 1.41.59.51 0 1.02-.2 1.41-.59l7.78-7.78 2.81-2.81c.8-.78.8-2.07 0-2.86zM5.41 20L4 18.59l7.72-7.72 1.47 1.35L5.41 20z\"/>\n",
              "  </svg>\n",
              "      </button>\n",
              "      \n",
              "  <style>\n",
              "    .colab-df-container {\n",
              "      display:flex;\n",
              "      flex-wrap:wrap;\n",
              "      gap: 12px;\n",
              "    }\n",
              "\n",
              "    .colab-df-convert {\n",
              "      background-color: #E8F0FE;\n",
              "      border: none;\n",
              "      border-radius: 50%;\n",
              "      cursor: pointer;\n",
              "      display: none;\n",
              "      fill: #1967D2;\n",
              "      height: 32px;\n",
              "      padding: 0 0 0 0;\n",
              "      width: 32px;\n",
              "    }\n",
              "\n",
              "    .colab-df-convert:hover {\n",
              "      background-color: #E2EBFA;\n",
              "      box-shadow: 0px 1px 2px rgba(60, 64, 67, 0.3), 0px 1px 3px 1px rgba(60, 64, 67, 0.15);\n",
              "      fill: #174EA6;\n",
              "    }\n",
              "\n",
              "    [theme=dark] .colab-df-convert {\n",
              "      background-color: #3B4455;\n",
              "      fill: #D2E3FC;\n",
              "    }\n",
              "\n",
              "    [theme=dark] .colab-df-convert:hover {\n",
              "      background-color: #434B5C;\n",
              "      box-shadow: 0px 1px 3px 1px rgba(0, 0, 0, 0.15);\n",
              "      filter: drop-shadow(0px 1px 2px rgba(0, 0, 0, 0.3));\n",
              "      fill: #FFFFFF;\n",
              "    }\n",
              "  </style>\n",
              "\n",
              "      <script>\n",
              "        const buttonEl =\n",
              "          document.querySelector('#df-bff6809c-ef0f-49d6-97b7-e25f20d3f92f button.colab-df-convert');\n",
              "        buttonEl.style.display =\n",
              "          google.colab.kernel.accessAllowed ? 'block' : 'none';\n",
              "\n",
              "        async function convertToInteractive(key) {\n",
              "          const element = document.querySelector('#df-bff6809c-ef0f-49d6-97b7-e25f20d3f92f');\n",
              "          const dataTable =\n",
              "            await google.colab.kernel.invokeFunction('convertToInteractive',\n",
              "                                                     [key], {});\n",
              "          if (!dataTable) return;\n",
              "\n",
              "          const docLinkHtml = 'Like what you see? Visit the ' +\n",
              "            '<a target=\"_blank\" href=https://colab.research.google.com/notebooks/data_table.ipynb>data table notebook</a>'\n",
              "            + ' to learn more about interactive tables.';\n",
              "          element.innerHTML = '';\n",
              "          dataTable['output_type'] = 'display_data';\n",
              "          await google.colab.output.renderOutput(dataTable, element);\n",
              "          const docLink = document.createElement('div');\n",
              "          docLink.innerHTML = docLinkHtml;\n",
              "          element.appendChild(docLink);\n",
              "        }\n",
              "      </script>\n",
              "    </div>\n",
              "  </div>\n",
              "  "
            ]
          },
          "metadata": {},
          "execution_count": 6
        }
      ]
    },
    {
      "cell_type": "markdown",
      "source": [
        "# Preprocessing"
      ],
      "metadata": {
        "id": "UabFu0Pw6n-b"
      }
    },
    {
      "cell_type": "markdown",
      "source": [
        "Finding the number of rows and columns"
      ],
      "metadata": {
        "id": "HkjFsHn56e-L"
      }
    },
    {
      "cell_type": "code",
      "source": [
        "df.shape"
      ],
      "metadata": {
        "id": "5ID6Qjz16TGL",
        "colab": {
          "base_uri": "https://localhost:8080/"
        },
        "outputId": "0f6eb875-a0be-415d-b409-0ea3744c1543"
      },
      "execution_count": null,
      "outputs": [
        {
          "output_type": "execute_result",
          "data": {
            "text/plain": [
              "(41106, 19)"
            ]
          },
          "metadata": {},
          "execution_count": 7
        }
      ]
    },
    {
      "cell_type": "markdown",
      "source": [
        "Exploring data types and checking for nulls"
      ],
      "metadata": {
        "id": "p0TkXcOp6iwa"
      }
    },
    {
      "cell_type": "code",
      "source": [
        "df.info()"
      ],
      "metadata": {
        "id": "dK4wU1t9ck5Z",
        "colab": {
          "base_uri": "https://localhost:8080/"
        },
        "outputId": "aee05280-5758-4219-a604-bfa50f4084a4"
      },
      "execution_count": null,
      "outputs": [
        {
          "output_type": "stream",
          "name": "stdout",
          "text": [
            "<class 'pandas.core.frame.DataFrame'>\n",
            "Int64Index: 41106 entries, 0 to 5519\n",
            "Data columns (total 19 columns):\n",
            " #   Column            Non-Null Count  Dtype  \n",
            "---  ------            --------------  -----  \n",
            " 0   track             41106 non-null  object \n",
            " 1   artist            41106 non-null  object \n",
            " 2   uri               41106 non-null  object \n",
            " 3   danceability      41106 non-null  float64\n",
            " 4   energy            41106 non-null  float64\n",
            " 5   key               41106 non-null  int64  \n",
            " 6   loudness          41106 non-null  float64\n",
            " 7   mode              41106 non-null  int64  \n",
            " 8   speechiness       41106 non-null  float64\n",
            " 9   acousticness      41106 non-null  float64\n",
            " 10  instrumentalness  41106 non-null  float64\n",
            " 11  liveness          41106 non-null  float64\n",
            " 12  valence           41106 non-null  float64\n",
            " 13  tempo             41106 non-null  float64\n",
            " 14  duration_ms       41106 non-null  int64  \n",
            " 15  time_signature    41106 non-null  int64  \n",
            " 16  chorus_hit        41106 non-null  float64\n",
            " 17  sections          41106 non-null  int64  \n",
            " 18  target            41106 non-null  int64  \n",
            "dtypes: float64(10), int64(6), object(3)\n",
            "memory usage: 6.3+ MB\n"
          ]
        }
      ]
    },
    {
      "cell_type": "markdown",
      "source": [
        "Checking for nulls again. Making doubly sure"
      ],
      "metadata": {
        "id": "sqHgdlUf6zB4"
      }
    },
    {
      "cell_type": "code",
      "source": [
        "df.isnull().sum()"
      ],
      "metadata": {
        "id": "SL7OQreU6vgD",
        "colab": {
          "base_uri": "https://localhost:8080/"
        },
        "outputId": "901a33eb-f328-488d-e800-3286e5b5aee8"
      },
      "execution_count": null,
      "outputs": [
        {
          "output_type": "execute_result",
          "data": {
            "text/plain": [
              "track               0\n",
              "artist              0\n",
              "uri                 0\n",
              "danceability        0\n",
              "energy              0\n",
              "key                 0\n",
              "loudness            0\n",
              "mode                0\n",
              "speechiness         0\n",
              "acousticness        0\n",
              "instrumentalness    0\n",
              "liveness            0\n",
              "valence             0\n",
              "tempo               0\n",
              "duration_ms         0\n",
              "time_signature      0\n",
              "chorus_hit          0\n",
              "sections            0\n",
              "target              0\n",
              "dtype: int64"
            ]
          },
          "metadata": {},
          "execution_count": 9
        }
      ]
    },
    {
      "cell_type": "markdown",
      "source": [
        "We can see that there are no null values in the dataset. Taking the rough statistics of the data."
      ],
      "metadata": {
        "id": "uy2WDLw44ZrR"
      }
    },
    {
      "cell_type": "code",
      "source": [
        "df['time_signature'].describe()"
      ],
      "metadata": {
        "id": "GfBBQ-hb2-4N",
        "colab": {
          "base_uri": "https://localhost:8080/"
        },
        "outputId": "cf860733-72e9-4572-b211-3bd57439b6fa"
      },
      "execution_count": null,
      "outputs": [
        {
          "output_type": "execute_result",
          "data": {
            "text/plain": [
              "count    41106.000000\n",
              "mean         3.893689\n",
              "std          0.423073\n",
              "min          0.000000\n",
              "25%          4.000000\n",
              "50%          4.000000\n",
              "75%          4.000000\n",
              "max          5.000000\n",
              "Name: time_signature, dtype: float64"
            ]
          },
          "metadata": {},
          "execution_count": 10
        }
      ]
    },
    {
      "cell_type": "code",
      "source": [
        "df = df.drop(axis=1, labels='time_signature')"
      ],
      "metadata": {
        "id": "MWkuOLbA-uJU"
      },
      "execution_count": null,
      "outputs": []
    },
    {
      "cell_type": "code",
      "source": [
        "#Scaling the data\n",
        "from sklearn.preprocessing import StandardScaler\n",
        "scale = StandardScaler()\n",
        "\n",
        "df_X = df.iloc[:,3:17]\n",
        "\n",
        "\n",
        "df_scaled = scale.fit_transform(df_X)\n",
        "df_scaled = pd.DataFrame(df_scaled)\n",
        "df_scaled.columns = df_X.columns\n",
        "df_scaled"
      ],
      "metadata": {
        "id": "SNG6fqGyA7im",
        "colab": {
          "base_uri": "https://localhost:8080/",
          "height": 487
        },
        "outputId": "45b12cf8-d598-41c1-bb1f-da49083968b0"
      },
      "execution_count": null,
      "outputs": [
        {
          "output_type": "execute_result",
          "data": {
            "text/plain": [
              "       danceability    energy       key  loudness      mode  speechiness  \\\n",
              "0          0.215416 -0.429668 -0.343315  0.555679  0.665030    -0.511673   \n",
              "1          0.924004  1.086412  1.354030  0.893245 -1.503691     1.277886   \n",
              "2         -2.124046  1.015160  1.071139  1.357892  0.665030    -0.297994   \n",
              "3         -1.977830  1.640592 -0.343315  1.219326  0.665030     1.080465   \n",
              "4          0.507849  0.730153 -0.909096  1.104859  0.665030    -0.527931   \n",
              "...             ...       ...       ...       ...       ...          ...   \n",
              "41101     -0.808099  0.852864  1.071139  0.781602 -1.503691     1.870147   \n",
              "41102      0.457236  0.298684  1.071139  0.741877 -1.503691    -0.488447   \n",
              "41103      0.125437 -1.051141  1.354030 -0.939738 -1.503691    -0.501221   \n",
              "41104      0.462860  0.797446  0.505358  0.779719  0.665030    -0.419930   \n",
              "41105      0.699055  0.631192 -0.909096  0.229033  0.665030    -0.543028   \n",
              "\n",
              "       acousticness  instrumentalness  liveness   valence     tempo  \\\n",
              "0          0.011220         -0.508740 -0.245926 -0.039055  0.471597   \n",
              "1         -1.020031         -0.508740 -0.309525  0.544503 -0.905554   \n",
              "2         -1.074290         -0.493684 -0.159199 -0.906910 -1.112575   \n",
              "3         -1.074596         -0.250443 -0.055127 -0.783465  1.000112   \n",
              "4         -0.003533         -0.508740 -0.442506  0.331280 -0.248819   \n",
              "...             ...               ...       ...       ...       ...   \n",
              "41101     -1.071880         -0.508052 -0.112945  0.821319  1.154862   \n",
              "41102     -0.925315         -0.488116 -0.623476  0.551984  0.509605   \n",
              "41103      0.223667         -0.508704 -0.552360  0.106835  1.632688   \n",
              "41104     -1.074320          1.978688  1.049193 -1.228615  0.024494   \n",
              "41105     -0.761849         -0.330173  0.760104 -0.315871 -0.930675   \n",
              "\n",
              "       duration_ms  chorus_hit  sections  \n",
              "0        -0.320853   -0.485415  0.518152  \n",
              "1         0.064804    0.073928 -0.097638  \n",
              "2         0.874330    1.327148  0.518152  \n",
              "3         0.174751    0.972847 -0.302901  \n",
              "4        -0.345625   -0.919860 -0.097638  \n",
              "...            ...         ...       ...  \n",
              "41101    -1.284154   -0.513802 -0.918691  \n",
              "41102    -0.195220   -0.274186 -0.097638  \n",
              "41103    -0.378684   -0.999112 -0.097638  \n",
              "41104     0.800023    0.369873  0.107625  \n",
              "41105     0.496743    0.126142  0.723415  \n",
              "\n",
              "[41106 rows x 14 columns]"
            ],
            "text/html": [
              "\n",
              "  <div id=\"df-6b7ce94b-aa6b-464a-8460-7020fc682fb0\">\n",
              "    <div class=\"colab-df-container\">\n",
              "      <div>\n",
              "<style scoped>\n",
              "    .dataframe tbody tr th:only-of-type {\n",
              "        vertical-align: middle;\n",
              "    }\n",
              "\n",
              "    .dataframe tbody tr th {\n",
              "        vertical-align: top;\n",
              "    }\n",
              "\n",
              "    .dataframe thead th {\n",
              "        text-align: right;\n",
              "    }\n",
              "</style>\n",
              "<table border=\"1\" class=\"dataframe\">\n",
              "  <thead>\n",
              "    <tr style=\"text-align: right;\">\n",
              "      <th></th>\n",
              "      <th>danceability</th>\n",
              "      <th>energy</th>\n",
              "      <th>key</th>\n",
              "      <th>loudness</th>\n",
              "      <th>mode</th>\n",
              "      <th>speechiness</th>\n",
              "      <th>acousticness</th>\n",
              "      <th>instrumentalness</th>\n",
              "      <th>liveness</th>\n",
              "      <th>valence</th>\n",
              "      <th>tempo</th>\n",
              "      <th>duration_ms</th>\n",
              "      <th>chorus_hit</th>\n",
              "      <th>sections</th>\n",
              "    </tr>\n",
              "  </thead>\n",
              "  <tbody>\n",
              "    <tr>\n",
              "      <th>0</th>\n",
              "      <td>0.215416</td>\n",
              "      <td>-0.429668</td>\n",
              "      <td>-0.343315</td>\n",
              "      <td>0.555679</td>\n",
              "      <td>0.665030</td>\n",
              "      <td>-0.511673</td>\n",
              "      <td>0.011220</td>\n",
              "      <td>-0.508740</td>\n",
              "      <td>-0.245926</td>\n",
              "      <td>-0.039055</td>\n",
              "      <td>0.471597</td>\n",
              "      <td>-0.320853</td>\n",
              "      <td>-0.485415</td>\n",
              "      <td>0.518152</td>\n",
              "    </tr>\n",
              "    <tr>\n",
              "      <th>1</th>\n",
              "      <td>0.924004</td>\n",
              "      <td>1.086412</td>\n",
              "      <td>1.354030</td>\n",
              "      <td>0.893245</td>\n",
              "      <td>-1.503691</td>\n",
              "      <td>1.277886</td>\n",
              "      <td>-1.020031</td>\n",
              "      <td>-0.508740</td>\n",
              "      <td>-0.309525</td>\n",
              "      <td>0.544503</td>\n",
              "      <td>-0.905554</td>\n",
              "      <td>0.064804</td>\n",
              "      <td>0.073928</td>\n",
              "      <td>-0.097638</td>\n",
              "    </tr>\n",
              "    <tr>\n",
              "      <th>2</th>\n",
              "      <td>-2.124046</td>\n",
              "      <td>1.015160</td>\n",
              "      <td>1.071139</td>\n",
              "      <td>1.357892</td>\n",
              "      <td>0.665030</td>\n",
              "      <td>-0.297994</td>\n",
              "      <td>-1.074290</td>\n",
              "      <td>-0.493684</td>\n",
              "      <td>-0.159199</td>\n",
              "      <td>-0.906910</td>\n",
              "      <td>-1.112575</td>\n",
              "      <td>0.874330</td>\n",
              "      <td>1.327148</td>\n",
              "      <td>0.518152</td>\n",
              "    </tr>\n",
              "    <tr>\n",
              "      <th>3</th>\n",
              "      <td>-1.977830</td>\n",
              "      <td>1.640592</td>\n",
              "      <td>-0.343315</td>\n",
              "      <td>1.219326</td>\n",
              "      <td>0.665030</td>\n",
              "      <td>1.080465</td>\n",
              "      <td>-1.074596</td>\n",
              "      <td>-0.250443</td>\n",
              "      <td>-0.055127</td>\n",
              "      <td>-0.783465</td>\n",
              "      <td>1.000112</td>\n",
              "      <td>0.174751</td>\n",
              "      <td>0.972847</td>\n",
              "      <td>-0.302901</td>\n",
              "    </tr>\n",
              "    <tr>\n",
              "      <th>4</th>\n",
              "      <td>0.507849</td>\n",
              "      <td>0.730153</td>\n",
              "      <td>-0.909096</td>\n",
              "      <td>1.104859</td>\n",
              "      <td>0.665030</td>\n",
              "      <td>-0.527931</td>\n",
              "      <td>-0.003533</td>\n",
              "      <td>-0.508740</td>\n",
              "      <td>-0.442506</td>\n",
              "      <td>0.331280</td>\n",
              "      <td>-0.248819</td>\n",
              "      <td>-0.345625</td>\n",
              "      <td>-0.919860</td>\n",
              "      <td>-0.097638</td>\n",
              "    </tr>\n",
              "    <tr>\n",
              "      <th>...</th>\n",
              "      <td>...</td>\n",
              "      <td>...</td>\n",
              "      <td>...</td>\n",
              "      <td>...</td>\n",
              "      <td>...</td>\n",
              "      <td>...</td>\n",
              "      <td>...</td>\n",
              "      <td>...</td>\n",
              "      <td>...</td>\n",
              "      <td>...</td>\n",
              "      <td>...</td>\n",
              "      <td>...</td>\n",
              "      <td>...</td>\n",
              "      <td>...</td>\n",
              "    </tr>\n",
              "    <tr>\n",
              "      <th>41101</th>\n",
              "      <td>-0.808099</td>\n",
              "      <td>0.852864</td>\n",
              "      <td>1.071139</td>\n",
              "      <td>0.781602</td>\n",
              "      <td>-1.503691</td>\n",
              "      <td>1.870147</td>\n",
              "      <td>-1.071880</td>\n",
              "      <td>-0.508052</td>\n",
              "      <td>-0.112945</td>\n",
              "      <td>0.821319</td>\n",
              "      <td>1.154862</td>\n",
              "      <td>-1.284154</td>\n",
              "      <td>-0.513802</td>\n",
              "      <td>-0.918691</td>\n",
              "    </tr>\n",
              "    <tr>\n",
              "      <th>41102</th>\n",
              "      <td>0.457236</td>\n",
              "      <td>0.298684</td>\n",
              "      <td>1.071139</td>\n",
              "      <td>0.741877</td>\n",
              "      <td>-1.503691</td>\n",
              "      <td>-0.488447</td>\n",
              "      <td>-0.925315</td>\n",
              "      <td>-0.488116</td>\n",
              "      <td>-0.623476</td>\n",
              "      <td>0.551984</td>\n",
              "      <td>0.509605</td>\n",
              "      <td>-0.195220</td>\n",
              "      <td>-0.274186</td>\n",
              "      <td>-0.097638</td>\n",
              "    </tr>\n",
              "    <tr>\n",
              "      <th>41103</th>\n",
              "      <td>0.125437</td>\n",
              "      <td>-1.051141</td>\n",
              "      <td>1.354030</td>\n",
              "      <td>-0.939738</td>\n",
              "      <td>-1.503691</td>\n",
              "      <td>-0.501221</td>\n",
              "      <td>0.223667</td>\n",
              "      <td>-0.508704</td>\n",
              "      <td>-0.552360</td>\n",
              "      <td>0.106835</td>\n",
              "      <td>1.632688</td>\n",
              "      <td>-0.378684</td>\n",
              "      <td>-0.999112</td>\n",
              "      <td>-0.097638</td>\n",
              "    </tr>\n",
              "    <tr>\n",
              "      <th>41104</th>\n",
              "      <td>0.462860</td>\n",
              "      <td>0.797446</td>\n",
              "      <td>0.505358</td>\n",
              "      <td>0.779719</td>\n",
              "      <td>0.665030</td>\n",
              "      <td>-0.419930</td>\n",
              "      <td>-1.074320</td>\n",
              "      <td>1.978688</td>\n",
              "      <td>1.049193</td>\n",
              "      <td>-1.228615</td>\n",
              "      <td>0.024494</td>\n",
              "      <td>0.800023</td>\n",
              "      <td>0.369873</td>\n",
              "      <td>0.107625</td>\n",
              "    </tr>\n",
              "    <tr>\n",
              "      <th>41105</th>\n",
              "      <td>0.699055</td>\n",
              "      <td>0.631192</td>\n",
              "      <td>-0.909096</td>\n",
              "      <td>0.229033</td>\n",
              "      <td>0.665030</td>\n",
              "      <td>-0.543028</td>\n",
              "      <td>-0.761849</td>\n",
              "      <td>-0.330173</td>\n",
              "      <td>0.760104</td>\n",
              "      <td>-0.315871</td>\n",
              "      <td>-0.930675</td>\n",
              "      <td>0.496743</td>\n",
              "      <td>0.126142</td>\n",
              "      <td>0.723415</td>\n",
              "    </tr>\n",
              "  </tbody>\n",
              "</table>\n",
              "<p>41106 rows × 14 columns</p>\n",
              "</div>\n",
              "      <button class=\"colab-df-convert\" onclick=\"convertToInteractive('df-6b7ce94b-aa6b-464a-8460-7020fc682fb0')\"\n",
              "              title=\"Convert this dataframe to an interactive table.\"\n",
              "              style=\"display:none;\">\n",
              "        \n",
              "  <svg xmlns=\"http://www.w3.org/2000/svg\" height=\"24px\"viewBox=\"0 0 24 24\"\n",
              "       width=\"24px\">\n",
              "    <path d=\"M0 0h24v24H0V0z\" fill=\"none\"/>\n",
              "    <path d=\"M18.56 5.44l.94 2.06.94-2.06 2.06-.94-2.06-.94-.94-2.06-.94 2.06-2.06.94zm-11 1L8.5 8.5l.94-2.06 2.06-.94-2.06-.94L8.5 2.5l-.94 2.06-2.06.94zm10 10l.94 2.06.94-2.06 2.06-.94-2.06-.94-.94-2.06-.94 2.06-2.06.94z\"/><path d=\"M17.41 7.96l-1.37-1.37c-.4-.4-.92-.59-1.43-.59-.52 0-1.04.2-1.43.59L10.3 9.45l-7.72 7.72c-.78.78-.78 2.05 0 2.83L4 21.41c.39.39.9.59 1.41.59.51 0 1.02-.2 1.41-.59l7.78-7.78 2.81-2.81c.8-.78.8-2.07 0-2.86zM5.41 20L4 18.59l7.72-7.72 1.47 1.35L5.41 20z\"/>\n",
              "  </svg>\n",
              "      </button>\n",
              "      \n",
              "  <style>\n",
              "    .colab-df-container {\n",
              "      display:flex;\n",
              "      flex-wrap:wrap;\n",
              "      gap: 12px;\n",
              "    }\n",
              "\n",
              "    .colab-df-convert {\n",
              "      background-color: #E8F0FE;\n",
              "      border: none;\n",
              "      border-radius: 50%;\n",
              "      cursor: pointer;\n",
              "      display: none;\n",
              "      fill: #1967D2;\n",
              "      height: 32px;\n",
              "      padding: 0 0 0 0;\n",
              "      width: 32px;\n",
              "    }\n",
              "\n",
              "    .colab-df-convert:hover {\n",
              "      background-color: #E2EBFA;\n",
              "      box-shadow: 0px 1px 2px rgba(60, 64, 67, 0.3), 0px 1px 3px 1px rgba(60, 64, 67, 0.15);\n",
              "      fill: #174EA6;\n",
              "    }\n",
              "\n",
              "    [theme=dark] .colab-df-convert {\n",
              "      background-color: #3B4455;\n",
              "      fill: #D2E3FC;\n",
              "    }\n",
              "\n",
              "    [theme=dark] .colab-df-convert:hover {\n",
              "      background-color: #434B5C;\n",
              "      box-shadow: 0px 1px 3px 1px rgba(0, 0, 0, 0.15);\n",
              "      filter: drop-shadow(0px 1px 2px rgba(0, 0, 0, 0.3));\n",
              "      fill: #FFFFFF;\n",
              "    }\n",
              "  </style>\n",
              "\n",
              "      <script>\n",
              "        const buttonEl =\n",
              "          document.querySelector('#df-6b7ce94b-aa6b-464a-8460-7020fc682fb0 button.colab-df-convert');\n",
              "        buttonEl.style.display =\n",
              "          google.colab.kernel.accessAllowed ? 'block' : 'none';\n",
              "\n",
              "        async function convertToInteractive(key) {\n",
              "          const element = document.querySelector('#df-6b7ce94b-aa6b-464a-8460-7020fc682fb0');\n",
              "          const dataTable =\n",
              "            await google.colab.kernel.invokeFunction('convertToInteractive',\n",
              "                                                     [key], {});\n",
              "          if (!dataTable) return;\n",
              "\n",
              "          const docLinkHtml = 'Like what you see? Visit the ' +\n",
              "            '<a target=\"_blank\" href=https://colab.research.google.com/notebooks/data_table.ipynb>data table notebook</a>'\n",
              "            + ' to learn more about interactive tables.';\n",
              "          element.innerHTML = '';\n",
              "          dataTable['output_type'] = 'display_data';\n",
              "          await google.colab.output.renderOutput(dataTable, element);\n",
              "          const docLink = document.createElement('div');\n",
              "          docLink.innerHTML = docLinkHtml;\n",
              "          element.appendChild(docLink);\n",
              "        }\n",
              "      </script>\n",
              "    </div>\n",
              "  </div>\n",
              "  "
            ]
          },
          "metadata": {},
          "execution_count": 12
        }
      ]
    },
    {
      "cell_type": "code",
      "source": [
        "#Managing outliers\n",
        "#creating boxplots to analyze the distribution of data and remove outliers"
      ],
      "metadata": {
        "id": "duLCzlEo8fGq"
      },
      "execution_count": null,
      "outputs": []
    },
    {
      "cell_type": "code",
      "source": [
        "df_melt=pd.melt(df_scaled)\n",
        "df_melt\n",
        "sns.set(rc={'figure.figsize':(23,10)})\n",
        "sns.boxplot(x='variable', y='value', data=df_melt, showfliers=False)\n",
        "plt.xlabel(None)\n",
        "plt.title('Distribution of predictors without outliers')"
      ],
      "metadata": {
        "id": "vpx3kRvA9KaK",
        "colab": {
          "base_uri": "https://localhost:8080/",
          "height": 619
        },
        "outputId": "586ea34e-6972-486a-f61b-1fb693d3b827"
      },
      "execution_count": null,
      "outputs": [
        {
          "output_type": "execute_result",
          "data": {
            "text/plain": [
              "Text(0.5, 1.0, 'Distribution of predictors without outliers')"
            ]
          },
          "metadata": {},
          "execution_count": 14
        },
        {
          "output_type": "display_data",
          "data": {
            "text/plain": [
              "<Figure size 1656x720 with 1 Axes>"
            ],
            "image/png": "[encoded data removed]"
          },
          "metadata": {}
        }
      ]
    },
    {
      "cell_type": "code",
      "source": [
        "df_melt=pd.melt(df_scaled)\n",
        "df_melt\n",
        "sns.set(rc={'figure.figsize':(23,10)})\n",
        "sns.boxplot(x='variable', y='value', data=df_melt)\n",
        "plt.xlabel(None)\n",
        "plt.title('Distribution of predictors with outliers')"
      ],
      "metadata": {
        "id": "h5uX2ZGOCZnl",
        "colab": {
          "base_uri": "https://localhost:8080/",
          "height": 619
        },
        "outputId": "5f967a07-a53a-4c17-ef6e-6c97ad5575c4"
      },
      "execution_count": null,
      "outputs": [
        {
          "output_type": "execute_result",
          "data": {
            "text/plain": [
              "Text(0.5, 1.0, 'Distribution of predictors with outliers')"
            ]
          },
          "metadata": {},
          "execution_count": 15
        },
        {
          "output_type": "display_data",
          "data": {
            "text/plain": [
              "<Figure size 1656x720 with 1 Axes>"
            ],
            "image/png": "[encoded data removed]"
          },
          "metadata": {}
        }
      ]
    },
    {
      "cell_type": "code",
      "source": [
        "df_clean= df_scaled\n",
        "for col in df_clean.columns:\n",
        "  q1=df_clean[col].quantile(0.25)\n",
        "  q3=df_clean[col].quantile(0.75)\n",
        "  inq=q3-q1\n",
        "  filter=(df_clean[col] >= q1-1.5*inq) & (df_clean[col] <= q3+1.5*inq)\n",
        "  df_clean[col] = df_clean[col].loc[filter]"
      ],
      "metadata": {
        "id": "LkDpLXF9EbGo"
      },
      "execution_count": null,
      "outputs": []
    },
    {
      "cell_type": "code",
      "source": [
        "df_clean.isna().sum()\n"
      ],
      "metadata": {
        "id": "kXmPXdEuFcB0",
        "colab": {
          "base_uri": "https://localhost:8080/"
        },
        "outputId": "bcac3c53-4ac4-47f4-ef88-bae7acfa0272"
      },
      "execution_count": null,
      "outputs": [
        {
          "output_type": "execute_result",
          "data": {
            "text/plain": [
              "danceability           1\n",
              "energy                 0\n",
              "key                    0\n",
              "loudness            1343\n",
              "mode                   0\n",
              "speechiness         5088\n",
              "acousticness           0\n",
              "instrumentalness    8920\n",
              "liveness            2688\n",
              "valence                0\n",
              "tempo                434\n",
              "duration_ms         1987\n",
              "chorus_hit          1839\n",
              "sections            1570\n",
              "dtype: int64"
            ]
          },
          "metadata": {},
          "execution_count": 17
        }
      ]
    },
    {
      "cell_type": "code",
      "source": [
        "df_clean = df_clean.drop(axis=1, labels=['speechiness', 'instrumentalness'])"
      ],
      "metadata": {
        "id": "Hs8yzQQhXqfh"
      },
      "execution_count": null,
      "outputs": []
    },
    {
      "cell_type": "code",
      "source": [
        "df_remove = df_clean.dropna()\n",
        "df_remove.shape"
      ],
      "metadata": {
        "id": "X502wN9WXavd",
        "colab": {
          "base_uri": "https://localhost:8080/"
        },
        "outputId": "af5a7225-9fc8-40d5-f5dc-4630c0d14093"
      },
      "execution_count": null,
      "outputs": [
        {
          "output_type": "execute_result",
          "data": {
            "text/plain": [
              "(33401, 12)"
            ]
          },
          "metadata": {},
          "execution_count": 19
        }
      ]
    },
    {
      "cell_type": "code",
      "source": [
        "df_melt=pd.melt(df_remove)\n",
        "df_melt\n",
        "sns.set(rc={'figure.figsize':(23,10)})\n",
        "sns.boxplot(x='variable', y='value', data=df_melt, showfliers=False)\n",
        "plt.xlabel(None)\n",
        "plt.title('Distribution of predictors without outliers')"
      ],
      "metadata": {
        "id": "Egxqteb9NJ6E",
        "colab": {
          "base_uri": "https://localhost:8080/",
          "height": 619
        },
        "outputId": "d8529822-730b-4bf9-9f94-6e4de723795f"
      },
      "execution_count": null,
      "outputs": [
        {
          "output_type": "execute_result",
          "data": {
            "text/plain": [
              "Text(0.5, 1.0, 'Distribution of predictors without outliers')"
            ]
          },
          "metadata": {},
          "execution_count": 20
        },
        {
          "output_type": "display_data",
          "data": {
            "text/plain": [
              "<Figure size 1656x720 with 1 Axes>"
            ],
            "image/png": "[encoded data removed]"
          },
          "metadata": {}
        }
      ]
    },
    {
      "cell_type": "code",
      "source": [
        "df_merge = df.iloc[df_remove.index]"
      ],
      "metadata": {
        "id": "mQlQUNBLbLAN"
      },
      "execution_count": null,
      "outputs": []
    },
    {
      "cell_type": "code",
      "source": [
        "df_merge = df_merge.drop(axis=1, labels=['speechiness', 'instrumentalness'])"
      ],
      "metadata": {
        "id": "xrHrtRZMelCN"
      },
      "execution_count": null,
      "outputs": []
    },
    {
      "cell_type": "code",
      "source": [
        "df_merge.columns"
      ],
      "metadata": {
        "id": "ajdCE17ofJkY",
        "colab": {
          "base_uri": "https://localhost:8080/"
        },
        "outputId": "c8d5e9ff-46b0-481d-9338-9f68f5654ea8"
      },
      "execution_count": null,
      "outputs": [
        {
          "output_type": "execute_result",
          "data": {
            "text/plain": [
              "Index(['track', 'artist', 'uri', 'danceability', 'energy', 'key', 'loudness',\n",
              "       'mode', 'acousticness', 'liveness', 'valence', 'tempo', 'duration_ms',\n",
              "       'chorus_hit', 'sections', 'target'],\n",
              "      dtype='object')"
            ]
          },
          "metadata": {},
          "execution_count": 23
        }
      ]
    },
    {
      "cell_type": "code",
      "source": [
        "df_merge.groupby('target')[['danceability', 'energy', 'key', 'loudness',\n",
        "       'mode', 'acousticness', 'liveness', 'valence', 'tempo', 'duration_ms',\n",
        "       'chorus_hit', 'sections']].count()"
      ],
      "metadata": {
        "id": "arLiQVupZ_e5",
        "colab": {
          "base_uri": "https://localhost:8080/",
          "height": 143
        },
        "outputId": "d1dd7ac1-14ad-4007-b247-470509a721c9"
      },
      "execution_count": null,
      "outputs": [
        {
          "output_type": "execute_result",
          "data": {
            "text/plain": [
              "        danceability  energy    key  loudness   mode  acousticness  liveness  \\\n",
              "target                                                                         \n",
              "0              15247   15247  15247     15247  15247         15247     15247   \n",
              "1              18154   18154  18154     18154  18154         18154     18154   \n",
              "\n",
              "        valence  tempo  duration_ms  chorus_hit  sections  \n",
              "target                                                     \n",
              "0         15247  15247        15247       15247     15247  \n",
              "1         18154  18154        18154       18154     18154  "
            ],
            "text/html": [
              "\n",
              "  <div id=\"df-e7619ca6-3cba-4114-a9da-8ca596b8f36f\">\n",
              "    <div class=\"colab-df-container\">\n",
              "      <div>\n",
              "<style scoped>\n",
              "    .dataframe tbody tr th:only-of-type {\n",
              "        vertical-align: middle;\n",
              "    }\n",
              "\n",
              "    .dataframe tbody tr th {\n",
              "        vertical-align: top;\n",
              "    }\n",
              "\n",
              "    .dataframe thead th {\n",
              "        text-align: right;\n",
              "    }\n",
              "</style>\n",
              "<table border=\"1\" class=\"dataframe\">\n",
              "  <thead>\n",
              "    <tr style=\"text-align: right;\">\n",
              "      <th></th>\n",
              "      <th>danceability</th>\n",
              "      <th>energy</th>\n",
              "      <th>key</th>\n",
              "      <th>loudness</th>\n",
              "      <th>mode</th>\n",
              "      <th>acousticness</th>\n",
              "      <th>liveness</th>\n",
              "      <th>valence</th>\n",
              "      <th>tempo</th>\n",
              "      <th>duration_ms</th>\n",
              "      <th>chorus_hit</th>\n",
              "      <th>sections</th>\n",
              "    </tr>\n",
              "    <tr>\n",
              "      <th>target</th>\n",
              "      <th></th>\n",
              "      <th></th>\n",
              "      <th></th>\n",
              "      <th></th>\n",
              "      <th></th>\n",
              "      <th></th>\n",
              "      <th></th>\n",
              "      <th></th>\n",
              "      <th></th>\n",
              "      <th></th>\n",
              "      <th></th>\n",
              "      <th></th>\n",
              "    </tr>\n",
              "  </thead>\n",
              "  <tbody>\n",
              "    <tr>\n",
              "      <th>0</th>\n",
              "      <td>15247</td>\n",
              "      <td>15247</td>\n",
              "      <td>15247</td>\n",
              "      <td>15247</td>\n",
              "      <td>15247</td>\n",
              "      <td>15247</td>\n",
              "      <td>15247</td>\n",
              "      <td>15247</td>\n",
              "      <td>15247</td>\n",
              "      <td>15247</td>\n",
              "      <td>15247</td>\n",
              "      <td>15247</td>\n",
              "    </tr>\n",
              "    <tr>\n",
              "      <th>1</th>\n",
              "      <td>18154</td>\n",
              "      <td>18154</td>\n",
              "      <td>18154</td>\n",
              "      <td>18154</td>\n",
              "      <td>18154</td>\n",
              "      <td>18154</td>\n",
              "      <td>18154</td>\n",
              "      <td>18154</td>\n",
              "      <td>18154</td>\n",
              "      <td>18154</td>\n",
              "      <td>18154</td>\n",
              "      <td>18154</td>\n",
              "    </tr>\n",
              "  </tbody>\n",
              "</table>\n",
              "</div>\n",
              "      <button class=\"colab-df-convert\" onclick=\"convertToInteractive('df-e7619ca6-3cba-4114-a9da-8ca596b8f36f')\"\n",
              "              title=\"Convert this dataframe to an interactive table.\"\n",
              "              style=\"display:none;\">\n",
              "        \n",
              "  <svg xmlns=\"http://www.w3.org/2000/svg\" height=\"24px\"viewBox=\"0 0 24 24\"\n",
              "       width=\"24px\">\n",
              "    <path d=\"M0 0h24v24H0V0z\" fill=\"none\"/>\n",
              "    <path d=\"M18.56 5.44l.94 2.06.94-2.06 2.06-.94-2.06-.94-.94-2.06-.94 2.06-2.06.94zm-11 1L8.5 8.5l.94-2.06 2.06-.94-2.06-.94L8.5 2.5l-.94 2.06-2.06.94zm10 10l.94 2.06.94-2.06 2.06-.94-2.06-.94-.94-2.06-.94 2.06-2.06.94z\"/><path d=\"M17.41 7.96l-1.37-1.37c-.4-.4-.92-.59-1.43-.59-.52 0-1.04.2-1.43.59L10.3 9.45l-7.72 7.72c-.78.78-.78 2.05 0 2.83L4 21.41c.39.39.9.59 1.41.59.51 0 1.02-.2 1.41-.59l7.78-7.78 2.81-2.81c.8-.78.8-2.07 0-2.86zM5.41 20L4 18.59l7.72-7.72 1.47 1.35L5.41 20z\"/>\n",
              "  </svg>\n",
              "      </button>\n",
              "      \n",
              "  <style>\n",
              "    .colab-df-container {\n",
              "      display:flex;\n",
              "      flex-wrap:wrap;\n",
              "      gap: 12px;\n",
              "    }\n",
              "\n",
              "    .colab-df-convert {\n",
              "      background-color: #E8F0FE;\n",
              "      border: none;\n",
              "      border-radius: 50%;\n",
              "      cursor: pointer;\n",
              "      display: none;\n",
              "      fill: #1967D2;\n",
              "      height: 32px;\n",
              "      padding: 0 0 0 0;\n",
              "      width: 32px;\n",
              "    }\n",
              "\n",
              "    .colab-df-convert:hover {\n",
              "      background-color: #E2EBFA;\n",
              "      box-shadow: 0px 1px 2px rgba(60, 64, 67, 0.3), 0px 1px 3px 1px rgba(60, 64, 67, 0.15);\n",
              "      fill: #174EA6;\n",
              "    }\n",
              "\n",
              "    [theme=dark] .colab-df-convert {\n",
              "      background-color: #3B4455;\n",
              "      fill: #D2E3FC;\n",
              "    }\n",
              "\n",
              "    [theme=dark] .colab-df-convert:hover {\n",
              "      background-color: #434B5C;\n",
              "      box-shadow: 0px 1px 3px 1px rgba(0, 0, 0, 0.15);\n",
              "      filter: drop-shadow(0px 1px 2px rgba(0, 0, 0, 0.3));\n",
              "      fill: #FFFFFF;\n",
              "    }\n",
              "  </style>\n",
              "\n",
              "      <script>\n",
              "        const buttonEl =\n",
              "          document.querySelector('#df-e7619ca6-3cba-4114-a9da-8ca596b8f36f button.colab-df-convert');\n",
              "        buttonEl.style.display =\n",
              "          google.colab.kernel.accessAllowed ? 'block' : 'none';\n",
              "\n",
              "        async function convertToInteractive(key) {\n",
              "          const element = document.querySelector('#df-e7619ca6-3cba-4114-a9da-8ca596b8f36f');\n",
              "          const dataTable =\n",
              "            await google.colab.kernel.invokeFunction('convertToInteractive',\n",
              "                                                     [key], {});\n",
              "          if (!dataTable) return;\n",
              "\n",
              "          const docLinkHtml = 'Like what you see? Visit the ' +\n",
              "            '<a target=\"_blank\" href=https://colab.research.google.com/notebooks/data_table.ipynb>data table notebook</a>'\n",
              "            + ' to learn more about interactive tables.';\n",
              "          element.innerHTML = '';\n",
              "          dataTable['output_type'] = 'display_data';\n",
              "          await google.colab.output.renderOutput(dataTable, element);\n",
              "          const docLink = document.createElement('div');\n",
              "          docLink.innerHTML = docLinkHtml;\n",
              "          element.appendChild(docLink);\n",
              "        }\n",
              "      </script>\n",
              "    </div>\n",
              "  </div>\n",
              "  "
            ]
          },
          "metadata": {},
          "execution_count": 24
        }
      ]
    },
    {
      "cell_type": "code",
      "source": [
        "sns.countplot(x='target', data=df_merge)\n",
        "sns.set(rc={'figure.figsize':(12,8)})"
      ],
      "metadata": {
        "id": "dTwruG1JmHYT"
      },
      "execution_count": null,
      "outputs": []
    },
    {
      "cell_type": "code",
      "source": [
        "plt.rcParams[\"figure.figsize\"] = [12, 15]\n",
        "fig, axes = plt.subplots(nrows=3, ncols=4, )\n",
        "df_merge.boxplot(column= 'danceability', by='target', ax=axes[0][0], showfliers=False)\n",
        "df_merge.boxplot(column= 'energy', by='target', ax=axes[0][1], showfliers=False)\n",
        "df_merge.boxplot(column='key', by='target', ax=axes[0][2], showfliers=False)\n",
        "df_merge.boxplot(column='loudness', by='target', ax=axes[0][3], showfliers=False)\n",
        "df_merge.boxplot(column='mode', by='target', ax=axes[1][0], showfliers=False)\n",
        "df_merge.boxplot(column='acousticness', by='target', ax=axes[1][1], showfliers=False)\n",
        "df_merge.boxplot(column='liveness', by='target', ax=axes[1][2], showfliers=False)\n",
        "df_merge.boxplot(column='valence', by='target', ax=axes[1][3], showfliers=False)\n",
        "df_merge.boxplot(column='tempo', by='target', ax=axes[2][0], showfliers=False)\n",
        "df_merge.boxplot(column='duration_ms', by='target', ax=axes[2][1], showfliers=False)\n",
        "df_merge.boxplot(column='chorus_hit', by='target', ax=axes[2][2], showfliers=False)\n",
        "df_merge.boxplot(column='sections', by='target', ax=axes[2][3], showfliers=False)\n",
        "plt.tight_layout()\n",
        "plt.suptitle(None)\n",
        "plt.show()"
      ],
      "metadata": {
        "id": "SIx6XA8nmy5J"
      },
      "execution_count": null,
      "outputs": []
    },
    {
      "cell_type": "code",
      "source": [
        "fig, ax = plt.subplots(figsize=(11,11)) \n",
        "ax = sns.heatmap(df_remove.corr(), annot=True, cmap='RdBu').set(title='Predictors Correlation Heatmap')"
      ],
      "metadata": {
        "id": "MiviF-2-HNMf"
      },
      "execution_count": null,
      "outputs": []
    },
    {
      "cell_type": "code",
      "source": [
        "df_merge.iloc[:,3:15]"
      ],
      "metadata": {
        "id": "1mEk8QpG5h78",
        "outputId": "8948a77c-a59b-4b67-8c95-2b0026cf57f4",
        "colab": {
          "base_uri": "https://localhost:8080/",
          "height": 423
        }
      },
      "execution_count": null,
      "outputs": [
        {
          "output_type": "execute_result",
          "data": {
            "text/plain": [
              "      danceability  energy  key  loudness  mode  acousticness  liveness  \\\n",
              "0            0.578   0.471    4    -7.270     1      0.368000    0.1590   \n",
              "1            0.704   0.854   10    -5.477     0      0.018500    0.1480   \n",
              "2            0.162   0.836    9    -3.009     1      0.000111    0.1740   \n",
              "3            0.188   0.994    4    -3.745     1      0.000007    0.1920   \n",
              "4            0.630   0.764    2    -4.353     1      0.363000    0.1250   \n",
              "...            ...     ...  ...       ...   ...           ...       ...   \n",
              "5515         0.396   0.795    9    -6.070     0      0.000928    0.1820   \n",
              "5516         0.621   0.655    9    -6.281     0      0.050600    0.0937   \n",
              "5517         0.562   0.314   10   -15.213     0      0.440000    0.1060   \n",
              "5518         0.622   0.781    7    -6.080     1      0.000101    0.3830   \n",
              "5519         0.664   0.739    2    -9.005     1      0.106000    0.3330   \n",
              "\n",
              "      valence    tempo  duration_ms  chorus_hit  sections  \n",
              "0       0.532  133.061       196707    30.88059        13  \n",
              "1       0.688   92.988       242587    41.51106        10  \n",
              "2       0.300   86.964       338893    65.32887        13  \n",
              "3       0.333  148.440       255667    58.59528         9  \n",
              "4       0.631  112.098       193760    22.62384        10  \n",
              "...       ...      ...          ...         ...       ...  \n",
              "5515    0.762  152.943        82107    30.34109         6  \n",
              "5516    0.690  134.167       211653    34.89506        10  \n",
              "5517    0.571  166.847       189827    21.11763        10  \n",
              "5518    0.214  120.051       330053    47.13558        11  \n",
              "5519    0.458   92.257       293973    42.50341        14  \n",
              "\n",
              "[33401 rows x 12 columns]"
            ],
            "text/html": [
              "\n",
              "  <div id=\"df-b8b2c5f5-1563-421d-8f7b-3f1d6ff7fa64\">\n",
              "    <div class=\"colab-df-container\">\n",
              "      <div>\n",
              "<style scoped>\n",
              "    .dataframe tbody tr th:only-of-type {\n",
              "        vertical-align: middle;\n",
              "    }\n",
              "\n",
              "    .dataframe tbody tr th {\n",
              "        vertical-align: top;\n",
              "    }\n",
              "\n",
              "    .dataframe thead th {\n",
              "        text-align: right;\n",
              "    }\n",
              "</style>\n",
              "<table border=\"1\" class=\"dataframe\">\n",
              "  <thead>\n",
              "    <tr style=\"text-align: right;\">\n",
              "      <th></th>\n",
              "      <th>danceability</th>\n",
              "      <th>energy</th>\n",
              "      <th>key</th>\n",
              "      <th>loudness</th>\n",
              "      <th>mode</th>\n",
              "      <th>acousticness</th>\n",
              "      <th>liveness</th>\n",
              "      <th>valence</th>\n",
              "      <th>tempo</th>\n",
              "      <th>duration_ms</th>\n",
              "      <th>chorus_hit</th>\n",
              "      <th>sections</th>\n",
              "    </tr>\n",
              "  </thead>\n",
              "  <tbody>\n",
              "    <tr>\n",
              "      <th>0</th>\n",
              "      <td>0.578</td>\n",
              "      <td>0.471</td>\n",
              "      <td>4</td>\n",
              "      <td>-7.270</td>\n",
              "      <td>1</td>\n",
              "      <td>0.368000</td>\n",
              "      <td>0.1590</td>\n",
              "      <td>0.532</td>\n",
              "      <td>133.061</td>\n",
              "      <td>196707</td>\n",
              "      <td>30.88059</td>\n",
              "      <td>13</td>\n",
              "    </tr>\n",
              "    <tr>\n",
              "      <th>1</th>\n",
              "      <td>0.704</td>\n",
              "      <td>0.854</td>\n",
              "      <td>10</td>\n",
              "      <td>-5.477</td>\n",
              "      <td>0</td>\n",
              "      <td>0.018500</td>\n",
              "      <td>0.1480</td>\n",
              "      <td>0.688</td>\n",
              "      <td>92.988</td>\n",
              "      <td>242587</td>\n",
              "      <td>41.51106</td>\n",
              "      <td>10</td>\n",
              "    </tr>\n",
              "    <tr>\n",
              "      <th>2</th>\n",
              "      <td>0.162</td>\n",
              "      <td>0.836</td>\n",
              "      <td>9</td>\n",
              "      <td>-3.009</td>\n",
              "      <td>1</td>\n",
              "      <td>0.000111</td>\n",
              "      <td>0.1740</td>\n",
              "      <td>0.300</td>\n",
              "      <td>86.964</td>\n",
              "      <td>338893</td>\n",
              "      <td>65.32887</td>\n",
              "      <td>13</td>\n",
              "    </tr>\n",
              "    <tr>\n",
              "      <th>3</th>\n",
              "      <td>0.188</td>\n",
              "      <td>0.994</td>\n",
              "      <td>4</td>\n",
              "      <td>-3.745</td>\n",
              "      <td>1</td>\n",
              "      <td>0.000007</td>\n",
              "      <td>0.1920</td>\n",
              "      <td>0.333</td>\n",
              "      <td>148.440</td>\n",
              "      <td>255667</td>\n",
              "      <td>58.59528</td>\n",
              "      <td>9</td>\n",
              "    </tr>\n",
              "    <tr>\n",
              "      <th>4</th>\n",
              "      <td>0.630</td>\n",
              "      <td>0.764</td>\n",
              "      <td>2</td>\n",
              "      <td>-4.353</td>\n",
              "      <td>1</td>\n",
              "      <td>0.363000</td>\n",
              "      <td>0.1250</td>\n",
              "      <td>0.631</td>\n",
              "      <td>112.098</td>\n",
              "      <td>193760</td>\n",
              "      <td>22.62384</td>\n",
              "      <td>10</td>\n",
              "    </tr>\n",
              "    <tr>\n",
              "      <th>...</th>\n",
              "      <td>...</td>\n",
              "      <td>...</td>\n",
              "      <td>...</td>\n",
              "      <td>...</td>\n",
              "      <td>...</td>\n",
              "      <td>...</td>\n",
              "      <td>...</td>\n",
              "      <td>...</td>\n",
              "      <td>...</td>\n",
              "      <td>...</td>\n",
              "      <td>...</td>\n",
              "      <td>...</td>\n",
              "    </tr>\n",
              "    <tr>\n",
              "      <th>5515</th>\n",
              "      <td>0.396</td>\n",
              "      <td>0.795</td>\n",
              "      <td>9</td>\n",
              "      <td>-6.070</td>\n",
              "      <td>0</td>\n",
              "      <td>0.000928</td>\n",
              "      <td>0.1820</td>\n",
              "      <td>0.762</td>\n",
              "      <td>152.943</td>\n",
              "      <td>82107</td>\n",
              "      <td>30.34109</td>\n",
              "      <td>6</td>\n",
              "    </tr>\n",
              "    <tr>\n",
              "      <th>5516</th>\n",
              "      <td>0.621</td>\n",
              "      <td>0.655</td>\n",
              "      <td>9</td>\n",
              "      <td>-6.281</td>\n",
              "      <td>0</td>\n",
              "      <td>0.050600</td>\n",
              "      <td>0.0937</td>\n",
              "      <td>0.690</td>\n",
              "      <td>134.167</td>\n",
              "      <td>211653</td>\n",
              "      <td>34.89506</td>\n",
              "      <td>10</td>\n",
              "    </tr>\n",
              "    <tr>\n",
              "      <th>5517</th>\n",
              "      <td>0.562</td>\n",
              "      <td>0.314</td>\n",
              "      <td>10</td>\n",
              "      <td>-15.213</td>\n",
              "      <td>0</td>\n",
              "      <td>0.440000</td>\n",
              "      <td>0.1060</td>\n",
              "      <td>0.571</td>\n",
              "      <td>166.847</td>\n",
              "      <td>189827</td>\n",
              "      <td>21.11763</td>\n",
              "      <td>10</td>\n",
              "    </tr>\n",
              "    <tr>\n",
              "      <th>5518</th>\n",
              "      <td>0.622</td>\n",
              "      <td>0.781</td>\n",
              "      <td>7</td>\n",
              "      <td>-6.080</td>\n",
              "      <td>1</td>\n",
              "      <td>0.000101</td>\n",
              "      <td>0.3830</td>\n",
              "      <td>0.214</td>\n",
              "      <td>120.051</td>\n",
              "      <td>330053</td>\n",
              "      <td>47.13558</td>\n",
              "      <td>11</td>\n",
              "    </tr>\n",
              "    <tr>\n",
              "      <th>5519</th>\n",
              "      <td>0.664</td>\n",
              "      <td>0.739</td>\n",
              "      <td>2</td>\n",
              "      <td>-9.005</td>\n",
              "      <td>1</td>\n",
              "      <td>0.106000</td>\n",
              "      <td>0.3330</td>\n",
              "      <td>0.458</td>\n",
              "      <td>92.257</td>\n",
              "      <td>293973</td>\n",
              "      <td>42.50341</td>\n",
              "      <td>14</td>\n",
              "    </tr>\n",
              "  </tbody>\n",
              "</table>\n",
              "<p>33401 rows × 12 columns</p>\n",
              "</div>\n",
              "      <button class=\"colab-df-convert\" onclick=\"convertToInteractive('df-b8b2c5f5-1563-421d-8f7b-3f1d6ff7fa64')\"\n",
              "              title=\"Convert this dataframe to an interactive table.\"\n",
              "              style=\"display:none;\">\n",
              "        \n",
              "  <svg xmlns=\"http://www.w3.org/2000/svg\" height=\"24px\"viewBox=\"0 0 24 24\"\n",
              "       width=\"24px\">\n",
              "    <path d=\"M0 0h24v24H0V0z\" fill=\"none\"/>\n",
              "    <path d=\"M18.56 5.44l.94 2.06.94-2.06 2.06-.94-2.06-.94-.94-2.06-.94 2.06-2.06.94zm-11 1L8.5 8.5l.94-2.06 2.06-.94-2.06-.94L8.5 2.5l-.94 2.06-2.06.94zm10 10l.94 2.06.94-2.06 2.06-.94-2.06-.94-.94-2.06-.94 2.06-2.06.94z\"/><path d=\"M17.41 7.96l-1.37-1.37c-.4-.4-.92-.59-1.43-.59-.52 0-1.04.2-1.43.59L10.3 9.45l-7.72 7.72c-.78.78-.78 2.05 0 2.83L4 21.41c.39.39.9.59 1.41.59.51 0 1.02-.2 1.41-.59l7.78-7.78 2.81-2.81c.8-.78.8-2.07 0-2.86zM5.41 20L4 18.59l7.72-7.72 1.47 1.35L5.41 20z\"/>\n",
              "  </svg>\n",
              "      </button>\n",
              "      \n",
              "  <style>\n",
              "    .colab-df-container {\n",
              "      display:flex;\n",
              "      flex-wrap:wrap;\n",
              "      gap: 12px;\n",
              "    }\n",
              "\n",
              "    .colab-df-convert {\n",
              "      background-color: #E8F0FE;\n",
              "      border: none;\n",
              "      border-radius: 50%;\n",
              "      cursor: pointer;\n",
              "      display: none;\n",
              "      fill: #1967D2;\n",
              "      height: 32px;\n",
              "      padding: 0 0 0 0;\n",
              "      width: 32px;\n",
              "    }\n",
              "\n",
              "    .colab-df-convert:hover {\n",
              "      background-color: #E2EBFA;\n",
              "      box-shadow: 0px 1px 2px rgba(60, 64, 67, 0.3), 0px 1px 3px 1px rgba(60, 64, 67, 0.15);\n",
              "      fill: #174EA6;\n",
              "    }\n",
              "\n",
              "    [theme=dark] .colab-df-convert {\n",
              "      background-color: #3B4455;\n",
              "      fill: #D2E3FC;\n",
              "    }\n",
              "\n",
              "    [theme=dark] .colab-df-convert:hover {\n",
              "      background-color: #434B5C;\n",
              "      box-shadow: 0px 1px 3px 1px rgba(0, 0, 0, 0.15);\n",
              "      filter: drop-shadow(0px 1px 2px rgba(0, 0, 0, 0.3));\n",
              "      fill: #FFFFFF;\n",
              "    }\n",
              "  </style>\n",
              "\n",
              "      <script>\n",
              "        const buttonEl =\n",
              "          document.querySelector('#df-b8b2c5f5-1563-421d-8f7b-3f1d6ff7fa64 button.colab-df-convert');\n",
              "        buttonEl.style.display =\n",
              "          google.colab.kernel.accessAllowed ? 'block' : 'none';\n",
              "\n",
              "        async function convertToInteractive(key) {\n",
              "          const element = document.querySelector('#df-b8b2c5f5-1563-421d-8f7b-3f1d6ff7fa64');\n",
              "          const dataTable =\n",
              "            await google.colab.kernel.invokeFunction('convertToInteractive',\n",
              "                                                     [key], {});\n",
              "          if (!dataTable) return;\n",
              "\n",
              "          const docLinkHtml = 'Like what you see? Visit the ' +\n",
              "            '<a target=\"_blank\" href=https://colab.research.google.com/notebooks/data_table.ipynb>data table notebook</a>'\n",
              "            + ' to learn more about interactive tables.';\n",
              "          element.innerHTML = '';\n",
              "          dataTable['output_type'] = 'display_data';\n",
              "          await google.colab.output.renderOutput(dataTable, element);\n",
              "          const docLink = document.createElement('div');\n",
              "          docLink.innerHTML = docLinkHtml;\n",
              "          element.appendChild(docLink);\n",
              "        }\n",
              "      </script>\n",
              "    </div>\n",
              "  </div>\n",
              "  "
            ]
          },
          "metadata": {},
          "execution_count": 34
        }
      ]
    },
    {
      "cell_type": "code",
      "source": [
        "#Scaling the final df\n",
        "scale = StandardScaler()\n",
        "scale_X = scale.fit_transform(df_merge.iloc[:,3:15])\n",
        "df_merge.iloc[:,3:15] = scale_X"
      ],
      "metadata": {
        "id": "KG8fjk4d6_cg"
      },
      "execution_count": null,
      "outputs": []
    },
    {
      "cell_type": "markdown",
      "source": [
        "# Train Test Split"
      ],
      "metadata": {
        "id": "YUTQqtQqO3UV"
      }
    },
    {
      "cell_type": "code",
      "source": [
        "X = df_merge.iloc[:,3:15]\n",
        "X.shape"
      ],
      "metadata": {
        "colab": {
          "base_uri": "https://localhost:8080/"
        },
        "id": "BM1ZIY3lQgW0",
        "outputId": "1bdf4a8a-7811-4c1a-af19-00da519e84fd"
      },
      "execution_count": null,
      "outputs": [
        {
          "output_type": "execute_result",
          "data": {
            "text/plain": [
              "(33401, 12)"
            ]
          },
          "metadata": {},
          "execution_count": 41
        }
      ]
    },
    {
      "cell_type": "code",
      "source": [
        "y = df_merge['target']\n",
        "y.shape"
      ],
      "metadata": {
        "colab": {
          "base_uri": "https://localhost:8080/"
        },
        "id": "zGZMPp8NQCGd",
        "outputId": "dd7f9fe0-e687-44cb-91ce-deb0b49084ac"
      },
      "execution_count": null,
      "outputs": [
        {
          "output_type": "execute_result",
          "data": {
            "text/plain": [
              "(33401,)"
            ]
          },
          "metadata": {},
          "execution_count": 42
        }
      ]
    },
    {
      "cell_type": "code",
      "source": [
        "from sklearn.model_selection import train_test_split"
      ],
      "metadata": {
        "id": "V2oSruSsO7bs"
      },
      "execution_count": null,
      "outputs": []
    },
    {
      "cell_type": "code",
      "source": [
        "X_train, X_test, y_train, y_test = train_test_split(X, y, train_size=0.7, shuffle=True, random_state=1)"
      ],
      "metadata": {
        "id": "ig9tCBus8sge"
      },
      "execution_count": null,
      "outputs": []
    },
    {
      "cell_type": "markdown",
      "source": [
        "# Model Training"
      ],
      "metadata": {
        "id": "pT8-XBQg8n-n"
      }
    },
    {
      "cell_type": "code",
      "source": [
        "from sklearn.linear_model import LogisticRegression\n",
        "from sklearn.neighbors import KNeighborsClassifier\n",
        "from sklearn.tree import DecisionTreeClassifier\n",
        "from sklearn.svm import LinearSVC, SVC\n",
        "from sklearn.neural_network import MLPClassifier\n",
        "from sklearn.ensemble import RandomForestClassifier, GradientBoostingClassifier"
      ],
      "metadata": {
        "id": "a8IdTMgEPCJE"
      },
      "execution_count": null,
      "outputs": []
    },
    {
      "cell_type": "code",
      "source": [
        "models = {\n",
        "    \"                   Logistic Regression\": LogisticRegression(),\n",
        "    \"                   K-Nearest Neighbors\": KNeighborsClassifier(),\n",
        "    \"                         Decision Tree\": DecisionTreeClassifier(),\n",
        "    \"Support Vector Machine (Linear Kernel)\": LinearSVC(),\n",
        "    \"   Support Vector Machine (RBF Kernel)\": SVC(),\n",
        "    \"                        Neural Network\": MLPClassifier(),\n",
        "    \"                         Random Forest\": RandomForestClassifier(),\n",
        "    \"                     Gradient Boosting\": GradientBoostingClassifier()\n",
        "}\n",
        "\n",
        "for name, model in models.items():\n",
        "    model.fit(X_train, y_train)\n",
        "    print(name + \" trained.\")"
      ],
      "metadata": {
        "colab": {
          "base_uri": "https://localhost:8080/"
        },
        "id": "1Se49IBLPJY0",
        "outputId": "dfb27c79-df4a-4f00-b990-f8a2b26d704a"
      },
      "execution_count": null,
      "outputs": [
        {
          "output_type": "stream",
          "name": "stdout",
          "text": [
            "                   Logistic Regression trained.\n",
            "                   K-Nearest Neighbors trained.\n",
            "                         Decision Tree trained.\n",
            "Support Vector Machine (Linear Kernel) trained.\n",
            "   Support Vector Machine (RBF Kernel) trained.\n"
          ]
        },
        {
          "output_type": "stream",
          "name": "stderr",
          "text": [
            "/usr/local/lib/python3.7/dist-packages/sklearn/neural_network/_multilayer_perceptron.py:696: ConvergenceWarning: Stochastic Optimizer: Maximum iterations (200) reached and the optimization hasn't converged yet.\n",
            "  ConvergenceWarning,\n"
          ]
        },
        {
          "output_type": "stream",
          "name": "stdout",
          "text": [
            "                        Neural Network trained.\n",
            "                         Random Forest trained.\n",
            "                     Gradient Boosting trained.\n"
          ]
        }
      ]
    },
    {
      "cell_type": "code",
      "source": [
        "for name, model in models.items():\n",
        "    print(name + \": {:.2f}%\".format(model.score(X_test, y_test) * 100))"
      ],
      "metadata": {
        "colab": {
          "base_uri": "https://localhost:8080/"
        },
        "id": "zFd1p-cJRTuM",
        "outputId": "6fd623a1-0735-4369-d04b-96d5616eea20"
      },
      "execution_count": null,
      "outputs": [
        {
          "output_type": "stream",
          "name": "stdout",
          "text": [
            "                   Logistic Regression: 68.86%\n",
            "                   K-Nearest Neighbors: 68.39%\n",
            "                         Decision Tree: 65.05%\n",
            "Support Vector Machine (Linear Kernel): 68.79%\n",
            "   Support Vector Machine (RBF Kernel): 73.97%\n",
            "                        Neural Network: 73.63%\n",
            "                         Random Forest: 74.65%\n",
            "                     Gradient Boosting: 73.32%\n"
          ]
        }
      ]
    },
    {
      "cell_type": "markdown",
      "source": [
        " Random Forest model with 73.78% has the highest score in the validation set\n",
        "\n"
      ],
      "metadata": {
        "id": "XrLy9FjHTdfq"
      }
    }
  ]
}