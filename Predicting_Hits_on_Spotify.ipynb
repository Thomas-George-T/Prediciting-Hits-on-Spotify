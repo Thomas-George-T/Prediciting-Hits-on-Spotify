{
  "nbformat": 4,
  "nbformat_minor": 0,
  "metadata": {
    "colab": {
      "name": "Predicting Hits on Spotify.ipynb",
      "provenance": [],
      "collapsed_sections": []
    },
    "kernelspec": {
      "name": "python3",
      "display_name": "Python 3"
    },
    "language_info": {
      "name": "python"
    }
  },
  "cells": [
    {
      "cell_type": "code",
      "execution_count": null,
      "metadata": {
        "id": "sJVAFAqsVHgS"
      },
      "outputs": [],
      "source": [
        "iimport pandas as pd\n",
        "import numpy as np\n",
        "import seaborn as sns\n",
        "import matplotlib.pyplot as plt"
      ]
    },
    {
      "cell_type": "markdown",
      "source": [
        "# Data Collection"
      ],
      "metadata": {
        "id": "ZFhTwgRq4po-"
      }
    },
    {
      "cell_type": "code",
      "source": [
        "from google.colab import files\n",
        "file = files.upload()  #upload file into google colab session"
      ],
      "metadata": {
        "colab": {
          "resources": {
            "http://localhost:8080/nbextensions/google.colab/files.js": {
              "data": "Ly8gQ29weXJpZ2h0IDIwMTcgR29vZ2xlIExMQwovLwovLyBMaWNlbnNlZCB1bmRlciB0aGUgQXBhY2hlIExpY2Vuc2UsIFZlcnNpb24gMi4wICh0aGUgIkxpY2Vuc2UiKTsKLy8geW91IG1heSBub3QgdXNlIHRoaXMgZmlsZSBleGNlcHQgaW4gY29tcGxpYW5jZSB3aXRoIHRoZSBMaWNlbnNlLgovLyBZb3UgbWF5IG9idGFpbiBhIGNvcHkgb2YgdGhlIExpY2Vuc2UgYXQKLy8KLy8gICAgICBodHRwOi8vd3d3LmFwYWNoZS5vcmcvbGljZW5zZXMvTElDRU5TRS0yLjAKLy8KLy8gVW5sZXNzIHJlcXVpcmVkIGJ5IGFwcGxpY2FibGUgbGF3IG9yIGFncmVlZCB0byBpbiB3cml0aW5nLCBzb2Z0d2FyZQovLyBkaXN0cmlidXRlZCB1bmRlciB0aGUgTGljZW5zZSBpcyBkaXN0cmlidXRlZCBvbiBhbiAiQVMgSVMiIEJBU0lTLAovLyBXSVRIT1VUIFdBUlJBTlRJRVMgT1IgQ09ORElUSU9OUyBPRiBBTlkgS0lORCwgZWl0aGVyIGV4cHJlc3Mgb3IgaW1wbGllZC4KLy8gU2VlIHRoZSBMaWNlbnNlIGZvciB0aGUgc3BlY2lmaWMgbGFuZ3VhZ2UgZ292ZXJuaW5nIHBlcm1pc3Npb25zIGFuZAovLyBsaW1pdGF0aW9ucyB1bmRlciB0aGUgTGljZW5zZS4KCi8qKgogKiBAZmlsZW92ZXJ2aWV3IEhlbHBlcnMgZm9yIGdvb2dsZS5jb2xhYiBQeXRob24gbW9kdWxlLgogKi8KKGZ1bmN0aW9uKHNjb3BlKSB7CmZ1bmN0aW9uIHNwYW4odGV4dCwgc3R5bGVBdHRyaWJ1dGVzID0ge30pIHsKICBjb25zdCBlbGVtZW50ID0gZG9jdW1lbnQuY3JlYXRlRWxlbWVudCgnc3BhbicpOwogIGVsZW1lbnQudGV4dENvbnRlbnQgPSB0ZXh0OwogIGZvciAoY29uc3Qga2V5IG9mIE9iamVjdC5rZXlzKHN0eWxlQXR0cmlidXRlcykpIHsKICAgIGVsZW1lbnQuc3R5bGVba2V5XSA9IHN0eWxlQXR0cmlidXRlc1trZXldOwogIH0KICByZXR1cm4gZWxlbWVudDsKfQoKLy8gTWF4IG51bWJlciBvZiBieXRlcyB3aGljaCB3aWxsIGJlIHVwbG9hZGVkIGF0IGEgdGltZS4KY29uc3QgTUFYX1BBWUxPQURfU0laRSA9IDEwMCAqIDEwMjQ7CgpmdW5jdGlvbiBfdXBsb2FkRmlsZXMoaW5wdXRJZCwgb3V0cHV0SWQpIHsKICBjb25zdCBzdGVwcyA9IHVwbG9hZEZpbGVzU3RlcChpbnB1dElkLCBvdXRwdXRJZCk7CiAgY29uc3Qgb3V0cHV0RWxlbWVudCA9IGRvY3VtZW50LmdldEVsZW1lbnRCeUlkKG91dHB1dElkKTsKICAvLyBDYWNoZSBzdGVwcyBvbiB0aGUgb3V0cHV0RWxlbWVudCB0byBtYWtlIGl0IGF2YWlsYWJsZSBmb3IgdGhlIG5leHQgY2FsbAogIC8vIHRvIHVwbG9hZEZpbGVzQ29udGludWUgZnJvbSBQeXRob24uCiAgb3V0cHV0RWxlbWVudC5zdGVwcyA9IHN0ZXBzOwoKICByZXR1cm4gX3VwbG9hZEZpbGVzQ29udGludWUob3V0cHV0SWQpOwp9CgovLyBUaGlzIGlzIHJvdWdobHkgYW4gYXN5bmMgZ2VuZXJhdG9yIChub3Qgc3VwcG9ydGVkIGluIHRoZSBicm93c2VyIHlldCksCi8vIHdoZXJlIHRoZXJlIGFyZSBtdWx0aXBsZSBhc3luY2hyb25vdXMgc3RlcHMgYW5kIHRoZSBQeXRob24gc2lkZSBpcyBnb2luZwovLyB0byBwb2xsIGZvciBjb21wbGV0aW9uIG9mIGVhY2ggc3RlcC4KLy8gVGhpcyB1c2VzIGEgUHJvbWlzZSB0byBibG9jayB0aGUgcHl0aG9uIHNpZGUgb24gY29tcGxldGlvbiBvZiBlYWNoIHN0ZXAsCi8vIHRoZW4gcGFzc2VzIHRoZSByZXN1bHQgb2YgdGhlIHByZXZpb3VzIHN0ZXAgYXMgdGhlIGlucHV0IHRvIHRoZSBuZXh0IHN0ZXAuCmZ1bmN0aW9uIF91cGxvYWRGaWxlc0NvbnRpbnVlKG91dHB1dElkKSB7CiAgY29uc3Qgb3V0cHV0RWxlbWVudCA9IGRvY3VtZW50LmdldEVsZW1lbnRCeUlkKG91dHB1dElkKTsKICBjb25zdCBzdGVwcyA9IG91dHB1dEVsZW1lbnQuc3RlcHM7CgogIGNvbnN0IG5leHQgPSBzdGVwcy5uZXh0KG91dHB1dEVsZW1lbnQubGFzdFByb21pc2VWYWx1ZSk7CiAgcmV0dXJuIFByb21pc2UucmVzb2x2ZShuZXh0LnZhbHVlLnByb21pc2UpLnRoZW4oKHZhbHVlKSA9PiB7CiAgICAvLyBDYWNoZSB0aGUgbGFzdCBwcm9taXNlIHZhbHVlIHRvIG1ha2UgaXQgYXZhaWxhYmxlIHRvIHRoZSBuZXh0CiAgICAvLyBzdGVwIG9mIHRoZSBnZW5lcmF0b3IuCiAgICBvdXRwdXRFbGVtZW50Lmxhc3RQcm9taXNlVmFsdWUgPSB2YWx1ZTsKICAgIHJldHVybiBuZXh0LnZhbHVlLnJlc3BvbnNlOwogIH0pOwp9CgovKioKICogR2VuZXJhdG9yIGZ1bmN0aW9uIHdoaWNoIGlzIGNhbGxlZCBiZXR3ZWVuIGVhY2ggYXN5bmMgc3RlcCBvZiB0aGUgdXBsb2FkCiAqIHByb2Nlc3MuCiAqIEBwYXJhbSB7c3RyaW5nfSBpbnB1dElkIEVsZW1lbnQgSUQgb2YgdGhlIGlucHV0IGZpbGUgcGlja2VyIGVsZW1lbnQuCiAqIEBwYXJhbSB7c3RyaW5nfSBvdXRwdXRJZCBFbGVtZW50IElEIG9mIHRoZSBvdXRwdXQgZGlzcGxheS4KICogQHJldHVybiB7IUl0ZXJhYmxlPCFPYmplY3Q+fSBJdGVyYWJsZSBvZiBuZXh0IHN0ZXBzLgogKi8KZnVuY3Rpb24qIHVwbG9hZEZpbGVzU3RlcChpbnB1dElkLCBvdXRwdXRJZCkgewogIGNvbnN0IGlucHV0RWxlbWVudCA9IGRvY3VtZW50LmdldEVsZW1lbnRCeUlkKGlucHV0SWQpOwogIGlucHV0RWxlbWVudC5kaXNhYmxlZCA9IGZhbHNlOwoKICBjb25zdCBvdXRwdXRFbGVtZW50ID0gZG9jdW1lbnQuZ2V0RWxlbWVudEJ5SWQob3V0cHV0SWQpOwogIG91dHB1dEVsZW1lbnQuaW5uZXJIVE1MID0gJyc7CgogIGNvbnN0IHBpY2tlZFByb21pc2UgPSBuZXcgUHJvbWlzZSgocmVzb2x2ZSkgPT4gewogICAgaW5wdXRFbGVtZW50LmFkZEV2ZW50TGlzdGVuZXIoJ2NoYW5nZScsIChlKSA9PiB7CiAgICAgIHJlc29sdmUoZS50YXJnZXQuZmlsZXMpOwogICAgfSk7CiAgfSk7CgogIGNvbnN0IGNhbmNlbCA9IGRvY3VtZW50LmNyZWF0ZUVsZW1lbnQoJ2J1dHRvbicpOwogIGlucHV0RWxlbWVudC5wYXJlbnRFbGVtZW50LmFwcGVuZENoaWxkKGNhbmNlbCk7CiAgY2FuY2VsLnRleHRDb250ZW50ID0gJ0NhbmNlbCB1cGxvYWQnOwogIGNvbnN0IGNhbmNlbFByb21pc2UgPSBuZXcgUHJvbWlzZSgocmVzb2x2ZSkgPT4gewogICAgY2FuY2VsLm9uY2xpY2sgPSAoKSA9PiB7CiAgICAgIHJlc29sdmUobnVsbCk7CiAgICB9OwogIH0pOwoKICAvLyBXYWl0IGZvciB0aGUgdXNlciB0byBwaWNrIHRoZSBmaWxlcy4KICBjb25zdCBmaWxlcyA9IHlpZWxkIHsKICAgIHByb21pc2U6IFByb21pc2UucmFjZShbcGlja2VkUHJvbWlzZSwgY2FuY2VsUHJvbWlzZV0pLAogICAgcmVzcG9uc2U6IHsKICAgICAgYWN0aW9uOiAnc3RhcnRpbmcnLAogICAgfQogIH07CgogIGNhbmNlbC5yZW1vdmUoKTsKCiAgLy8gRGlzYWJsZSB0aGUgaW5wdXQgZWxlbWVudCBzaW5jZSBmdXJ0aGVyIHBpY2tzIGFyZSBub3QgYWxsb3dlZC4KICBpbnB1dEVsZW1lbnQuZGlzYWJsZWQgPSB0cnVlOwoKICBpZiAoIWZpbGVzKSB7CiAgICByZXR1cm4gewogICAgICByZXNwb25zZTogewogICAgICAgIGFjdGlvbjogJ2NvbXBsZXRlJywKICAgICAgfQogICAgfTsKICB9CgogIGZvciAoY29uc3QgZmlsZSBvZiBmaWxlcykgewogICAgY29uc3QgbGkgPSBkb2N1bWVudC5jcmVhdGVFbGVtZW50KCdsaScpOwogICAgbGkuYXBwZW5kKHNwYW4oZmlsZS5uYW1lLCB7Zm9udFdlaWdodDogJ2JvbGQnfSkpOwogICAgbGkuYXBwZW5kKHNwYW4oCiAgICAgICAgYCgke2ZpbGUudHlwZSB8fCAnbi9hJ30pIC0gJHtmaWxlLnNpemV9IGJ5dGVzLCBgICsKICAgICAgICBgbGFzdCBtb2RpZmllZDogJHsKICAgICAgICAgICAgZmlsZS5sYXN0TW9kaWZpZWREYXRlID8gZmlsZS5sYXN0TW9kaWZpZWREYXRlLnRvTG9jYWxlRGF0ZVN0cmluZygpIDoKICAgICAgICAgICAgICAgICAgICAgICAgICAgICAgICAgICAgJ24vYSd9IC0gYCkpOwogICAgY29uc3QgcGVyY2VudCA9IHNwYW4oJzAlIGRvbmUnKTsKICAgIGxpLmFwcGVuZENoaWxkKHBlcmNlbnQpOwoKICAgIG91dHB1dEVsZW1lbnQuYXBwZW5kQ2hpbGQobGkpOwoKICAgIGNvbnN0IGZpbGVEYXRhUHJvbWlzZSA9IG5ldyBQcm9taXNlKChyZXNvbHZlKSA9PiB7CiAgICAgIGNvbnN0IHJlYWRlciA9IG5ldyBGaWxlUmVhZGVyKCk7CiAgICAgIHJlYWRlci5vbmxvYWQgPSAoZSkgPT4gewogICAgICAgIHJlc29sdmUoZS50YXJnZXQucmVzdWx0KTsKICAgICAgfTsKICAgICAgcmVhZGVyLnJlYWRBc0FycmF5QnVmZmVyKGZpbGUpOwogICAgfSk7CiAgICAvLyBXYWl0IGZvciB0aGUgZGF0YSB0byBiZSByZWFkeS4KICAgIGxldCBmaWxlRGF0YSA9IHlpZWxkIHsKICAgICAgcHJvbWlzZTogZmlsZURhdGFQcm9taXNlLAogICAgICByZXNwb25zZTogewogICAgICAgIGFjdGlvbjogJ2NvbnRpbnVlJywKICAgICAgfQogICAgfTsKCiAgICAvLyBVc2UgYSBjaHVua2VkIHNlbmRpbmcgdG8gYXZvaWQgbWVzc2FnZSBzaXplIGxpbWl0cy4gU2VlIGIvNjIxMTU2NjAuCiAgICBsZXQgcG9zaXRpb24gPSAwOwogICAgZG8gewogICAgICBjb25zdCBsZW5ndGggPSBNYXRoLm1pbihmaWxlRGF0YS5ieXRlTGVuZ3RoIC0gcG9zaXRpb24sIE1BWF9QQVlMT0FEX1NJWkUpOwogICAgICBjb25zdCBjaHVuayA9IG5ldyBVaW50OEFycmF5KGZpbGVEYXRhLCBwb3NpdGlvbiwgbGVuZ3RoKTsKICAgICAgcG9zaXRpb24gKz0gbGVuZ3RoOwoKICAgICAgY29uc3QgYmFzZTY0ID0gYnRvYShTdHJpbmcuZnJvbUNoYXJDb2RlLmFwcGx5KG51bGwsIGNodW5rKSk7CiAgICAgIHlpZWxkIHsKICAgICAgICByZXNwb25zZTogewogICAgICAgICAgYWN0aW9uOiAnYXBwZW5kJywKICAgICAgICAgIGZpbGU6IGZpbGUubmFtZSwKICAgICAgICAgIGRhdGE6IGJhc2U2NCwKICAgICAgICB9LAogICAgICB9OwoKICAgICAgbGV0IHBlcmNlbnREb25lID0gZmlsZURhdGEuYnl0ZUxlbmd0aCA9PT0gMCA/CiAgICAgICAgICAxMDAgOgogICAgICAgICAgTWF0aC5yb3VuZCgocG9zaXRpb24gLyBmaWxlRGF0YS5ieXRlTGVuZ3RoKSAqIDEwMCk7CiAgICAgIHBlcmNlbnQudGV4dENvbnRlbnQgPSBgJHtwZXJjZW50RG9uZX0lIGRvbmVgOwoKICAgIH0gd2hpbGUgKHBvc2l0aW9uIDwgZmlsZURhdGEuYnl0ZUxlbmd0aCk7CiAgfQoKICAvLyBBbGwgZG9uZS4KICB5aWVsZCB7CiAgICByZXNwb25zZTogewogICAgICBhY3Rpb246ICdjb21wbGV0ZScsCiAgICB9CiAgfTsKfQoKc2NvcGUuZ29vZ2xlID0gc2NvcGUuZ29vZ2xlIHx8IHt9OwpzY29wZS5nb29nbGUuY29sYWIgPSBzY29wZS5nb29nbGUuY29sYWIgfHwge307CnNjb3BlLmdvb2dsZS5jb2xhYi5fZmlsZXMgPSB7CiAgX3VwbG9hZEZpbGVzLAogIF91cGxvYWRGaWxlc0NvbnRpbnVlLAp9Owp9KShzZWxmKTsK",
              "ok": true,
              "headers": [
                [
                  "content-type",
                  "application/javascript"
                ]
              ],
              "status": 200,
              "status_text": ""
            }
          },
          "base_uri": "https://localhost:8080/",
          "height": 250
        },
        "id": "p9t_N2kwap3Q",
        "outputId": "4d84de81-a587-4b4e-d817-1d9dfcec1904"
      },
      "execution_count": null,
      "outputs": [
        {
          "output_type": "display_data",
          "data": {
            "text/plain": [
              "<IPython.core.display.HTML object>"
            ],
            "text/html": [
              "\n",
              "     <input type=\"file\" id=\"files-c2653a80-d174-4547-9d68-2e9bde2fee31\" name=\"files[]\" multiple disabled\n",
              "        style=\"border:none\" />\n",
              "     <output id=\"result-c2653a80-d174-4547-9d68-2e9bde2fee31\">\n",
              "      Upload widget is only available when the cell has been executed in the\n",
              "      current browser session. Please rerun this cell to enable.\n",
              "      </output>\n",
              "      <script src=\"/nbextensions/google.colab/files.js\"></script> "
            ]
          },
          "metadata": {}
        },
        {
          "output_type": "stream",
          "name": "stdout",
          "text": [
            "Saving dataset-of-00s.csv to dataset-of-00s.csv\n",
            "Saving dataset-of-10s.csv to dataset-of-10s.csv\n",
            "Saving dataset-of-60s.csv to dataset-of-60s.csv\n",
            "Saving dataset-of-70s.csv to dataset-of-70s.csv\n",
            "Saving dataset-of-80s.csv to dataset-of-80s.csv\n",
            "Saving dataset-of-90s.csv to dataset-of-90s.csv\n"
          ]
        }
      ]
    },
    {
      "cell_type": "code",
      "source": [
        "df_00 = pd.read_csv(\"dataset-of-00s.csv\") \n",
        "df_10 = pd.read_csv(\"dataset-of-10s.csv\")\n",
        "df_60 = pd.read_csv(\"dataset-of-60s.csv\")\n",
        "df_70 = pd.read_csv(\"dataset-of-70s.csv\")\n",
        "df_80 = pd.read_csv(\"dataset-of-80s.csv\")\n",
        "df_90 = pd.read_csv(\"dataset-of-90s.csv\")\n",
        "df = pd.concat([df_00, df_10, df_60, df_70, df_80, df_90])\n",
        "df.head()"
      ],
      "metadata": {
        "id": "_Eu6BrGJatgo",
        "colab": {
          "base_uri": "https://localhost:8080/",
          "height": 409
        },
        "outputId": "609636da-7a01-41f4-c882-58618bd41453"
      },
      "execution_count": null,
      "outputs": [
        {
          "output_type": "execute_result",
          "data": {
            "text/plain": [
              "                      track             artist  \\\n",
              "0                 Lucky Man  Montgomery Gentry   \n",
              "1            On The Hotline       Pretty Ricky   \n",
              "2        Clouds Of Dementia         Candlemass   \n",
              "3  Heavy Metal, Raise Hell!      Zwartketterij   \n",
              "4           I Got A Feelin'   Billy Currington   \n",
              "\n",
              "                                    uri  danceability  energy  key  loudness  \\\n",
              "0  spotify:track:4GiXBCUF7H6YfNQsnBRIzl         0.578   0.471    4    -7.270   \n",
              "1  spotify:track:1zyqZONW985Cs4osz9wlsu         0.704   0.854   10    -5.477   \n",
              "2  spotify:track:6cHZf7RbxXCKwEkgAZT4mY         0.162   0.836    9    -3.009   \n",
              "3  spotify:track:2IjBPp2vMeX7LggzRN3iSX         0.188   0.994    4    -3.745   \n",
              "4  spotify:track:1tF370eYXUcWwkIvaq3IGz         0.630   0.764    2    -4.353   \n",
              "\n",
              "   mode  speechiness  acousticness  instrumentalness  liveness  valence  \\\n",
              "0     1       0.0289      0.368000           0.00000     0.159    0.532   \n",
              "1     0       0.1830      0.018500           0.00000     0.148    0.688   \n",
              "2     1       0.0473      0.000111           0.00457     0.174    0.300   \n",
              "3     1       0.1660      0.000007           0.07840     0.192    0.333   \n",
              "4     1       0.0275      0.363000           0.00000     0.125    0.631   \n",
              "\n",
              "     tempo  duration_ms  time_signature  chorus_hit  sections  target  \n",
              "0  133.061       196707               4    30.88059        13       1  \n",
              "1   92.988       242587               4    41.51106        10       1  \n",
              "2   86.964       338893               4    65.32887        13       0  \n",
              "3  148.440       255667               4    58.59528         9       0  \n",
              "4  112.098       193760               4    22.62384        10       1  "
            ],
            "text/html": [
              "\n",
              "  <div id=\"df-1cb617d8-ebc9-4e83-a80c-3c7c01abaa27\">\n",
              "    <div class=\"colab-df-container\">\n",
              "      <div>\n",
              "<style scoped>\n",
              "    .dataframe tbody tr th:only-of-type {\n",
              "        vertical-align: middle;\n",
              "    }\n",
              "\n",
              "    .dataframe tbody tr th {\n",
              "        vertical-align: top;\n",
              "    }\n",
              "\n",
              "    .dataframe thead th {\n",
              "        text-align: right;\n",
              "    }\n",
              "</style>\n",
              "<table border=\"1\" class=\"dataframe\">\n",
              "  <thead>\n",
              "    <tr style=\"text-align: right;\">\n",
              "      <th></th>\n",
              "      <th>track</th>\n",
              "      <th>artist</th>\n",
              "      <th>uri</th>\n",
              "      <th>danceability</th>\n",
              "      <th>energy</th>\n",
              "      <th>key</th>\n",
              "      <th>loudness</th>\n",
              "      <th>mode</th>\n",
              "      <th>speechiness</th>\n",
              "      <th>acousticness</th>\n",
              "      <th>instrumentalness</th>\n",
              "      <th>liveness</th>\n",
              "      <th>valence</th>\n",
              "      <th>tempo</th>\n",
              "      <th>duration_ms</th>\n",
              "      <th>time_signature</th>\n",
              "      <th>chorus_hit</th>\n",
              "      <th>sections</th>\n",
              "      <th>target</th>\n",
              "    </tr>\n",
              "  </thead>\n",
              "  <tbody>\n",
              "    <tr>\n",
              "      <th>0</th>\n",
              "      <td>Lucky Man</td>\n",
              "      <td>Montgomery Gentry</td>\n",
              "      <td>spotify:track:4GiXBCUF7H6YfNQsnBRIzl</td>\n",
              "      <td>0.578</td>\n",
              "      <td>0.471</td>\n",
              "      <td>4</td>\n",
              "      <td>-7.270</td>\n",
              "      <td>1</td>\n",
              "      <td>0.0289</td>\n",
              "      <td>0.368000</td>\n",
              "      <td>0.00000</td>\n",
              "      <td>0.159</td>\n",
              "      <td>0.532</td>\n",
              "      <td>133.061</td>\n",
              "      <td>196707</td>\n",
              "      <td>4</td>\n",
              "      <td>30.88059</td>\n",
              "      <td>13</td>\n",
              "      <td>1</td>\n",
              "    </tr>\n",
              "    <tr>\n",
              "      <th>1</th>\n",
              "      <td>On The Hotline</td>\n",
              "      <td>Pretty Ricky</td>\n",
              "      <td>spotify:track:1zyqZONW985Cs4osz9wlsu</td>\n",
              "      <td>0.704</td>\n",
              "      <td>0.854</td>\n",
              "      <td>10</td>\n",
              "      <td>-5.477</td>\n",
              "      <td>0</td>\n",
              "      <td>0.1830</td>\n",
              "      <td>0.018500</td>\n",
              "      <td>0.00000</td>\n",
              "      <td>0.148</td>\n",
              "      <td>0.688</td>\n",
              "      <td>92.988</td>\n",
              "      <td>242587</td>\n",
              "      <td>4</td>\n",
              "      <td>41.51106</td>\n",
              "      <td>10</td>\n",
              "      <td>1</td>\n",
              "    </tr>\n",
              "    <tr>\n",
              "      <th>2</th>\n",
              "      <td>Clouds Of Dementia</td>\n",
              "      <td>Candlemass</td>\n",
              "      <td>spotify:track:6cHZf7RbxXCKwEkgAZT4mY</td>\n",
              "      <td>0.162</td>\n",
              "      <td>0.836</td>\n",
              "      <td>9</td>\n",
              "      <td>-3.009</td>\n",
              "      <td>1</td>\n",
              "      <td>0.0473</td>\n",
              "      <td>0.000111</td>\n",
              "      <td>0.00457</td>\n",
              "      <td>0.174</td>\n",
              "      <td>0.300</td>\n",
              "      <td>86.964</td>\n",
              "      <td>338893</td>\n",
              "      <td>4</td>\n",
              "      <td>65.32887</td>\n",
              "      <td>13</td>\n",
              "      <td>0</td>\n",
              "    </tr>\n",
              "    <tr>\n",
              "      <th>3</th>\n",
              "      <td>Heavy Metal, Raise Hell!</td>\n",
              "      <td>Zwartketterij</td>\n",
              "      <td>spotify:track:2IjBPp2vMeX7LggzRN3iSX</td>\n",
              "      <td>0.188</td>\n",
              "      <td>0.994</td>\n",
              "      <td>4</td>\n",
              "      <td>-3.745</td>\n",
              "      <td>1</td>\n",
              "      <td>0.1660</td>\n",
              "      <td>0.000007</td>\n",
              "      <td>0.07840</td>\n",
              "      <td>0.192</td>\n",
              "      <td>0.333</td>\n",
              "      <td>148.440</td>\n",
              "      <td>255667</td>\n",
              "      <td>4</td>\n",
              "      <td>58.59528</td>\n",
              "      <td>9</td>\n",
              "      <td>0</td>\n",
              "    </tr>\n",
              "    <tr>\n",
              "      <th>4</th>\n",
              "      <td>I Got A Feelin'</td>\n",
              "      <td>Billy Currington</td>\n",
              "      <td>spotify:track:1tF370eYXUcWwkIvaq3IGz</td>\n",
              "      <td>0.630</td>\n",
              "      <td>0.764</td>\n",
              "      <td>2</td>\n",
              "      <td>-4.353</td>\n",
              "      <td>1</td>\n",
              "      <td>0.0275</td>\n",
              "      <td>0.363000</td>\n",
              "      <td>0.00000</td>\n",
              "      <td>0.125</td>\n",
              "      <td>0.631</td>\n",
              "      <td>112.098</td>\n",
              "      <td>193760</td>\n",
              "      <td>4</td>\n",
              "      <td>22.62384</td>\n",
              "      <td>10</td>\n",
              "      <td>1</td>\n",
              "    </tr>\n",
              "  </tbody>\n",
              "</table>\n",
              "</div>\n",
              "      <button class=\"colab-df-convert\" onclick=\"convertToInteractive('df-1cb617d8-ebc9-4e83-a80c-3c7c01abaa27')\"\n",
              "              title=\"Convert this dataframe to an interactive table.\"\n",
              "              style=\"display:none;\">\n",
              "        \n",
              "  <svg xmlns=\"http://www.w3.org/2000/svg\" height=\"24px\"viewBox=\"0 0 24 24\"\n",
              "       width=\"24px\">\n",
              "    <path d=\"M0 0h24v24H0V0z\" fill=\"none\"/>\n",
              "    <path d=\"M18.56 5.44l.94 2.06.94-2.06 2.06-.94-2.06-.94-.94-2.06-.94 2.06-2.06.94zm-11 1L8.5 8.5l.94-2.06 2.06-.94-2.06-.94L8.5 2.5l-.94 2.06-2.06.94zm10 10l.94 2.06.94-2.06 2.06-.94-2.06-.94-.94-2.06-.94 2.06-2.06.94z\"/><path d=\"M17.41 7.96l-1.37-1.37c-.4-.4-.92-.59-1.43-.59-.52 0-1.04.2-1.43.59L10.3 9.45l-7.72 7.72c-.78.78-.78 2.05 0 2.83L4 21.41c.39.39.9.59 1.41.59.51 0 1.02-.2 1.41-.59l7.78-7.78 2.81-2.81c.8-.78.8-2.07 0-2.86zM5.41 20L4 18.59l7.72-7.72 1.47 1.35L5.41 20z\"/>\n",
              "  </svg>\n",
              "      </button>\n",
              "      \n",
              "  <style>\n",
              "    .colab-df-container {\n",
              "      display:flex;\n",
              "      flex-wrap:wrap;\n",
              "      gap: 12px;\n",
              "    }\n",
              "\n",
              "    .colab-df-convert {\n",
              "      background-color: #E8F0FE;\n",
              "      border: none;\n",
              "      border-radius: 50%;\n",
              "      cursor: pointer;\n",
              "      display: none;\n",
              "      fill: #1967D2;\n",
              "      height: 32px;\n",
              "      padding: 0 0 0 0;\n",
              "      width: 32px;\n",
              "    }\n",
              "\n",
              "    .colab-df-convert:hover {\n",
              "      background-color: #E2EBFA;\n",
              "      box-shadow: 0px 1px 2px rgba(60, 64, 67, 0.3), 0px 1px 3px 1px rgba(60, 64, 67, 0.15);\n",
              "      fill: #174EA6;\n",
              "    }\n",
              "\n",
              "    [theme=dark] .colab-df-convert {\n",
              "      background-color: #3B4455;\n",
              "      fill: #D2E3FC;\n",
              "    }\n",
              "\n",
              "    [theme=dark] .colab-df-convert:hover {\n",
              "      background-color: #434B5C;\n",
              "      box-shadow: 0px 1px 3px 1px rgba(0, 0, 0, 0.15);\n",
              "      filter: drop-shadow(0px 1px 2px rgba(0, 0, 0, 0.3));\n",
              "      fill: #FFFFFF;\n",
              "    }\n",
              "  </style>\n",
              "\n",
              "      <script>\n",
              "        const buttonEl =\n",
              "          document.querySelector('#df-1cb617d8-ebc9-4e83-a80c-3c7c01abaa27 button.colab-df-convert');\n",
              "        buttonEl.style.display =\n",
              "          google.colab.kernel.accessAllowed ? 'block' : 'none';\n",
              "\n",
              "        async function convertToInteractive(key) {\n",
              "          const element = document.querySelector('#df-1cb617d8-ebc9-4e83-a80c-3c7c01abaa27');\n",
              "          const dataTable =\n",
              "            await google.colab.kernel.invokeFunction('convertToInteractive',\n",
              "                                                     [key], {});\n",
              "          if (!dataTable) return;\n",
              "\n",
              "          const docLinkHtml = 'Like what you see? Visit the ' +\n",
              "            '<a target=\"_blank\" href=https://colab.research.google.com/notebooks/data_table.ipynb>data table notebook</a>'\n",
              "            + ' to learn more about interactive tables.';\n",
              "          element.innerHTML = '';\n",
              "          dataTable['output_type'] = 'display_data';\n",
              "          await google.colab.output.renderOutput(dataTable, element);\n",
              "          const docLink = document.createElement('div');\n",
              "          docLink.innerHTML = docLinkHtml;\n",
              "          element.appendChild(docLink);\n",
              "        }\n",
              "      </script>\n",
              "    </div>\n",
              "  </div>\n",
              "  "
            ]
          },
          "metadata": {},
          "execution_count": 3
        }
      ]
    },
    {
      "cell_type": "markdown",
      "source": [
        "# Preprocessing"
      ],
      "metadata": {
        "id": "UabFu0Pw6n-b"
      }
    },
    {
      "cell_type": "markdown",
      "source": [
        "Finding the number of rows and columns"
      ],
      "metadata": {
        "id": "HkjFsHn56e-L"
      }
    },
    {
      "cell_type": "code",
      "source": [
        "df.shape"
      ],
      "metadata": {
        "id": "5ID6Qjz16TGL",
        "colab": {
          "base_uri": "https://localhost:8080/"
        },
        "outputId": "2615fc50-e5d6-4202-98d5-65d9dfa73297"
      },
      "execution_count": null,
      "outputs": [
        {
          "output_type": "execute_result",
          "data": {
            "text/plain": [
              "(41106, 19)"
            ]
          },
          "metadata": {},
          "execution_count": 4
        }
      ]
    },
    {
      "cell_type": "markdown",
      "source": [
        "Exploring data types and checking for nulls"
      ],
      "metadata": {
        "id": "p0TkXcOp6iwa"
      }
    },
    {
      "cell_type": "code",
      "source": [
        "df.info()"
      ],
      "metadata": {
        "id": "dK4wU1t9ck5Z",
        "colab": {
          "base_uri": "https://localhost:8080/"
        },
        "outputId": "0c145b36-f528-4abc-87c7-2de4a0b4532c"
      },
      "execution_count": null,
      "outputs": [
        {
          "output_type": "stream",
          "name": "stdout",
          "text": [
            "<class 'pandas.core.frame.DataFrame'>\n",
            "Int64Index: 41106 entries, 0 to 5519\n",
            "Data columns (total 19 columns):\n",
            " #   Column            Non-Null Count  Dtype  \n",
            "---  ------            --------------  -----  \n",
            " 0   track             41106 non-null  object \n",
            " 1   artist            41106 non-null  object \n",
            " 2   uri               41106 non-null  object \n",
            " 3   danceability      41106 non-null  float64\n",
            " 4   energy            41106 non-null  float64\n",
            " 5   key               41106 non-null  int64  \n",
            " 6   loudness          41106 non-null  float64\n",
            " 7   mode              41106 non-null  int64  \n",
            " 8   speechiness       41106 non-null  float64\n",
            " 9   acousticness      41106 non-null  float64\n",
            " 10  instrumentalness  41106 non-null  float64\n",
            " 11  liveness          41106 non-null  float64\n",
            " 12  valence           41106 non-null  float64\n",
            " 13  tempo             41106 non-null  float64\n",
            " 14  duration_ms       41106 non-null  int64  \n",
            " 15  time_signature    41106 non-null  int64  \n",
            " 16  chorus_hit        41106 non-null  float64\n",
            " 17  sections          41106 non-null  int64  \n",
            " 18  target            41106 non-null  int64  \n",
            "dtypes: float64(10), int64(6), object(3)\n",
            "memory usage: 6.3+ MB\n"
          ]
        }
      ]
    },
    {
      "cell_type": "markdown",
      "source": [
        "Checking for nulls again. Making doubly sure"
      ],
      "metadata": {
        "id": "sqHgdlUf6zB4"
      }
    },
    {
      "cell_type": "code",
      "source": [
        "df.isnull().sum()"
      ],
      "metadata": {
        "id": "SL7OQreU6vgD",
        "colab": {
          "base_uri": "https://localhost:8080/"
        },
        "outputId": "46762202-1ada-49ff-ad4f-1282c6f5dab2"
      },
      "execution_count": null,
      "outputs": [
        {
          "output_type": "execute_result",
          "data": {
            "text/plain": [
              "track               0\n",
              "artist              0\n",
              "uri                 0\n",
              "danceability        0\n",
              "energy              0\n",
              "key                 0\n",
              "loudness            0\n",
              "mode                0\n",
              "speechiness         0\n",
              "acousticness        0\n",
              "instrumentalness    0\n",
              "liveness            0\n",
              "valence             0\n",
              "tempo               0\n",
              "duration_ms         0\n",
              "time_signature      0\n",
              "chorus_hit          0\n",
              "sections            0\n",
              "target              0\n",
              "dtype: int64"
            ]
          },
          "metadata": {},
          "execution_count": 6
        }
      ]
    },
    {
      "cell_type": "markdown",
      "source": [
        "We can see that there are no null values in the dataset. Taking the rough statistics of the data."
      ],
      "metadata": {
        "id": "uy2WDLw44ZrR"
      }
    },
    {
      "cell_type": "code",
      "source": [
        "df['time_signature'].describe()"
      ],
      "metadata": {
        "id": "GfBBQ-hb2-4N",
        "colab": {
          "base_uri": "https://localhost:8080/"
        },
        "outputId": "81ed690a-8ee3-4e59-d0e4-f9ca0962017a"
      },
      "execution_count": null,
      "outputs": [
        {
          "output_type": "execute_result",
          "data": {
            "text/plain": [
              "count    41106.000000\n",
              "mean         3.893689\n",
              "std          0.423073\n",
              "min          0.000000\n",
              "25%          4.000000\n",
              "50%          4.000000\n",
              "75%          4.000000\n",
              "max          5.000000\n",
              "Name: time_signature, dtype: float64"
            ]
          },
          "metadata": {},
          "execution_count": 7
        }
      ]
    },
    {
      "cell_type": "code",
      "source": [
        "df = df.drop(axis=1, labels='time_signature')"
      ],
      "metadata": {
        "id": "MWkuOLbA-uJU"
      },
      "execution_count": null,
      "outputs": []
    },
    {
      "cell_type": "markdown",
      "source": [
        "Dropping the column time signature as most values are 4.\n"
      ],
      "metadata": {
        "id": "jnpHfslhomj6"
      }
    },
    {
      "cell_type": "code",
      "source": [
        "#Scaling the data\n",
        "from sklearn.preprocessing import StandardScaler\n",
        "scale = StandardScaler()\n",
        "\n",
        "df_X = df.iloc[:,3:17]\n",
        "\n",
        "\n",
        "df_scaled = scale.fit_transform(df_X)\n",
        "df_scaled = pd.DataFrame(df_scaled)\n",
        "df_scaled.columns = df_X.columns\n",
        "df_scaled"
      ],
      "metadata": {
        "id": "SNG6fqGyA7im",
        "colab": {
          "base_uri": "https://localhost:8080/",
          "height": 487
        },
        "outputId": "b1d33bf5-7949-4a2f-8354-4bae3c2840eb"
      },
      "execution_count": null,
      "outputs": [
        {
          "output_type": "execute_result",
          "data": {
            "text/plain": [
              "       danceability    energy       key  loudness      mode  speechiness  \\\n",
              "0          0.215416 -0.429668 -0.343315  0.555679  0.665030    -0.511673   \n",
              "1          0.924004  1.086412  1.354030  0.893245 -1.503691     1.277886   \n",
              "2         -2.124046  1.015160  1.071139  1.357892  0.665030    -0.297994   \n",
              "3         -1.977830  1.640592 -0.343315  1.219326  0.665030     1.080465   \n",
              "4          0.507849  0.730153 -0.909096  1.104859  0.665030    -0.527931   \n",
              "...             ...       ...       ...       ...       ...          ...   \n",
              "41101     -0.808099  0.852864  1.071139  0.781602 -1.503691     1.870147   \n",
              "41102      0.457236  0.298684  1.071139  0.741877 -1.503691    -0.488447   \n",
              "41103      0.125437 -1.051141  1.354030 -0.939738 -1.503691    -0.501221   \n",
              "41104      0.462860  0.797446  0.505358  0.779719  0.665030    -0.419930   \n",
              "41105      0.699055  0.631192 -0.909096  0.229033  0.665030    -0.543028   \n",
              "\n",
              "       acousticness  instrumentalness  liveness   valence     tempo  \\\n",
              "0          0.011220         -0.508740 -0.245926 -0.039055  0.471597   \n",
              "1         -1.020031         -0.508740 -0.309525  0.544503 -0.905554   \n",
              "2         -1.074290         -0.493684 -0.159199 -0.906910 -1.112575   \n",
              "3         -1.074596         -0.250443 -0.055127 -0.783465  1.000112   \n",
              "4         -0.003533         -0.508740 -0.442506  0.331280 -0.248819   \n",
              "...             ...               ...       ...       ...       ...   \n",
              "41101     -1.071880         -0.508052 -0.112945  0.821319  1.154862   \n",
              "41102     -0.925315         -0.488116 -0.623476  0.551984  0.509605   \n",
              "41103      0.223667         -0.508704 -0.552360  0.106835  1.632688   \n",
              "41104     -1.074320          1.978688  1.049193 -1.228615  0.024494   \n",
              "41105     -0.761849         -0.330173  0.760104 -0.315871 -0.930675   \n",
              "\n",
              "       duration_ms  chorus_hit  sections  \n",
              "0        -0.320853   -0.485415  0.518152  \n",
              "1         0.064804    0.073928 -0.097638  \n",
              "2         0.874330    1.327148  0.518152  \n",
              "3         0.174751    0.972847 -0.302901  \n",
              "4        -0.345625   -0.919860 -0.097638  \n",
              "...            ...         ...       ...  \n",
              "41101    -1.284154   -0.513802 -0.918691  \n",
              "41102    -0.195220   -0.274186 -0.097638  \n",
              "41103    -0.378684   -0.999112 -0.097638  \n",
              "41104     0.800023    0.369873  0.107625  \n",
              "41105     0.496743    0.126142  0.723415  \n",
              "\n",
              "[41106 rows x 14 columns]"
            ],
            "text/html": [
              "\n",
              "  <div id=\"df-318ffd1f-8fea-4a2d-a215-597cf576e482\">\n",
              "    <div class=\"colab-df-container\">\n",
              "      <div>\n",
              "<style scoped>\n",
              "    .dataframe tbody tr th:only-of-type {\n",
              "        vertical-align: middle;\n",
              "    }\n",
              "\n",
              "    .dataframe tbody tr th {\n",
              "        vertical-align: top;\n",
              "    }\n",
              "\n",
              "    .dataframe thead th {\n",
              "        text-align: right;\n",
              "    }\n",
              "</style>\n",
              "<table border=\"1\" class=\"dataframe\">\n",
              "  <thead>\n",
              "    <tr style=\"text-align: right;\">\n",
              "      <th></th>\n",
              "      <th>danceability</th>\n",
              "      <th>energy</th>\n",
              "      <th>key</th>\n",
              "      <th>loudness</th>\n",
              "      <th>mode</th>\n",
              "      <th>speechiness</th>\n",
              "      <th>acousticness</th>\n",
              "      <th>instrumentalness</th>\n",
              "      <th>liveness</th>\n",
              "      <th>valence</th>\n",
              "      <th>tempo</th>\n",
              "      <th>duration_ms</th>\n",
              "      <th>chorus_hit</th>\n",
              "      <th>sections</th>\n",
              "    </tr>\n",
              "  </thead>\n",
              "  <tbody>\n",
              "    <tr>\n",
              "      <th>0</th>\n",
              "      <td>0.215416</td>\n",
              "      <td>-0.429668</td>\n",
              "      <td>-0.343315</td>\n",
              "      <td>0.555679</td>\n",
              "      <td>0.665030</td>\n",
              "      <td>-0.511673</td>\n",
              "      <td>0.011220</td>\n",
              "      <td>-0.508740</td>\n",
              "      <td>-0.245926</td>\n",
              "      <td>-0.039055</td>\n",
              "      <td>0.471597</td>\n",
              "      <td>-0.320853</td>\n",
              "      <td>-0.485415</td>\n",
              "      <td>0.518152</td>\n",
              "    </tr>\n",
              "    <tr>\n",
              "      <th>1</th>\n",
              "      <td>0.924004</td>\n",
              "      <td>1.086412</td>\n",
              "      <td>1.354030</td>\n",
              "      <td>0.893245</td>\n",
              "      <td>-1.503691</td>\n",
              "      <td>1.277886</td>\n",
              "      <td>-1.020031</td>\n",
              "      <td>-0.508740</td>\n",
              "      <td>-0.309525</td>\n",
              "      <td>0.544503</td>\n",
              "      <td>-0.905554</td>\n",
              "      <td>0.064804</td>\n",
              "      <td>0.073928</td>\n",
              "      <td>-0.097638</td>\n",
              "    </tr>\n",
              "    <tr>\n",
              "      <th>2</th>\n",
              "      <td>-2.124046</td>\n",
              "      <td>1.015160</td>\n",
              "      <td>1.071139</td>\n",
              "      <td>1.357892</td>\n",
              "      <td>0.665030</td>\n",
              "      <td>-0.297994</td>\n",
              "      <td>-1.074290</td>\n",
              "      <td>-0.493684</td>\n",
              "      <td>-0.159199</td>\n",
              "      <td>-0.906910</td>\n",
              "      <td>-1.112575</td>\n",
              "      <td>0.874330</td>\n",
              "      <td>1.327148</td>\n",
              "      <td>0.518152</td>\n",
              "    </tr>\n",
              "    <tr>\n",
              "      <th>3</th>\n",
              "      <td>-1.977830</td>\n",
              "      <td>1.640592</td>\n",
              "      <td>-0.343315</td>\n",
              "      <td>1.219326</td>\n",
              "      <td>0.665030</td>\n",
              "      <td>1.080465</td>\n",
              "      <td>-1.074596</td>\n",
              "      <td>-0.250443</td>\n",
              "      <td>-0.055127</td>\n",
              "      <td>-0.783465</td>\n",
              "      <td>1.000112</td>\n",
              "      <td>0.174751</td>\n",
              "      <td>0.972847</td>\n",
              "      <td>-0.302901</td>\n",
              "    </tr>\n",
              "    <tr>\n",
              "      <th>4</th>\n",
              "      <td>0.507849</td>\n",
              "      <td>0.730153</td>\n",
              "      <td>-0.909096</td>\n",
              "      <td>1.104859</td>\n",
              "      <td>0.665030</td>\n",
              "      <td>-0.527931</td>\n",
              "      <td>-0.003533</td>\n",
              "      <td>-0.508740</td>\n",
              "      <td>-0.442506</td>\n",
              "      <td>0.331280</td>\n",
              "      <td>-0.248819</td>\n",
              "      <td>-0.345625</td>\n",
              "      <td>-0.919860</td>\n",
              "      <td>-0.097638</td>\n",
              "    </tr>\n",
              "    <tr>\n",
              "      <th>...</th>\n",
              "      <td>...</td>\n",
              "      <td>...</td>\n",
              "      <td>...</td>\n",
              "      <td>...</td>\n",
              "      <td>...</td>\n",
              "      <td>...</td>\n",
              "      <td>...</td>\n",
              "      <td>...</td>\n",
              "      <td>...</td>\n",
              "      <td>...</td>\n",
              "      <td>...</td>\n",
              "      <td>...</td>\n",
              "      <td>...</td>\n",
              "      <td>...</td>\n",
              "    </tr>\n",
              "    <tr>\n",
              "      <th>41101</th>\n",
              "      <td>-0.808099</td>\n",
              "      <td>0.852864</td>\n",
              "      <td>1.071139</td>\n",
              "      <td>0.781602</td>\n",
              "      <td>-1.503691</td>\n",
              "      <td>1.870147</td>\n",
              "      <td>-1.071880</td>\n",
              "      <td>-0.508052</td>\n",
              "      <td>-0.112945</td>\n",
              "      <td>0.821319</td>\n",
              "      <td>1.154862</td>\n",
              "      <td>-1.284154</td>\n",
              "      <td>-0.513802</td>\n",
              "      <td>-0.918691</td>\n",
              "    </tr>\n",
              "    <tr>\n",
              "      <th>41102</th>\n",
              "      <td>0.457236</td>\n",
              "      <td>0.298684</td>\n",
              "      <td>1.071139</td>\n",
              "      <td>0.741877</td>\n",
              "      <td>-1.503691</td>\n",
              "      <td>-0.488447</td>\n",
              "      <td>-0.925315</td>\n",
              "      <td>-0.488116</td>\n",
              "      <td>-0.623476</td>\n",
              "      <td>0.551984</td>\n",
              "      <td>0.509605</td>\n",
              "      <td>-0.195220</td>\n",
              "      <td>-0.274186</td>\n",
              "      <td>-0.097638</td>\n",
              "    </tr>\n",
              "    <tr>\n",
              "      <th>41103</th>\n",
              "      <td>0.125437</td>\n",
              "      <td>-1.051141</td>\n",
              "      <td>1.354030</td>\n",
              "      <td>-0.939738</td>\n",
              "      <td>-1.503691</td>\n",
              "      <td>-0.501221</td>\n",
              "      <td>0.223667</td>\n",
              "      <td>-0.508704</td>\n",
              "      <td>-0.552360</td>\n",
              "      <td>0.106835</td>\n",
              "      <td>1.632688</td>\n",
              "      <td>-0.378684</td>\n",
              "      <td>-0.999112</td>\n",
              "      <td>-0.097638</td>\n",
              "    </tr>\n",
              "    <tr>\n",
              "      <th>41104</th>\n",
              "      <td>0.462860</td>\n",
              "      <td>0.797446</td>\n",
              "      <td>0.505358</td>\n",
              "      <td>0.779719</td>\n",
              "      <td>0.665030</td>\n",
              "      <td>-0.419930</td>\n",
              "      <td>-1.074320</td>\n",
              "      <td>1.978688</td>\n",
              "      <td>1.049193</td>\n",
              "      <td>-1.228615</td>\n",
              "      <td>0.024494</td>\n",
              "      <td>0.800023</td>\n",
              "      <td>0.369873</td>\n",
              "      <td>0.107625</td>\n",
              "    </tr>\n",
              "    <tr>\n",
              "      <th>41105</th>\n",
              "      <td>0.699055</td>\n",
              "      <td>0.631192</td>\n",
              "      <td>-0.909096</td>\n",
              "      <td>0.229033</td>\n",
              "      <td>0.665030</td>\n",
              "      <td>-0.543028</td>\n",
              "      <td>-0.761849</td>\n",
              "      <td>-0.330173</td>\n",
              "      <td>0.760104</td>\n",
              "      <td>-0.315871</td>\n",
              "      <td>-0.930675</td>\n",
              "      <td>0.496743</td>\n",
              "      <td>0.126142</td>\n",
              "      <td>0.723415</td>\n",
              "    </tr>\n",
              "  </tbody>\n",
              "</table>\n",
              "<p>41106 rows × 14 columns</p>\n",
              "</div>\n",
              "      <button class=\"colab-df-convert\" onclick=\"convertToInteractive('df-318ffd1f-8fea-4a2d-a215-597cf576e482')\"\n",
              "              title=\"Convert this dataframe to an interactive table.\"\n",
              "              style=\"display:none;\">\n",
              "        \n",
              "  <svg xmlns=\"http://www.w3.org/2000/svg\" height=\"24px\"viewBox=\"0 0 24 24\"\n",
              "       width=\"24px\">\n",
              "    <path d=\"M0 0h24v24H0V0z\" fill=\"none\"/>\n",
              "    <path d=\"M18.56 5.44l.94 2.06.94-2.06 2.06-.94-2.06-.94-.94-2.06-.94 2.06-2.06.94zm-11 1L8.5 8.5l.94-2.06 2.06-.94-2.06-.94L8.5 2.5l-.94 2.06-2.06.94zm10 10l.94 2.06.94-2.06 2.06-.94-2.06-.94-.94-2.06-.94 2.06-2.06.94z\"/><path d=\"M17.41 7.96l-1.37-1.37c-.4-.4-.92-.59-1.43-.59-.52 0-1.04.2-1.43.59L10.3 9.45l-7.72 7.72c-.78.78-.78 2.05 0 2.83L4 21.41c.39.39.9.59 1.41.59.51 0 1.02-.2 1.41-.59l7.78-7.78 2.81-2.81c.8-.78.8-2.07 0-2.86zM5.41 20L4 18.59l7.72-7.72 1.47 1.35L5.41 20z\"/>\n",
              "  </svg>\n",
              "      </button>\n",
              "      \n",
              "  <style>\n",
              "    .colab-df-container {\n",
              "      display:flex;\n",
              "      flex-wrap:wrap;\n",
              "      gap: 12px;\n",
              "    }\n",
              "\n",
              "    .colab-df-convert {\n",
              "      background-color: #E8F0FE;\n",
              "      border: none;\n",
              "      border-radius: 50%;\n",
              "      cursor: pointer;\n",
              "      display: none;\n",
              "      fill: #1967D2;\n",
              "      height: 32px;\n",
              "      padding: 0 0 0 0;\n",
              "      width: 32px;\n",
              "    }\n",
              "\n",
              "    .colab-df-convert:hover {\n",
              "      background-color: #E2EBFA;\n",
              "      box-shadow: 0px 1px 2px rgba(60, 64, 67, 0.3), 0px 1px 3px 1px rgba(60, 64, 67, 0.15);\n",
              "      fill: #174EA6;\n",
              "    }\n",
              "\n",
              "    [theme=dark] .colab-df-convert {\n",
              "      background-color: #3B4455;\n",
              "      fill: #D2E3FC;\n",
              "    }\n",
              "\n",
              "    [theme=dark] .colab-df-convert:hover {\n",
              "      background-color: #434B5C;\n",
              "      box-shadow: 0px 1px 3px 1px rgba(0, 0, 0, 0.15);\n",
              "      filter: drop-shadow(0px 1px 2px rgba(0, 0, 0, 0.3));\n",
              "      fill: #FFFFFF;\n",
              "    }\n",
              "  </style>\n",
              "\n",
              "      <script>\n",
              "        const buttonEl =\n",
              "          document.querySelector('#df-318ffd1f-8fea-4a2d-a215-597cf576e482 button.colab-df-convert');\n",
              "        buttonEl.style.display =\n",
              "          google.colab.kernel.accessAllowed ? 'block' : 'none';\n",
              "\n",
              "        async function convertToInteractive(key) {\n",
              "          const element = document.querySelector('#df-318ffd1f-8fea-4a2d-a215-597cf576e482');\n",
              "          const dataTable =\n",
              "            await google.colab.kernel.invokeFunction('convertToInteractive',\n",
              "                                                     [key], {});\n",
              "          if (!dataTable) return;\n",
              "\n",
              "          const docLinkHtml = 'Like what you see? Visit the ' +\n",
              "            '<a target=\"_blank\" href=https://colab.research.google.com/notebooks/data_table.ipynb>data table notebook</a>'\n",
              "            + ' to learn more about interactive tables.';\n",
              "          element.innerHTML = '';\n",
              "          dataTable['output_type'] = 'display_data';\n",
              "          await google.colab.output.renderOutput(dataTable, element);\n",
              "          const docLink = document.createElement('div');\n",
              "          docLink.innerHTML = docLinkHtml;\n",
              "          element.appendChild(docLink);\n",
              "        }\n",
              "      </script>\n",
              "    </div>\n",
              "  </div>\n",
              "  "
            ]
          },
          "metadata": {},
          "execution_count": 9
        }
      ]
    },
    {
      "cell_type": "markdown",
      "source": [
        "Managing outliers and creating boxplots to analyze the distribution of data and remove outliers"
      ],
      "metadata": {
        "id": "aP4CBNx8ow6o"
      }
    },
    {
      "cell_type": "code",
      "source": [
        "#boxplot without outliers\n",
        "df_melt=pd.melt(df_scaled)\n",
        "df_melt\n",
        "sns.set(rc={'figure.figsize':(23,10)})\n",
        "sns.boxplot(x='variable', y='value', data=df_melt, showfliers=False)\n",
        "plt.xlabel(None)\n",
        "plt.title('Distribution of predictors without outliers')"
      ],
      "metadata": {
        "id": "vpx3kRvA9KaK",
        "colab": {
          "base_uri": "https://localhost:8080/",
          "height": 619
        },
        "outputId": "e9e1cdb8-4933-46ba-9a0b-4cc974d00830"
      },
      "execution_count": null,
      "outputs": [
        {
          "output_type": "execute_result",
          "data": {
            "text/plain": [
              "Text(0.5, 1.0, 'Distribution of predictors without outliers')"
            ]
          },
          "metadata": {},
          "execution_count": 10
        },
        {
          "output_type": "display_data",
          "data": {
            "text/plain": [
              "<Figure size 1656x720 with 1 Axes>"
            ],
            "image/png": "[encoded data removed]"
          },
          "metadata": {}
        }
      ]
    },
    {
      "cell_type": "code",
      "source": [
        "#box plot with outliers\n",
        "df_melt=pd.melt(df_scaled)\n",
        "df_melt\n",
        "sns.set(rc={'figure.figsize':(23,10)})\n",
        "sns.boxplot(x='variable', y='value', data=df_melt)\n",
        "plt.xlabel(None)\n",
        "plt.title('Distribution of predictors with outliers')"
      ],
      "metadata": {
        "id": "h5uX2ZGOCZnl",
        "colab": {
          "base_uri": "https://localhost:8080/",
          "height": 619
        },
        "outputId": "de53b4ad-49aa-4170-d99b-93497631e2c5"
      },
      "execution_count": null,
      "outputs": [
        {
          "output_type": "execute_result",
          "data": {
            "text/plain": [
              "Text(0.5, 1.0, 'Distribution of predictors with outliers')"
            ]
          },
          "metadata": {},
          "execution_count": 11
        },
        {
          "output_type": "display_data",
          "data": {
            "text/plain": [
              "<Figure size 1656x720 with 1 Axes>"
            ],
            "image/png": "[encoded data removed]"
          },
          "metadata": {}
        }
      ]
    },
    {
      "cell_type": "markdown",
      "source": [
        "Removing the outliers"
      ],
      "metadata": {
        "id": "zWtO3cF2pAlo"
      }
    },
    {
      "cell_type": "code",
      "source": [
        "df_clean= df_scaled\n",
        "for col in df_clean.columns:\n",
        "  q1=df_clean[col].quantile(0.25)\n",
        "  q3=df_clean[col].quantile(0.75)\n",
        "  inq=q3-q1\n",
        "  filter=(df_clean[col] >= q1-1.5*inq) & (df_clean[col] <= q3+1.5*inq)\n",
        "  df_clean[col] = df_clean[col].loc[filter]"
      ],
      "metadata": {
        "id": "LkDpLXF9EbGo"
      },
      "execution_count": null,
      "outputs": []
    },
    {
      "cell_type": "code",
      "source": [
        "#number of outliers for each predictor\n",
        "df_clean.isna().sum()"
      ],
      "metadata": {
        "id": "kXmPXdEuFcB0",
        "colab": {
          "base_uri": "https://localhost:8080/"
        },
        "outputId": "39e4bd54-b39a-488f-d8eb-4a8e979bb6bb"
      },
      "execution_count": null,
      "outputs": [
        {
          "output_type": "execute_result",
          "data": {
            "text/plain": [
              "danceability           1\n",
              "energy                 0\n",
              "key                    0\n",
              "loudness            1343\n",
              "mode                   0\n",
              "speechiness         5088\n",
              "acousticness           0\n",
              "instrumentalness    8920\n",
              "liveness            2688\n",
              "valence                0\n",
              "tempo                434\n",
              "duration_ms         1987\n",
              "chorus_hit          1839\n",
              "sections            1570\n",
              "dtype: int64"
            ]
          },
          "metadata": {},
          "execution_count": 13
        }
      ]
    },
    {
      "cell_type": "markdown",
      "source": [
        "Removing 2 predictors with a lot of outliers"
      ],
      "metadata": {
        "id": "99hUzWj0p3bV"
      }
    },
    {
      "cell_type": "code",
      "source": [
        "#removing 2 predictors\n",
        "df_clean = df_clean.drop(axis=1, labels=['speechiness', 'instrumentalness'])"
      ],
      "metadata": {
        "id": "Hs8yzQQhXqfh"
      },
      "execution_count": null,
      "outputs": []
    },
    {
      "cell_type": "code",
      "source": [
        "df_remove = df_clean.dropna()\n",
        "df_remove.shape"
      ],
      "metadata": {
        "id": "X502wN9WXavd",
        "colab": {
          "base_uri": "https://localhost:8080/"
        },
        "outputId": "9c40883b-668b-41d1-d023-d92deabe97fc"
      },
      "execution_count": null,
      "outputs": [
        {
          "output_type": "execute_result",
          "data": {
            "text/plain": [
              "(33401, 12)"
            ]
          },
          "metadata": {},
          "execution_count": 15
        }
      ]
    },
    {
      "cell_type": "markdown",
      "source": [
        "Total of 33401 songs remain after cleaning"
      ],
      "metadata": {
        "id": "uvuamqflqCr3"
      }
    },
    {
      "cell_type": "code",
      "source": [
        "#box plot after removing the outliers\n",
        "df_melt=pd.melt(df_remove)\n",
        "df_melt\n",
        "sns.set(rc={'figure.figsize':(23,10)})\n",
        "sns.boxplot(x='variable', y='value', data=df_melt, showfliers=False)\n",
        "plt.xlabel(None)\n",
        "plt.title('Distribution of predictors without outliers')"
      ],
      "metadata": {
        "id": "Egxqteb9NJ6E",
        "colab": {
          "base_uri": "https://localhost:8080/",
          "height": 619
        },
        "outputId": "4e671265-2f6d-445a-ad4c-76371d49990a"
      },
      "execution_count": null,
      "outputs": [
        {
          "output_type": "execute_result",
          "data": {
            "text/plain": [
              "Text(0.5, 1.0, 'Distribution of predictors without outliers')"
            ]
          },
          "metadata": {},
          "execution_count": 16
        },
        {
          "output_type": "display_data",
          "data": {
            "text/plain": [
              "<Figure size 1656x720 with 1 Axes>"
            ],
            "image/png": "[encoded data removed]"
          },
          "metadata": {}
        }
      ]
    },
    {
      "cell_type": "markdown",
      "source": [
        "Creating the unscaled dataframe without the outliers"
      ],
      "metadata": {
        "id": "jgBRof7oqTEU"
      }
    },
    {
      "cell_type": "code",
      "source": [
        "df_merge = df.iloc[df_remove.index]"
      ],
      "metadata": {
        "id": "mQlQUNBLbLAN"
      },
      "execution_count": null,
      "outputs": []
    },
    {
      "cell_type": "code",
      "source": [
        "df_merge = df_merge.drop(axis=1, labels=['speechiness', 'instrumentalness'])"
      ],
      "metadata": {
        "id": "xrHrtRZMelCN"
      },
      "execution_count": null,
      "outputs": []
    },
    {
      "cell_type": "code",
      "source": [
        "df_merge.columns"
      ],
      "metadata": {
        "id": "ajdCE17ofJkY",
        "colab": {
          "base_uri": "https://localhost:8080/"
        },
        "outputId": "ed146ed7-d602-46dd-bdab-a35bb24f50b2"
      },
      "execution_count": null,
      "outputs": [
        {
          "output_type": "execute_result",
          "data": {
            "text/plain": [
              "Index(['track', 'artist', 'uri', 'danceability', 'energy', 'key', 'loudness',\n",
              "       'mode', 'acousticness', 'liveness', 'valence', 'tempo', 'duration_ms',\n",
              "       'chorus_hit', 'sections', 'target'],\n",
              "      dtype='object')"
            ]
          },
          "metadata": {},
          "execution_count": 19
        }
      ]
    },
    {
      "cell_type": "markdown",
      "source": [
        "Counting the number of observations in each class"
      ],
      "metadata": {
        "id": "8ki0FRQgrUCT"
      }
    },
    {
      "cell_type": "code",
      "source": [
        "#observations in each class\n",
        "df_merge.groupby('target')[['danceability', 'energy', 'key', 'loudness',\n",
        "       'mode', 'acousticness', 'liveness', 'valence', 'tempo', 'duration_ms',\n",
        "       'chorus_hit', 'sections']].count()"
      ],
      "metadata": {
        "id": "arLiQVupZ_e5",
        "colab": {
          "base_uri": "https://localhost:8080/",
          "height": 143
        },
        "outputId": "a469aa91-c98a-41cb-970c-30e594b9e222"
      },
      "execution_count": null,
      "outputs": [
        {
          "output_type": "execute_result",
          "data": {
            "text/plain": [
              "        danceability  energy    key  loudness   mode  acousticness  liveness  \\\n",
              "target                                                                         \n",
              "0              15247   15247  15247     15247  15247         15247     15247   \n",
              "1              18154   18154  18154     18154  18154         18154     18154   \n",
              "\n",
              "        valence  tempo  duration_ms  chorus_hit  sections  \n",
              "target                                                     \n",
              "0         15247  15247        15247       15247     15247  \n",
              "1         18154  18154        18154       18154     18154  "
            ],
            "text/html": [
              "\n",
              "  <div id=\"df-2cb6a312-e45e-44dd-b800-c650c07e5a57\">\n",
              "    <div class=\"colab-df-container\">\n",
              "      <div>\n",
              "<style scoped>\n",
              "    .dataframe tbody tr th:only-of-type {\n",
              "        vertical-align: middle;\n",
              "    }\n",
              "\n",
              "    .dataframe tbody tr th {\n",
              "        vertical-align: top;\n",
              "    }\n",
              "\n",
              "    .dataframe thead th {\n",
              "        text-align: right;\n",
              "    }\n",
              "</style>\n",
              "<table border=\"1\" class=\"dataframe\">\n",
              "  <thead>\n",
              "    <tr style=\"text-align: right;\">\n",
              "      <th></th>\n",
              "      <th>danceability</th>\n",
              "      <th>energy</th>\n",
              "      <th>key</th>\n",
              "      <th>loudness</th>\n",
              "      <th>mode</th>\n",
              "      <th>acousticness</th>\n",
              "      <th>liveness</th>\n",
              "      <th>valence</th>\n",
              "      <th>tempo</th>\n",
              "      <th>duration_ms</th>\n",
              "      <th>chorus_hit</th>\n",
              "      <th>sections</th>\n",
              "    </tr>\n",
              "    <tr>\n",
              "      <th>target</th>\n",
              "      <th></th>\n",
              "      <th></th>\n",
              "      <th></th>\n",
              "      <th></th>\n",
              "      <th></th>\n",
              "      <th></th>\n",
              "      <th></th>\n",
              "      <th></th>\n",
              "      <th></th>\n",
              "      <th></th>\n",
              "      <th></th>\n",
              "      <th></th>\n",
              "    </tr>\n",
              "  </thead>\n",
              "  <tbody>\n",
              "    <tr>\n",
              "      <th>0</th>\n",
              "      <td>15247</td>\n",
              "      <td>15247</td>\n",
              "      <td>15247</td>\n",
              "      <td>15247</td>\n",
              "      <td>15247</td>\n",
              "      <td>15247</td>\n",
              "      <td>15247</td>\n",
              "      <td>15247</td>\n",
              "      <td>15247</td>\n",
              "      <td>15247</td>\n",
              "      <td>15247</td>\n",
              "      <td>15247</td>\n",
              "    </tr>\n",
              "    <tr>\n",
              "      <th>1</th>\n",
              "      <td>18154</td>\n",
              "      <td>18154</td>\n",
              "      <td>18154</td>\n",
              "      <td>18154</td>\n",
              "      <td>18154</td>\n",
              "      <td>18154</td>\n",
              "      <td>18154</td>\n",
              "      <td>18154</td>\n",
              "      <td>18154</td>\n",
              "      <td>18154</td>\n",
              "      <td>18154</td>\n",
              "      <td>18154</td>\n",
              "    </tr>\n",
              "  </tbody>\n",
              "</table>\n",
              "</div>\n",
              "      <button class=\"colab-df-convert\" onclick=\"convertToInteractive('df-2cb6a312-e45e-44dd-b800-c650c07e5a57')\"\n",
              "              title=\"Convert this dataframe to an interactive table.\"\n",
              "              style=\"display:none;\">\n",
              "        \n",
              "  <svg xmlns=\"http://www.w3.org/2000/svg\" height=\"24px\"viewBox=\"0 0 24 24\"\n",
              "       width=\"24px\">\n",
              "    <path d=\"M0 0h24v24H0V0z\" fill=\"none\"/>\n",
              "    <path d=\"M18.56 5.44l.94 2.06.94-2.06 2.06-.94-2.06-.94-.94-2.06-.94 2.06-2.06.94zm-11 1L8.5 8.5l.94-2.06 2.06-.94-2.06-.94L8.5 2.5l-.94 2.06-2.06.94zm10 10l.94 2.06.94-2.06 2.06-.94-2.06-.94-.94-2.06-.94 2.06-2.06.94z\"/><path d=\"M17.41 7.96l-1.37-1.37c-.4-.4-.92-.59-1.43-.59-.52 0-1.04.2-1.43.59L10.3 9.45l-7.72 7.72c-.78.78-.78 2.05 0 2.83L4 21.41c.39.39.9.59 1.41.59.51 0 1.02-.2 1.41-.59l7.78-7.78 2.81-2.81c.8-.78.8-2.07 0-2.86zM5.41 20L4 18.59l7.72-7.72 1.47 1.35L5.41 20z\"/>\n",
              "  </svg>\n",
              "      </button>\n",
              "      \n",
              "  <style>\n",
              "    .colab-df-container {\n",
              "      display:flex;\n",
              "      flex-wrap:wrap;\n",
              "      gap: 12px;\n",
              "    }\n",
              "\n",
              "    .colab-df-convert {\n",
              "      background-color: #E8F0FE;\n",
              "      border: none;\n",
              "      border-radius: 50%;\n",
              "      cursor: pointer;\n",
              "      display: none;\n",
              "      fill: #1967D2;\n",
              "      height: 32px;\n",
              "      padding: 0 0 0 0;\n",
              "      width: 32px;\n",
              "    }\n",
              "\n",
              "    .colab-df-convert:hover {\n",
              "      background-color: #E2EBFA;\n",
              "      box-shadow: 0px 1px 2px rgba(60, 64, 67, 0.3), 0px 1px 3px 1px rgba(60, 64, 67, 0.15);\n",
              "      fill: #174EA6;\n",
              "    }\n",
              "\n",
              "    [theme=dark] .colab-df-convert {\n",
              "      background-color: #3B4455;\n",
              "      fill: #D2E3FC;\n",
              "    }\n",
              "\n",
              "    [theme=dark] .colab-df-convert:hover {\n",
              "      background-color: #434B5C;\n",
              "      box-shadow: 0px 1px 3px 1px rgba(0, 0, 0, 0.15);\n",
              "      filter: drop-shadow(0px 1px 2px rgba(0, 0, 0, 0.3));\n",
              "      fill: #FFFFFF;\n",
              "    }\n",
              "  </style>\n",
              "\n",
              "      <script>\n",
              "        const buttonEl =\n",
              "          document.querySelector('#df-2cb6a312-e45e-44dd-b800-c650c07e5a57 button.colab-df-convert');\n",
              "        buttonEl.style.display =\n",
              "          google.colab.kernel.accessAllowed ? 'block' : 'none';\n",
              "\n",
              "        async function convertToInteractive(key) {\n",
              "          const element = document.querySelector('#df-2cb6a312-e45e-44dd-b800-c650c07e5a57');\n",
              "          const dataTable =\n",
              "            await google.colab.kernel.invokeFunction('convertToInteractive',\n",
              "                                                     [key], {});\n",
              "          if (!dataTable) return;\n",
              "\n",
              "          const docLinkHtml = 'Like what you see? Visit the ' +\n",
              "            '<a target=\"_blank\" href=https://colab.research.google.com/notebooks/data_table.ipynb>data table notebook</a>'\n",
              "            + ' to learn more about interactive tables.';\n",
              "          element.innerHTML = '';\n",
              "          dataTable['output_type'] = 'display_data';\n",
              "          await google.colab.output.renderOutput(dataTable, element);\n",
              "          const docLink = document.createElement('div');\n",
              "          docLink.innerHTML = docLinkHtml;\n",
              "          element.appendChild(docLink);\n",
              "        }\n",
              "      </script>\n",
              "    </div>\n",
              "  </div>\n",
              "  "
            ]
          },
          "metadata": {},
          "execution_count": 20
        }
      ]
    },
    {
      "cell_type": "code",
      "source": [
        "#plotting the number of observations\n",
        "sns.countplot(x='target', data=df_merge)\n",
        "sns.set(rc={'figure.figsize':(12,8)})"
      ],
      "metadata": {
        "id": "dTwruG1JmHYT",
        "colab": {
          "base_uri": "https://localhost:8080/",
          "height": 593
        },
        "outputId": "7fd6c45b-bd38-4f67-ae26-c871074cc8af"
      },
      "execution_count": null,
      "outputs": [
        {
          "output_type": "display_data",
          "data": {
            "text/plain": [
              "<Figure size 1656x720 with 1 Axes>"
            ],
            "image/png": "[encoded data removed]"
          },
          "metadata": {}
        }
      ]
    },
    {
      "cell_type": "code",
      "source": [
        "#plotting box plots based on target variable for different predictors\n",
        "plt.rcParams[\"figure.figsize\"] = [12, 15]\n",
        "fig, axes = plt.subplots(nrows=3, ncols=4, )\n",
        "df_merge.boxplot(column= 'danceability', by='target', ax=axes[0][0], showfliers=False)\n",
        "df_merge.boxplot(column= 'energy', by='target', ax=axes[0][1], showfliers=False)\n",
        "df_merge.boxplot(column='key', by='target', ax=axes[0][2], showfliers=False)\n",
        "df_merge.boxplot(column='loudness', by='target', ax=axes[0][3], showfliers=False)\n",
        "df_merge.boxplot(column='mode', by='target', ax=axes[1][0], showfliers=False)\n",
        "df_merge.boxplot(column='acousticness', by='target', ax=axes[1][1], showfliers=False)\n",
        "df_merge.boxplot(column='liveness', by='target', ax=axes[1][2], showfliers=False)\n",
        "df_merge.boxplot(column='valence', by='target', ax=axes[1][3], showfliers=False)\n",
        "df_merge.boxplot(column='tempo', by='target', ax=axes[2][0], showfliers=False)\n",
        "df_merge.boxplot(column='duration_ms', by='target', ax=axes[2][1], showfliers=False)\n",
        "df_merge.boxplot(column='chorus_hit', by='target', ax=axes[2][2], showfliers=False)\n",
        "df_merge.boxplot(column='sections', by='target', ax=axes[2][3], showfliers=False)\n",
        "plt.tight_layout()\n",
        "plt.suptitle(None)\n",
        "plt.show()"
      ],
      "metadata": {
        "id": "SIx6XA8nmy5J",
        "colab": {
          "base_uri": "https://localhost:8080/",
          "height": 1000
        },
        "outputId": "2e44afe5-3e45-4f59-cc20-be69eac61aa4"
      },
      "execution_count": null,
      "outputs": [
        {
          "output_type": "stream",
          "name": "stderr",
          "text": [
            "/usr/local/lib/python3.7/dist-packages/matplotlib/cbook/__init__.py:1376: VisibleDeprecationWarning: Creating an ndarray from ragged nested sequences (which is a list-or-tuple of lists-or-tuples-or ndarrays with different lengths or shapes) is deprecated. If you meant to do this, you must specify 'dtype=object' when creating the ndarray.\n",
            "  X = np.atleast_1d(X.T if isinstance(X, np.ndarray) else np.asarray(X))\n",
            "/usr/local/lib/python3.7/dist-packages/matplotlib/cbook/__init__.py:1376: VisibleDeprecationWarning: Creating an ndarray from ragged nested sequences (which is a list-or-tuple of lists-or-tuples-or ndarrays with different lengths or shapes) is deprecated. If you meant to do this, you must specify 'dtype=object' when creating the ndarray.\n",
            "  X = np.atleast_1d(X.T if isinstance(X, np.ndarray) else np.asarray(X))\n",
            "/usr/local/lib/python3.7/dist-packages/matplotlib/cbook/__init__.py:1376: VisibleDeprecationWarning: Creating an ndarray from ragged nested sequences (which is a list-or-tuple of lists-or-tuples-or ndarrays with different lengths or shapes) is deprecated. If you meant to do this, you must specify 'dtype=object' when creating the ndarray.\n",
            "  X = np.atleast_1d(X.T if isinstance(X, np.ndarray) else np.asarray(X))\n",
            "/usr/local/lib/python3.7/dist-packages/matplotlib/cbook/__init__.py:1376: VisibleDeprecationWarning: Creating an ndarray from ragged nested sequences (which is a list-or-tuple of lists-or-tuples-or ndarrays with different lengths or shapes) is deprecated. If you meant to do this, you must specify 'dtype=object' when creating the ndarray.\n",
            "  X = np.atleast_1d(X.T if isinstance(X, np.ndarray) else np.asarray(X))\n",
            "/usr/local/lib/python3.7/dist-packages/matplotlib/cbook/__init__.py:1376: VisibleDeprecationWarning: Creating an ndarray from ragged nested sequences (which is a list-or-tuple of lists-or-tuples-or ndarrays with different lengths or shapes) is deprecated. If you meant to do this, you must specify 'dtype=object' when creating the ndarray.\n",
            "  X = np.atleast_1d(X.T if isinstance(X, np.ndarray) else np.asarray(X))\n",
            "/usr/local/lib/python3.7/dist-packages/matplotlib/cbook/__init__.py:1376: VisibleDeprecationWarning: Creating an ndarray from ragged nested sequences (which is a list-or-tuple of lists-or-tuples-or ndarrays with different lengths or shapes) is deprecated. If you meant to do this, you must specify 'dtype=object' when creating the ndarray.\n",
            "  X = np.atleast_1d(X.T if isinstance(X, np.ndarray) else np.asarray(X))\n",
            "/usr/local/lib/python3.7/dist-packages/matplotlib/cbook/__init__.py:1376: VisibleDeprecationWarning: Creating an ndarray from ragged nested sequences (which is a list-or-tuple of lists-or-tuples-or ndarrays with different lengths or shapes) is deprecated. If you meant to do this, you must specify 'dtype=object' when creating the ndarray.\n",
            "  X = np.atleast_1d(X.T if isinstance(X, np.ndarray) else np.asarray(X))\n",
            "/usr/local/lib/python3.7/dist-packages/matplotlib/cbook/__init__.py:1376: VisibleDeprecationWarning: Creating an ndarray from ragged nested sequences (which is a list-or-tuple of lists-or-tuples-or ndarrays with different lengths or shapes) is deprecated. If you meant to do this, you must specify 'dtype=object' when creating the ndarray.\n",
            "  X = np.atleast_1d(X.T if isinstance(X, np.ndarray) else np.asarray(X))\n",
            "/usr/local/lib/python3.7/dist-packages/matplotlib/cbook/__init__.py:1376: VisibleDeprecationWarning: Creating an ndarray from ragged nested sequences (which is a list-or-tuple of lists-or-tuples-or ndarrays with different lengths or shapes) is deprecated. If you meant to do this, you must specify 'dtype=object' when creating the ndarray.\n",
            "  X = np.atleast_1d(X.T if isinstance(X, np.ndarray) else np.asarray(X))\n",
            "/usr/local/lib/python3.7/dist-packages/matplotlib/cbook/__init__.py:1376: VisibleDeprecationWarning: Creating an ndarray from ragged nested sequences (which is a list-or-tuple of lists-or-tuples-or ndarrays with different lengths or shapes) is deprecated. If you meant to do this, you must specify 'dtype=object' when creating the ndarray.\n",
            "  X = np.atleast_1d(X.T if isinstance(X, np.ndarray) else np.asarray(X))\n",
            "/usr/local/lib/python3.7/dist-packages/matplotlib/cbook/__init__.py:1376: VisibleDeprecationWarning: Creating an ndarray from ragged nested sequences (which is a list-or-tuple of lists-or-tuples-or ndarrays with different lengths or shapes) is deprecated. If you meant to do this, you must specify 'dtype=object' when creating the ndarray.\n",
            "  X = np.atleast_1d(X.T if isinstance(X, np.ndarray) else np.asarray(X))\n",
            "/usr/local/lib/python3.7/dist-packages/matplotlib/cbook/__init__.py:1376: VisibleDeprecationWarning: Creating an ndarray from ragged nested sequences (which is a list-or-tuple of lists-or-tuples-or ndarrays with different lengths or shapes) is deprecated. If you meant to do this, you must specify 'dtype=object' when creating the ndarray.\n",
            "  X = np.atleast_1d(X.T if isinstance(X, np.ndarray) else np.asarray(X))\n"
          ]
        },
        {
          "output_type": "display_data",
          "data": {
            "text/plain": [
              "<Figure size 864x1080 with 12 Axes>"
            ],
            "image/png": "[encoded data removed]"
          },
          "metadata": {}
        }
      ]
    },
    {
      "cell_type": "code",
      "source": [
        "#correlation between the predictors\n",
        "fig, ax = plt.subplots(figsize=(11,11)) \n",
        "ax = sns.heatmap(df_remove.corr(), annot=True, cmap='RdBu').set(title='Predictors Correlation Heatmap')"
      ],
      "metadata": {
        "id": "MiviF-2-HNMf",
        "colab": {
          "base_uri": "https://localhost:8080/",
          "height": 726
        },
        "outputId": "69eca409-2485-40ef-8404-7b4a588df2e7"
      },
      "execution_count": null,
      "outputs": [
        {
          "output_type": "display_data",
          "data": {
            "text/plain": [
              "<Figure size 792x792 with 2 Axes>"
            ],
            "image/png": "[encoded data removed]"
          },
          "metadata": {}
        }
      ]
    },
    {
      "cell_type": "code",
      "source": [
        "df_merge.iloc[:,3:15]"
      ],
      "metadata": {
        "id": "1mEk8QpG5h78",
        "outputId": "8ae8617c-e1ae-4397-d121-70e1425f5fe6",
        "colab": {
          "base_uri": "https://localhost:8080/",
          "height": 423
        }
      },
      "execution_count": null,
      "outputs": [
        {
          "output_type": "execute_result",
          "data": {
            "text/plain": [
              "      danceability  energy  key  loudness  mode  acousticness  liveness  \\\n",
              "0            0.578   0.471    4    -7.270     1      0.368000    0.1590   \n",
              "1            0.704   0.854   10    -5.477     0      0.018500    0.1480   \n",
              "2            0.162   0.836    9    -3.009     1      0.000111    0.1740   \n",
              "3            0.188   0.994    4    -3.745     1      0.000007    0.1920   \n",
              "4            0.630   0.764    2    -4.353     1      0.363000    0.1250   \n",
              "...            ...     ...  ...       ...   ...           ...       ...   \n",
              "5515         0.396   0.795    9    -6.070     0      0.000928    0.1820   \n",
              "5516         0.621   0.655    9    -6.281     0      0.050600    0.0937   \n",
              "5517         0.562   0.314   10   -15.213     0      0.440000    0.1060   \n",
              "5518         0.622   0.781    7    -6.080     1      0.000101    0.3830   \n",
              "5519         0.664   0.739    2    -9.005     1      0.106000    0.3330   \n",
              "\n",
              "      valence    tempo  duration_ms  chorus_hit  sections  \n",
              "0       0.532  133.061       196707    30.88059        13  \n",
              "1       0.688   92.988       242587    41.51106        10  \n",
              "2       0.300   86.964       338893    65.32887        13  \n",
              "3       0.333  148.440       255667    58.59528         9  \n",
              "4       0.631  112.098       193760    22.62384        10  \n",
              "...       ...      ...          ...         ...       ...  \n",
              "5515    0.762  152.943        82107    30.34109         6  \n",
              "5516    0.690  134.167       211653    34.89506        10  \n",
              "5517    0.571  166.847       189827    21.11763        10  \n",
              "5518    0.214  120.051       330053    47.13558        11  \n",
              "5519    0.458   92.257       293973    42.50341        14  \n",
              "\n",
              "[33401 rows x 12 columns]"
            ],
            "text/html": [
              "\n",
              "  <div id=\"df-b8ea0251-c5d5-4116-abf6-3af41afd0651\">\n",
              "    <div class=\"colab-df-container\">\n",
              "      <div>\n",
              "<style scoped>\n",
              "    .dataframe tbody tr th:only-of-type {\n",
              "        vertical-align: middle;\n",
              "    }\n",
              "\n",
              "    .dataframe tbody tr th {\n",
              "        vertical-align: top;\n",
              "    }\n",
              "\n",
              "    .dataframe thead th {\n",
              "        text-align: right;\n",
              "    }\n",
              "</style>\n",
              "<table border=\"1\" class=\"dataframe\">\n",
              "  <thead>\n",
              "    <tr style=\"text-align: right;\">\n",
              "      <th></th>\n",
              "      <th>danceability</th>\n",
              "      <th>energy</th>\n",
              "      <th>key</th>\n",
              "      <th>loudness</th>\n",
              "      <th>mode</th>\n",
              "      <th>acousticness</th>\n",
              "      <th>liveness</th>\n",
              "      <th>valence</th>\n",
              "      <th>tempo</th>\n",
              "      <th>duration_ms</th>\n",
              "      <th>chorus_hit</th>\n",
              "      <th>sections</th>\n",
              "    </tr>\n",
              "  </thead>\n",
              "  <tbody>\n",
              "    <tr>\n",
              "      <th>0</th>\n",
              "      <td>0.578</td>\n",
              "      <td>0.471</td>\n",
              "      <td>4</td>\n",
              "      <td>-7.270</td>\n",
              "      <td>1</td>\n",
              "      <td>0.368000</td>\n",
              "      <td>0.1590</td>\n",
              "      <td>0.532</td>\n",
              "      <td>133.061</td>\n",
              "      <td>196707</td>\n",
              "      <td>30.88059</td>\n",
              "      <td>13</td>\n",
              "    </tr>\n",
              "    <tr>\n",
              "      <th>1</th>\n",
              "      <td>0.704</td>\n",
              "      <td>0.854</td>\n",
              "      <td>10</td>\n",
              "      <td>-5.477</td>\n",
              "      <td>0</td>\n",
              "      <td>0.018500</td>\n",
              "      <td>0.1480</td>\n",
              "      <td>0.688</td>\n",
              "      <td>92.988</td>\n",
              "      <td>242587</td>\n",
              "      <td>41.51106</td>\n",
              "      <td>10</td>\n",
              "    </tr>\n",
              "    <tr>\n",
              "      <th>2</th>\n",
              "      <td>0.162</td>\n",
              "      <td>0.836</td>\n",
              "      <td>9</td>\n",
              "      <td>-3.009</td>\n",
              "      <td>1</td>\n",
              "      <td>0.000111</td>\n",
              "      <td>0.1740</td>\n",
              "      <td>0.300</td>\n",
              "      <td>86.964</td>\n",
              "      <td>338893</td>\n",
              "      <td>65.32887</td>\n",
              "      <td>13</td>\n",
              "    </tr>\n",
              "    <tr>\n",
              "      <th>3</th>\n",
              "      <td>0.188</td>\n",
              "      <td>0.994</td>\n",
              "      <td>4</td>\n",
              "      <td>-3.745</td>\n",
              "      <td>1</td>\n",
              "      <td>0.000007</td>\n",
              "      <td>0.1920</td>\n",
              "      <td>0.333</td>\n",
              "      <td>148.440</td>\n",
              "      <td>255667</td>\n",
              "      <td>58.59528</td>\n",
              "      <td>9</td>\n",
              "    </tr>\n",
              "    <tr>\n",
              "      <th>4</th>\n",
              "      <td>0.630</td>\n",
              "      <td>0.764</td>\n",
              "      <td>2</td>\n",
              "      <td>-4.353</td>\n",
              "      <td>1</td>\n",
              "      <td>0.363000</td>\n",
              "      <td>0.1250</td>\n",
              "      <td>0.631</td>\n",
              "      <td>112.098</td>\n",
              "      <td>193760</td>\n",
              "      <td>22.62384</td>\n",
              "      <td>10</td>\n",
              "    </tr>\n",
              "    <tr>\n",
              "      <th>...</th>\n",
              "      <td>...</td>\n",
              "      <td>...</td>\n",
              "      <td>...</td>\n",
              "      <td>...</td>\n",
              "      <td>...</td>\n",
              "      <td>...</td>\n",
              "      <td>...</td>\n",
              "      <td>...</td>\n",
              "      <td>...</td>\n",
              "      <td>...</td>\n",
              "      <td>...</td>\n",
              "      <td>...</td>\n",
              "    </tr>\n",
              "    <tr>\n",
              "      <th>5515</th>\n",
              "      <td>0.396</td>\n",
              "      <td>0.795</td>\n",
              "      <td>9</td>\n",
              "      <td>-6.070</td>\n",
              "      <td>0</td>\n",
              "      <td>0.000928</td>\n",
              "      <td>0.1820</td>\n",
              "      <td>0.762</td>\n",
              "      <td>152.943</td>\n",
              "      <td>82107</td>\n",
              "      <td>30.34109</td>\n",
              "      <td>6</td>\n",
              "    </tr>\n",
              "    <tr>\n",
              "      <th>5516</th>\n",
              "      <td>0.621</td>\n",
              "      <td>0.655</td>\n",
              "      <td>9</td>\n",
              "      <td>-6.281</td>\n",
              "      <td>0</td>\n",
              "      <td>0.050600</td>\n",
              "      <td>0.0937</td>\n",
              "      <td>0.690</td>\n",
              "      <td>134.167</td>\n",
              "      <td>211653</td>\n",
              "      <td>34.89506</td>\n",
              "      <td>10</td>\n",
              "    </tr>\n",
              "    <tr>\n",
              "      <th>5517</th>\n",
              "      <td>0.562</td>\n",
              "      <td>0.314</td>\n",
              "      <td>10</td>\n",
              "      <td>-15.213</td>\n",
              "      <td>0</td>\n",
              "      <td>0.440000</td>\n",
              "      <td>0.1060</td>\n",
              "      <td>0.571</td>\n",
              "      <td>166.847</td>\n",
              "      <td>189827</td>\n",
              "      <td>21.11763</td>\n",
              "      <td>10</td>\n",
              "    </tr>\n",
              "    <tr>\n",
              "      <th>5518</th>\n",
              "      <td>0.622</td>\n",
              "      <td>0.781</td>\n",
              "      <td>7</td>\n",
              "      <td>-6.080</td>\n",
              "      <td>1</td>\n",
              "      <td>0.000101</td>\n",
              "      <td>0.3830</td>\n",
              "      <td>0.214</td>\n",
              "      <td>120.051</td>\n",
              "      <td>330053</td>\n",
              "      <td>47.13558</td>\n",
              "      <td>11</td>\n",
              "    </tr>\n",
              "    <tr>\n",
              "      <th>5519</th>\n",
              "      <td>0.664</td>\n",
              "      <td>0.739</td>\n",
              "      <td>2</td>\n",
              "      <td>-9.005</td>\n",
              "      <td>1</td>\n",
              "      <td>0.106000</td>\n",
              "      <td>0.3330</td>\n",
              "      <td>0.458</td>\n",
              "      <td>92.257</td>\n",
              "      <td>293973</td>\n",
              "      <td>42.50341</td>\n",
              "      <td>14</td>\n",
              "    </tr>\n",
              "  </tbody>\n",
              "</table>\n",
              "<p>33401 rows × 12 columns</p>\n",
              "</div>\n",
              "      <button class=\"colab-df-convert\" onclick=\"convertToInteractive('df-b8ea0251-c5d5-4116-abf6-3af41afd0651')\"\n",
              "              title=\"Convert this dataframe to an interactive table.\"\n",
              "              style=\"display:none;\">\n",
              "        \n",
              "  <svg xmlns=\"http://www.w3.org/2000/svg\" height=\"24px\"viewBox=\"0 0 24 24\"\n",
              "       width=\"24px\">\n",
              "    <path d=\"M0 0h24v24H0V0z\" fill=\"none\"/>\n",
              "    <path d=\"M18.56 5.44l.94 2.06.94-2.06 2.06-.94-2.06-.94-.94-2.06-.94 2.06-2.06.94zm-11 1L8.5 8.5l.94-2.06 2.06-.94-2.06-.94L8.5 2.5l-.94 2.06-2.06.94zm10 10l.94 2.06.94-2.06 2.06-.94-2.06-.94-.94-2.06-.94 2.06-2.06.94z\"/><path d=\"M17.41 7.96l-1.37-1.37c-.4-.4-.92-.59-1.43-.59-.52 0-1.04.2-1.43.59L10.3 9.45l-7.72 7.72c-.78.78-.78 2.05 0 2.83L4 21.41c.39.39.9.59 1.41.59.51 0 1.02-.2 1.41-.59l7.78-7.78 2.81-2.81c.8-.78.8-2.07 0-2.86zM5.41 20L4 18.59l7.72-7.72 1.47 1.35L5.41 20z\"/>\n",
              "  </svg>\n",
              "      </button>\n",
              "      \n",
              "  <style>\n",
              "    .colab-df-container {\n",
              "      display:flex;\n",
              "      flex-wrap:wrap;\n",
              "      gap: 12px;\n",
              "    }\n",
              "\n",
              "    .colab-df-convert {\n",
              "      background-color: #E8F0FE;\n",
              "      border: none;\n",
              "      border-radius: 50%;\n",
              "      cursor: pointer;\n",
              "      display: none;\n",
              "      fill: #1967D2;\n",
              "      height: 32px;\n",
              "      padding: 0 0 0 0;\n",
              "      width: 32px;\n",
              "    }\n",
              "\n",
              "    .colab-df-convert:hover {\n",
              "      background-color: #E2EBFA;\n",
              "      box-shadow: 0px 1px 2px rgba(60, 64, 67, 0.3), 0px 1px 3px 1px rgba(60, 64, 67, 0.15);\n",
              "      fill: #174EA6;\n",
              "    }\n",
              "\n",
              "    [theme=dark] .colab-df-convert {\n",
              "      background-color: #3B4455;\n",
              "      fill: #D2E3FC;\n",
              "    }\n",
              "\n",
              "    [theme=dark] .colab-df-convert:hover {\n",
              "      background-color: #434B5C;\n",
              "      box-shadow: 0px 1px 3px 1px rgba(0, 0, 0, 0.15);\n",
              "      filter: drop-shadow(0px 1px 2px rgba(0, 0, 0, 0.3));\n",
              "      fill: #FFFFFF;\n",
              "    }\n",
              "  </style>\n",
              "\n",
              "      <script>\n",
              "        const buttonEl =\n",
              "          document.querySelector('#df-b8ea0251-c5d5-4116-abf6-3af41afd0651 button.colab-df-convert');\n",
              "        buttonEl.style.display =\n",
              "          google.colab.kernel.accessAllowed ? 'block' : 'none';\n",
              "\n",
              "        async function convertToInteractive(key) {\n",
              "          const element = document.querySelector('#df-b8ea0251-c5d5-4116-abf6-3af41afd0651');\n",
              "          const dataTable =\n",
              "            await google.colab.kernel.invokeFunction('convertToInteractive',\n",
              "                                                     [key], {});\n",
              "          if (!dataTable) return;\n",
              "\n",
              "          const docLinkHtml = 'Like what you see? Visit the ' +\n",
              "            '<a target=\"_blank\" href=https://colab.research.google.com/notebooks/data_table.ipynb>data table notebook</a>'\n",
              "            + ' to learn more about interactive tables.';\n",
              "          element.innerHTML = '';\n",
              "          dataTable['output_type'] = 'display_data';\n",
              "          await google.colab.output.renderOutput(dataTable, element);\n",
              "          const docLink = document.createElement('div');\n",
              "          docLink.innerHTML = docLinkHtml;\n",
              "          element.appendChild(docLink);\n",
              "        }\n",
              "      </script>\n",
              "    </div>\n",
              "  </div>\n",
              "  "
            ]
          },
          "metadata": {},
          "execution_count": 24
        }
      ]
    },
    {
      "cell_type": "code",
      "source": [
        "#creating final scaled data with all the variables\n",
        "scale = StandardScaler()\n",
        "scale_X = scale.fit_transform(df_merge.iloc[:,3:15])\n",
        "df_merge.iloc[:,3:15] = scale_X"
      ],
      "metadata": {
        "id": "KG8fjk4d6_cg"
      },
      "execution_count": null,
      "outputs": []
    },
    {
      "cell_type": "code",
      "source": [
        "df_merge"
      ],
      "metadata": {
        "colab": {
          "base_uri": "https://localhost:8080/",
          "height": 783
        },
        "id": "qX4VXDrLwdBp",
        "outputId": "8ee6fe5e-bc61-4a9a-f119-cc2c6936ade1"
      },
      "execution_count": null,
      "outputs": [
        {
          "output_type": "execute_result",
          "data": {
            "text/plain": [
              "                                   track             artist  \\\n",
              "0                              Lucky Man  Montgomery Gentry   \n",
              "1                         On The Hotline       Pretty Ricky   \n",
              "2                     Clouds Of Dementia         Candlemass   \n",
              "3               Heavy Metal, Raise Hell!      Zwartketterij   \n",
              "4                        I Got A Feelin'   Billy Currington   \n",
              "...                                  ...                ...   \n",
              "5515               (You're A) Go Nowhere       Reagan Youth   \n",
              "5516                  La Fiebre de Norma       La Castañeda   \n",
              "5517                          Good Times      Edie Brickell   \n",
              "5518                               Inane              KMFDM   \n",
              "5519  You Can Make History (Young Again)         Elton John   \n",
              "\n",
              "                                       uri  danceability    energy       key  \\\n",
              "0     spotify:track:4GiXBCUF7H6YfNQsnBRIzl      0.118486 -0.518795 -0.339478   \n",
              "1     spotify:track:1zyqZONW985Cs4osz9wlsu      0.861614  1.100931  1.356353   \n",
              "2     spotify:track:6cHZf7RbxXCKwEkgAZT4mY     -2.335015  1.024808  1.073715   \n",
              "3     spotify:track:2IjBPp2vMeX7LggzRN3iSX     -2.181672  1.692998 -0.339478   \n",
              "4     spotify:track:1tF370eYXUcWwkIvaq3IGz      0.425174  0.720316 -0.904754   \n",
              "...                                    ...           ...       ...       ...   \n",
              "5515  spotify:track:4e86fqSFhqRQk3Z9hm7XHt     -0.954921  0.851417  1.073715   \n",
              "5516  spotify:track:43DFcnOZprnVlAFKwgBJ3e      0.372093  0.259350  1.073715   \n",
              "5517  spotify:track:6UPfnVoOq3y3BvapBIKs8J      0.024120 -1.182755  1.356353   \n",
              "5518  spotify:track:2Ao3Wi4raEOQfKQiU9EU8y      0.377991  0.792210  0.508438   \n",
              "5519  spotify:track:3ca91BX2k7GSzEUsx1mPgI      0.625700  0.614590 -0.904754   \n",
              "\n",
              "      loudness      mode  acousticness  liveness   valence     tempo  \\\n",
              "0     0.535085  0.651748      0.072572 -0.076165 -0.126019  0.495782   \n",
              "1     0.957657 -1.534336     -0.997974 -0.181124  0.478866 -0.953376   \n",
              "2     1.539313  0.651748     -1.054301  0.066960 -1.025591 -1.171222   \n",
              "3     1.365853  0.651748     -1.054618  0.238710 -0.897635  1.051932   \n",
              "4     1.222560  0.651748      0.057257 -0.400582  0.257851 -0.262302   \n",
              "...        ...       ...           ...       ...       ...       ...   \n",
              "5515  0.817900 -1.534336     -1.051798  0.143293  0.765799  1.214773   \n",
              "5516  0.768171 -1.534336     -0.899649 -0.699237  0.486621  0.535778   \n",
              "5517 -1.336912 -1.534336      0.293114 -0.581874  0.025203  1.717583   \n",
              "5518  0.815543  0.651748     -1.054332  2.061170 -1.359053  0.025302   \n",
              "5519  0.126182  0.651748     -0.729955  1.584086 -0.412951 -0.979811   \n",
              "\n",
              "      duration_ms  chorus_hit  sections  target  \n",
              "0       -0.315094   -0.479443  1.088622       1  \n",
              "1        0.405103    0.308361  0.031727       1  \n",
              "2        1.916857    2.073455  1.088622       0  \n",
              "3        0.610425    1.574441 -0.320571       0  \n",
              "4       -0.361354   -1.091335  0.031727       1  \n",
              "...           ...         ...       ...     ...  \n",
              "5515    -2.114016   -0.519424 -1.377467       0  \n",
              "5516    -0.080480   -0.181938  0.031727       0  \n",
              "5517    -0.423092   -1.202957  0.031727       1  \n",
              "5518     1.778092    0.725184  0.384025       0  \n",
              "5519     1.211730    0.381903  1.440921       1  \n",
              "\n",
              "[33401 rows x 16 columns]"
            ],
            "text/html": [
              "\n",
              "  <div id=\"df-ba41dd0d-dbfc-4b36-98f3-743f7b283209\">\n",
              "    <div class=\"colab-df-container\">\n",
              "      <div>\n",
              "<style scoped>\n",
              "    .dataframe tbody tr th:only-of-type {\n",
              "        vertical-align: middle;\n",
              "    }\n",
              "\n",
              "    .dataframe tbody tr th {\n",
              "        vertical-align: top;\n",
              "    }\n",
              "\n",
              "    .dataframe thead th {\n",
              "        text-align: right;\n",
              "    }\n",
              "</style>\n",
              "<table border=\"1\" class=\"dataframe\">\n",
              "  <thead>\n",
              "    <tr style=\"text-align: right;\">\n",
              "      <th></th>\n",
              "      <th>track</th>\n",
              "      <th>artist</th>\n",
              "      <th>uri</th>\n",
              "      <th>danceability</th>\n",
              "      <th>energy</th>\n",
              "      <th>key</th>\n",
              "      <th>loudness</th>\n",
              "      <th>mode</th>\n",
              "      <th>acousticness</th>\n",
              "      <th>liveness</th>\n",
              "      <th>valence</th>\n",
              "      <th>tempo</th>\n",
              "      <th>duration_ms</th>\n",
              "      <th>chorus_hit</th>\n",
              "      <th>sections</th>\n",
              "      <th>target</th>\n",
              "    </tr>\n",
              "  </thead>\n",
              "  <tbody>\n",
              "    <tr>\n",
              "      <th>0</th>\n",
              "      <td>Lucky Man</td>\n",
              "      <td>Montgomery Gentry</td>\n",
              "      <td>spotify:track:4GiXBCUF7H6YfNQsnBRIzl</td>\n",
              "      <td>0.118486</td>\n",
              "      <td>-0.518795</td>\n",
              "      <td>-0.339478</td>\n",
              "      <td>0.535085</td>\n",
              "      <td>0.651748</td>\n",
              "      <td>0.072572</td>\n",
              "      <td>-0.076165</td>\n",
              "      <td>-0.126019</td>\n",
              "      <td>0.495782</td>\n",
              "      <td>-0.315094</td>\n",
              "      <td>-0.479443</td>\n",
              "      <td>1.088622</td>\n",
              "      <td>1</td>\n",
              "    </tr>\n",
              "    <tr>\n",
              "      <th>1</th>\n",
              "      <td>On The Hotline</td>\n",
              "      <td>Pretty Ricky</td>\n",
              "      <td>spotify:track:1zyqZONW985Cs4osz9wlsu</td>\n",
              "      <td>0.861614</td>\n",
              "      <td>1.100931</td>\n",
              "      <td>1.356353</td>\n",
              "      <td>0.957657</td>\n",
              "      <td>-1.534336</td>\n",
              "      <td>-0.997974</td>\n",
              "      <td>-0.181124</td>\n",
              "      <td>0.478866</td>\n",
              "      <td>-0.953376</td>\n",
              "      <td>0.405103</td>\n",
              "      <td>0.308361</td>\n",
              "      <td>0.031727</td>\n",
              "      <td>1</td>\n",
              "    </tr>\n",
              "    <tr>\n",
              "      <th>2</th>\n",
              "      <td>Clouds Of Dementia</td>\n",
              "      <td>Candlemass</td>\n",
              "      <td>spotify:track:6cHZf7RbxXCKwEkgAZT4mY</td>\n",
              "      <td>-2.335015</td>\n",
              "      <td>1.024808</td>\n",
              "      <td>1.073715</td>\n",
              "      <td>1.539313</td>\n",
              "      <td>0.651748</td>\n",
              "      <td>-1.054301</td>\n",
              "      <td>0.066960</td>\n",
              "      <td>-1.025591</td>\n",
              "      <td>-1.171222</td>\n",
              "      <td>1.916857</td>\n",
              "      <td>2.073455</td>\n",
              "      <td>1.088622</td>\n",
              "      <td>0</td>\n",
              "    </tr>\n",
              "    <tr>\n",
              "      <th>3</th>\n",
              "      <td>Heavy Metal, Raise Hell!</td>\n",
              "      <td>Zwartketterij</td>\n",
              "      <td>spotify:track:2IjBPp2vMeX7LggzRN3iSX</td>\n",
              "      <td>-2.181672</td>\n",
              "      <td>1.692998</td>\n",
              "      <td>-0.339478</td>\n",
              "      <td>1.365853</td>\n",
              "      <td>0.651748</td>\n",
              "      <td>-1.054618</td>\n",
              "      <td>0.238710</td>\n",
              "      <td>-0.897635</td>\n",
              "      <td>1.051932</td>\n",
              "      <td>0.610425</td>\n",
              "      <td>1.574441</td>\n",
              "      <td>-0.320571</td>\n",
              "      <td>0</td>\n",
              "    </tr>\n",
              "    <tr>\n",
              "      <th>4</th>\n",
              "      <td>I Got A Feelin'</td>\n",
              "      <td>Billy Currington</td>\n",
              "      <td>spotify:track:1tF370eYXUcWwkIvaq3IGz</td>\n",
              "      <td>0.425174</td>\n",
              "      <td>0.720316</td>\n",
              "      <td>-0.904754</td>\n",
              "      <td>1.222560</td>\n",
              "      <td>0.651748</td>\n",
              "      <td>0.057257</td>\n",
              "      <td>-0.400582</td>\n",
              "      <td>0.257851</td>\n",
              "      <td>-0.262302</td>\n",
              "      <td>-0.361354</td>\n",
              "      <td>-1.091335</td>\n",
              "      <td>0.031727</td>\n",
              "      <td>1</td>\n",
              "    </tr>\n",
              "    <tr>\n",
              "      <th>...</th>\n",
              "      <td>...</td>\n",
              "      <td>...</td>\n",
              "      <td>...</td>\n",
              "      <td>...</td>\n",
              "      <td>...</td>\n",
              "      <td>...</td>\n",
              "      <td>...</td>\n",
              "      <td>...</td>\n",
              "      <td>...</td>\n",
              "      <td>...</td>\n",
              "      <td>...</td>\n",
              "      <td>...</td>\n",
              "      <td>...</td>\n",
              "      <td>...</td>\n",
              "      <td>...</td>\n",
              "      <td>...</td>\n",
              "    </tr>\n",
              "    <tr>\n",
              "      <th>5515</th>\n",
              "      <td>(You're A) Go Nowhere</td>\n",
              "      <td>Reagan Youth</td>\n",
              "      <td>spotify:track:4e86fqSFhqRQk3Z9hm7XHt</td>\n",
              "      <td>-0.954921</td>\n",
              "      <td>0.851417</td>\n",
              "      <td>1.073715</td>\n",
              "      <td>0.817900</td>\n",
              "      <td>-1.534336</td>\n",
              "      <td>-1.051798</td>\n",
              "      <td>0.143293</td>\n",
              "      <td>0.765799</td>\n",
              "      <td>1.214773</td>\n",
              "      <td>-2.114016</td>\n",
              "      <td>-0.519424</td>\n",
              "      <td>-1.377467</td>\n",
              "      <td>0</td>\n",
              "    </tr>\n",
              "    <tr>\n",
              "      <th>5516</th>\n",
              "      <td>La Fiebre de Norma</td>\n",
              "      <td>La Castañeda</td>\n",
              "      <td>spotify:track:43DFcnOZprnVlAFKwgBJ3e</td>\n",
              "      <td>0.372093</td>\n",
              "      <td>0.259350</td>\n",
              "      <td>1.073715</td>\n",
              "      <td>0.768171</td>\n",
              "      <td>-1.534336</td>\n",
              "      <td>-0.899649</td>\n",
              "      <td>-0.699237</td>\n",
              "      <td>0.486621</td>\n",
              "      <td>0.535778</td>\n",
              "      <td>-0.080480</td>\n",
              "      <td>-0.181938</td>\n",
              "      <td>0.031727</td>\n",
              "      <td>0</td>\n",
              "    </tr>\n",
              "    <tr>\n",
              "      <th>5517</th>\n",
              "      <td>Good Times</td>\n",
              "      <td>Edie Brickell</td>\n",
              "      <td>spotify:track:6UPfnVoOq3y3BvapBIKs8J</td>\n",
              "      <td>0.024120</td>\n",
              "      <td>-1.182755</td>\n",
              "      <td>1.356353</td>\n",
              "      <td>-1.336912</td>\n",
              "      <td>-1.534336</td>\n",
              "      <td>0.293114</td>\n",
              "      <td>-0.581874</td>\n",
              "      <td>0.025203</td>\n",
              "      <td>1.717583</td>\n",
              "      <td>-0.423092</td>\n",
              "      <td>-1.202957</td>\n",
              "      <td>0.031727</td>\n",
              "      <td>1</td>\n",
              "    </tr>\n",
              "    <tr>\n",
              "      <th>5518</th>\n",
              "      <td>Inane</td>\n",
              "      <td>KMFDM</td>\n",
              "      <td>spotify:track:2Ao3Wi4raEOQfKQiU9EU8y</td>\n",
              "      <td>0.377991</td>\n",
              "      <td>0.792210</td>\n",
              "      <td>0.508438</td>\n",
              "      <td>0.815543</td>\n",
              "      <td>0.651748</td>\n",
              "      <td>-1.054332</td>\n",
              "      <td>2.061170</td>\n",
              "      <td>-1.359053</td>\n",
              "      <td>0.025302</td>\n",
              "      <td>1.778092</td>\n",
              "      <td>0.725184</td>\n",
              "      <td>0.384025</td>\n",
              "      <td>0</td>\n",
              "    </tr>\n",
              "    <tr>\n",
              "      <th>5519</th>\n",
              "      <td>You Can Make History (Young Again)</td>\n",
              "      <td>Elton John</td>\n",
              "      <td>spotify:track:3ca91BX2k7GSzEUsx1mPgI</td>\n",
              "      <td>0.625700</td>\n",
              "      <td>0.614590</td>\n",
              "      <td>-0.904754</td>\n",
              "      <td>0.126182</td>\n",
              "      <td>0.651748</td>\n",
              "      <td>-0.729955</td>\n",
              "      <td>1.584086</td>\n",
              "      <td>-0.412951</td>\n",
              "      <td>-0.979811</td>\n",
              "      <td>1.211730</td>\n",
              "      <td>0.381903</td>\n",
              "      <td>1.440921</td>\n",
              "      <td>1</td>\n",
              "    </tr>\n",
              "  </tbody>\n",
              "</table>\n",
              "<p>33401 rows × 16 columns</p>\n",
              "</div>\n",
              "      <button class=\"colab-df-convert\" onclick=\"convertToInteractive('df-ba41dd0d-dbfc-4b36-98f3-743f7b283209')\"\n",
              "              title=\"Convert this dataframe to an interactive table.\"\n",
              "              style=\"display:none;\">\n",
              "        \n",
              "  <svg xmlns=\"http://www.w3.org/2000/svg\" height=\"24px\"viewBox=\"0 0 24 24\"\n",
              "       width=\"24px\">\n",
              "    <path d=\"M0 0h24v24H0V0z\" fill=\"none\"/>\n",
              "    <path d=\"M18.56 5.44l.94 2.06.94-2.06 2.06-.94-2.06-.94-.94-2.06-.94 2.06-2.06.94zm-11 1L8.5 8.5l.94-2.06 2.06-.94-2.06-.94L8.5 2.5l-.94 2.06-2.06.94zm10 10l.94 2.06.94-2.06 2.06-.94-2.06-.94-.94-2.06-.94 2.06-2.06.94z\"/><path d=\"M17.41 7.96l-1.37-1.37c-.4-.4-.92-.59-1.43-.59-.52 0-1.04.2-1.43.59L10.3 9.45l-7.72 7.72c-.78.78-.78 2.05 0 2.83L4 21.41c.39.39.9.59 1.41.59.51 0 1.02-.2 1.41-.59l7.78-7.78 2.81-2.81c.8-.78.8-2.07 0-2.86zM5.41 20L4 18.59l7.72-7.72 1.47 1.35L5.41 20z\"/>\n",
              "  </svg>\n",
              "      </button>\n",
              "      \n",
              "  <style>\n",
              "    .colab-df-container {\n",
              "      display:flex;\n",
              "      flex-wrap:wrap;\n",
              "      gap: 12px;\n",
              "    }\n",
              "\n",
              "    .colab-df-convert {\n",
              "      background-color: #E8F0FE;\n",
              "      border: none;\n",
              "      border-radius: 50%;\n",
              "      cursor: pointer;\n",
              "      display: none;\n",
              "      fill: #1967D2;\n",
              "      height: 32px;\n",
              "      padding: 0 0 0 0;\n",
              "      width: 32px;\n",
              "    }\n",
              "\n",
              "    .colab-df-convert:hover {\n",
              "      background-color: #E2EBFA;\n",
              "      box-shadow: 0px 1px 2px rgba(60, 64, 67, 0.3), 0px 1px 3px 1px rgba(60, 64, 67, 0.15);\n",
              "      fill: #174EA6;\n",
              "    }\n",
              "\n",
              "    [theme=dark] .colab-df-convert {\n",
              "      background-color: #3B4455;\n",
              "      fill: #D2E3FC;\n",
              "    }\n",
              "\n",
              "    [theme=dark] .colab-df-convert:hover {\n",
              "      background-color: #434B5C;\n",
              "      box-shadow: 0px 1px 3px 1px rgba(0, 0, 0, 0.15);\n",
              "      filter: drop-shadow(0px 1px 2px rgba(0, 0, 0, 0.3));\n",
              "      fill: #FFFFFF;\n",
              "    }\n",
              "  </style>\n",
              "\n",
              "      <script>\n",
              "        const buttonEl =\n",
              "          document.querySelector('#df-ba41dd0d-dbfc-4b36-98f3-743f7b283209 button.colab-df-convert');\n",
              "        buttonEl.style.display =\n",
              "          google.colab.kernel.accessAllowed ? 'block' : 'none';\n",
              "\n",
              "        async function convertToInteractive(key) {\n",
              "          const element = document.querySelector('#df-ba41dd0d-dbfc-4b36-98f3-743f7b283209');\n",
              "          const dataTable =\n",
              "            await google.colab.kernel.invokeFunction('convertToInteractive',\n",
              "                                                     [key], {});\n",
              "          if (!dataTable) return;\n",
              "\n",
              "          const docLinkHtml = 'Like what you see? Visit the ' +\n",
              "            '<a target=\"_blank\" href=https://colab.research.google.com/notebooks/data_table.ipynb>data table notebook</a>'\n",
              "            + ' to learn more about interactive tables.';\n",
              "          element.innerHTML = '';\n",
              "          dataTable['output_type'] = 'display_data';\n",
              "          await google.colab.output.renderOutput(dataTable, element);\n",
              "          const docLink = document.createElement('div');\n",
              "          docLink.innerHTML = docLinkHtml;\n",
              "          element.appendChild(docLink);\n",
              "        }\n",
              "      </script>\n",
              "    </div>\n",
              "  </div>\n",
              "  "
            ]
          },
          "metadata": {},
          "execution_count": 26
        }
      ]
    },
    {
      "cell_type": "markdown",
      "source": [
        "# Building the Model"
      ],
      "metadata": {
        "id": "YUTQqtQqO3UV"
      }
    },
    {
      "cell_type": "markdown",
      "source": [
        "Creating X and Y"
      ],
      "metadata": {
        "id": "mYji37owVKNH"
      }
    },
    {
      "cell_type": "code",
      "source": [
        "X = df_merge.iloc[:,3:15]\n",
        "X.shape"
      ],
      "metadata": {
        "colab": {
          "base_uri": "https://localhost:8080/"
        },
        "id": "BM1ZIY3lQgW0",
        "outputId": "56a36945-29d7-44cf-840a-21208d87fed3"
      },
      "execution_count": null,
      "outputs": [
        {
          "output_type": "execute_result",
          "data": {
            "text/plain": [
              "(33401, 12)"
            ]
          },
          "metadata": {},
          "execution_count": 27
        }
      ]
    },
    {
      "cell_type": "code",
      "source": [
        "y = df_merge['target']\n",
        "y.shape"
      ],
      "metadata": {
        "colab": {
          "base_uri": "https://localhost:8080/"
        },
        "id": "zGZMPp8NQCGd",
        "outputId": "a66344f4-d213-4dbb-8dbc-a90638e58315"
      },
      "execution_count": null,
      "outputs": [
        {
          "output_type": "execute_result",
          "data": {
            "text/plain": [
              "(33401,)"
            ]
          },
          "metadata": {},
          "execution_count": 28
        }
      ]
    },
    {
      "cell_type": "markdown",
      "source": [
        "**Step 1 for choosing the top models**"
      ],
      "metadata": {
        "id": "HLRJP4ojVRoP"
      }
    },
    {
      "cell_type": "code",
      "source": [
        "from sklearn.model_selection import train_test_split"
      ],
      "metadata": {
        "id": "V2oSruSsO7bs"
      },
      "execution_count": null,
      "outputs": []
    },
    {
      "cell_type": "code",
      "source": [
        "X_train, X_test, y_train, y_test = train_test_split(X, y, train_size=0.8, shuffle=True, random_state=1)"
      ],
      "metadata": {
        "id": "ig9tCBus8sge"
      },
      "execution_count": null,
      "outputs": []
    },
    {
      "cell_type": "markdown",
      "source": [
        "# First Model Training"
      ],
      "metadata": {
        "id": "pT8-XBQg8n-n"
      }
    },
    {
      "cell_type": "code",
      "source": [
        "from sklearn.linear_model import LogisticRegression\n",
        "from sklearn.neighbors import KNeighborsClassifier\n",
        "from sklearn.tree import DecisionTreeClassifier\n",
        "from sklearn.svm import LinearSVC, SVC\n",
        "from sklearn.neural_network import MLPClassifier\n",
        "from sklearn.ensemble import RandomForestClassifier, GradientBoostingClassifier\n",
        "from sklearn import svm\n",
        "from sklearn.model_selection import cross_val_score"
      ],
      "metadata": {
        "id": "a8IdTMgEPCJE"
      },
      "execution_count": null,
      "outputs": []
    },
    {
      "cell_type": "code",
      "source": [
        "#training the models\n",
        "models = {\n",
        "    \"                   Logistic Regression\": LogisticRegression(),\n",
        "    \"                   K-Nearest Neighbors\": KNeighborsClassifier(),\n",
        "    \"                         Decision Tree\": DecisionTreeClassifier(),\n",
        "    \"Support Vector Machine (Linear Kernel)\": LinearSVC(),\n",
        "    \"   Support Vector Machine (RBF Kernel)\": SVC(),\n",
        "    \"                        Neural Network\": MLPClassifier(),\n",
        "    \"                         Random Forest\": RandomForestClassifier(),\n",
        "    \"                     Gradient Boosting\": GradientBoostingClassifier()\n",
        "}\n",
        "\n",
        "for name, model in models.items():\n",
        "    model.fit(X_train, y_train)\n",
        "    print(name + \" trained.\")"
      ],
      "metadata": {
        "colab": {
          "base_uri": "https://localhost:8080/"
        },
        "id": "1Se49IBLPJY0",
        "outputId": "02507975-855c-4a63-9a22-3c944878b7de"
      },
      "execution_count": null,
      "outputs": [
        {
          "output_type": "stream",
          "name": "stdout",
          "text": [
            "                   Logistic Regression trained.\n",
            "                   K-Nearest Neighbors trained.\n",
            "                         Decision Tree trained.\n"
          ]
        },
        {
          "output_type": "stream",
          "name": "stderr",
          "text": [
            "/usr/local/lib/python3.7/dist-packages/sklearn/svm/_base.py:1208: ConvergenceWarning: Liblinear failed to converge, increase the number of iterations.\n",
            "  ConvergenceWarning,\n"
          ]
        },
        {
          "output_type": "stream",
          "name": "stdout",
          "text": [
            "Support Vector Machine (Linear Kernel) trained.\n",
            "   Support Vector Machine (RBF Kernel) trained.\n"
          ]
        },
        {
          "output_type": "stream",
          "name": "stderr",
          "text": [
            "/usr/local/lib/python3.7/dist-packages/sklearn/neural_network/_multilayer_perceptron.py:696: ConvergenceWarning: Stochastic Optimizer: Maximum iterations (200) reached and the optimization hasn't converged yet.\n",
            "  ConvergenceWarning,\n"
          ]
        },
        {
          "output_type": "stream",
          "name": "stdout",
          "text": [
            "                        Neural Network trained.\n",
            "                         Random Forest trained.\n",
            "                     Gradient Boosting trained.\n"
          ]
        }
      ]
    },
    {
      "cell_type": "code",
      "source": [
        "#3 fold cross validation for choosing the top models\n",
        "models = {\n",
        "    \"                   Logistic Regression\": LogisticRegression(),\n",
        "    \"                   K-Nearest Neighbors\": KNeighborsClassifier(),\n",
        "    \"                         Decision Tree\": DecisionTreeClassifier(),\n",
        "    \"Support Vector Machine (Linear Kernel)\": LinearSVC(),\n",
        "    \"   Support Vector Machine (RBF Kernel)\": SVC(),\n",
        "    \"                        Neural Network\": MLPClassifier(),\n",
        "    \"                         Random Forest\": RandomForestClassifier(),\n",
        "    \"                     Gradient Boosting\": GradientBoostingClassifier()\n",
        "}\n",
        "\n",
        "mean_df = []\n",
        "for name, model in models.items():\n",
        "  mean_arr = {}\n",
        "  cv_results = cross_val_score(model, X_train, y_train, cv=3)\n",
        "  print(name, cv_results)\n",
        "  mean = np.mean(cv_results)\n",
        "  mean_arr['name']=name\n",
        "  mean_arr['result']=mean\n",
        "  mean_df.append(mean_arr)\n",
        "  \n",
        "    "
      ],
      "metadata": {
        "colab": {
          "base_uri": "https://localhost:8080/"
        },
        "id": "-NrAzoYPjOEW",
        "outputId": "53909909-2c27-4b2a-aca4-d9422be69827"
      },
      "execution_count": null,
      "outputs": [
        {
          "output_type": "stream",
          "name": "stdout",
          "text": [
            "                   Logistic Regression [0.68092512 0.68260918 0.68100157]\n",
            "                   K-Nearest Neighbors [0.68126193 0.6813742  0.68942286]\n",
            "                         Decision Tree [0.64937689 0.64960144 0.64596901]\n"
          ]
        },
        {
          "output_type": "stream",
          "name": "stderr",
          "text": [
            "/usr/local/lib/python3.7/dist-packages/sklearn/svm/_base.py:1208: ConvergenceWarning: Liblinear failed to converge, increase the number of iterations.\n",
            "  ConvergenceWarning,\n",
            "/usr/local/lib/python3.7/dist-packages/sklearn/svm/_base.py:1208: ConvergenceWarning: Liblinear failed to converge, increase the number of iterations.\n",
            "  ConvergenceWarning,\n"
          ]
        },
        {
          "output_type": "stream",
          "name": "stdout",
          "text": [
            "Support Vector Machine (Linear Kernel) [0.68193556 0.68272146 0.68212441]\n",
            "   Support Vector Machine (RBF Kernel) [0.73234535 0.73492759 0.73545924]\n"
          ]
        },
        {
          "output_type": "stream",
          "name": "stderr",
          "text": [
            "/usr/local/lib/python3.7/dist-packages/sklearn/neural_network/_multilayer_perceptron.py:696: ConvergenceWarning: Stochastic Optimizer: Maximum iterations (200) reached and the optimization hasn't converged yet.\n",
            "  ConvergenceWarning,\n",
            "/usr/local/lib/python3.7/dist-packages/sklearn/neural_network/_multilayer_perceptron.py:696: ConvergenceWarning: Stochastic Optimizer: Maximum iterations (200) reached and the optimization hasn't converged yet.\n",
            "  ConvergenceWarning,\n",
            "/usr/local/lib/python3.7/dist-packages/sklearn/neural_network/_multilayer_perceptron.py:696: ConvergenceWarning: Stochastic Optimizer: Maximum iterations (200) reached and the optimization hasn't converged yet.\n",
            "  ConvergenceWarning,\n"
          ]
        },
        {
          "output_type": "stream",
          "name": "stdout",
          "text": [
            "                        Neural Network [0.73268216 0.73279443 0.72838536]\n",
            "                         Random Forest [0.73762209 0.73896935 0.73253986]\n",
            "                     Gradient Boosting [0.73402942 0.73021219 0.72860993]\n"
          ]
        }
      ]
    },
    {
      "cell_type": "code",
      "source": [
        "pd.DataFrame(mean_df)"
      ],
      "metadata": {
        "colab": {
          "base_uri": "https://localhost:8080/",
          "height": 300
        },
        "id": "6sQLwsWhkfGp",
        "outputId": "93499672-c58c-4253-8733-dd02d608d5b8"
      },
      "execution_count": null,
      "outputs": [
        {
          "output_type": "execute_result",
          "data": {
            "text/plain": [
              "                                     name    result\n",
              "0                     Logistic Regression  0.681512\n",
              "1                     K-Nearest Neighbors  0.684020\n",
              "2                           Decision Tree  0.648316\n",
              "3  Support Vector Machine (Linear Kernel)  0.682260\n",
              "4     Support Vector Machine (RBF Kernel)  0.734244\n",
              "5                          Neural Network  0.731287\n",
              "6                           Random Forest  0.736377\n",
              "7                       Gradient Boosting  0.730951"
            ],
            "text/html": [
              "\n",
              "  <div id=\"df-e2826192-05b0-40c4-96e2-7d628c6e78ce\">\n",
              "    <div class=\"colab-df-container\">\n",
              "      <div>\n",
              "<style scoped>\n",
              "    .dataframe tbody tr th:only-of-type {\n",
              "        vertical-align: middle;\n",
              "    }\n",
              "\n",
              "    .dataframe tbody tr th {\n",
              "        vertical-align: top;\n",
              "    }\n",
              "\n",
              "    .dataframe thead th {\n",
              "        text-align: right;\n",
              "    }\n",
              "</style>\n",
              "<table border=\"1\" class=\"dataframe\">\n",
              "  <thead>\n",
              "    <tr style=\"text-align: right;\">\n",
              "      <th></th>\n",
              "      <th>name</th>\n",
              "      <th>result</th>\n",
              "    </tr>\n",
              "  </thead>\n",
              "  <tbody>\n",
              "    <tr>\n",
              "      <th>0</th>\n",
              "      <td>Logistic Regression</td>\n",
              "      <td>0.681512</td>\n",
              "    </tr>\n",
              "    <tr>\n",
              "      <th>1</th>\n",
              "      <td>K-Nearest Neighbors</td>\n",
              "      <td>0.684020</td>\n",
              "    </tr>\n",
              "    <tr>\n",
              "      <th>2</th>\n",
              "      <td>Decision Tree</td>\n",
              "      <td>0.648316</td>\n",
              "    </tr>\n",
              "    <tr>\n",
              "      <th>3</th>\n",
              "      <td>Support Vector Machine (Linear Kernel)</td>\n",
              "      <td>0.682260</td>\n",
              "    </tr>\n",
              "    <tr>\n",
              "      <th>4</th>\n",
              "      <td>Support Vector Machine (RBF Kernel)</td>\n",
              "      <td>0.734244</td>\n",
              "    </tr>\n",
              "    <tr>\n",
              "      <th>5</th>\n",
              "      <td>Neural Network</td>\n",
              "      <td>0.731287</td>\n",
              "    </tr>\n",
              "    <tr>\n",
              "      <th>6</th>\n",
              "      <td>Random Forest</td>\n",
              "      <td>0.736377</td>\n",
              "    </tr>\n",
              "    <tr>\n",
              "      <th>7</th>\n",
              "      <td>Gradient Boosting</td>\n",
              "      <td>0.730951</td>\n",
              "    </tr>\n",
              "  </tbody>\n",
              "</table>\n",
              "</div>\n",
              "      <button class=\"colab-df-convert\" onclick=\"convertToInteractive('df-e2826192-05b0-40c4-96e2-7d628c6e78ce')\"\n",
              "              title=\"Convert this dataframe to an interactive table.\"\n",
              "              style=\"display:none;\">\n",
              "        \n",
              "  <svg xmlns=\"http://www.w3.org/2000/svg\" height=\"24px\"viewBox=\"0 0 24 24\"\n",
              "       width=\"24px\">\n",
              "    <path d=\"M0 0h24v24H0V0z\" fill=\"none\"/>\n",
              "    <path d=\"M18.56 5.44l.94 2.06.94-2.06 2.06-.94-2.06-.94-.94-2.06-.94 2.06-2.06.94zm-11 1L8.5 8.5l.94-2.06 2.06-.94-2.06-.94L8.5 2.5l-.94 2.06-2.06.94zm10 10l.94 2.06.94-2.06 2.06-.94-2.06-.94-.94-2.06-.94 2.06-2.06.94z\"/><path d=\"M17.41 7.96l-1.37-1.37c-.4-.4-.92-.59-1.43-.59-.52 0-1.04.2-1.43.59L10.3 9.45l-7.72 7.72c-.78.78-.78 2.05 0 2.83L4 21.41c.39.39.9.59 1.41.59.51 0 1.02-.2 1.41-.59l7.78-7.78 2.81-2.81c.8-.78.8-2.07 0-2.86zM5.41 20L4 18.59l7.72-7.72 1.47 1.35L5.41 20z\"/>\n",
              "  </svg>\n",
              "      </button>\n",
              "      \n",
              "  <style>\n",
              "    .colab-df-container {\n",
              "      display:flex;\n",
              "      flex-wrap:wrap;\n",
              "      gap: 12px;\n",
              "    }\n",
              "\n",
              "    .colab-df-convert {\n",
              "      background-color: #E8F0FE;\n",
              "      border: none;\n",
              "      border-radius: 50%;\n",
              "      cursor: pointer;\n",
              "      display: none;\n",
              "      fill: #1967D2;\n",
              "      height: 32px;\n",
              "      padding: 0 0 0 0;\n",
              "      width: 32px;\n",
              "    }\n",
              "\n",
              "    .colab-df-convert:hover {\n",
              "      background-color: #E2EBFA;\n",
              "      box-shadow: 0px 1px 2px rgba(60, 64, 67, 0.3), 0px 1px 3px 1px rgba(60, 64, 67, 0.15);\n",
              "      fill: #174EA6;\n",
              "    }\n",
              "\n",
              "    [theme=dark] .colab-df-convert {\n",
              "      background-color: #3B4455;\n",
              "      fill: #D2E3FC;\n",
              "    }\n",
              "\n",
              "    [theme=dark] .colab-df-convert:hover {\n",
              "      background-color: #434B5C;\n",
              "      box-shadow: 0px 1px 3px 1px rgba(0, 0, 0, 0.15);\n",
              "      filter: drop-shadow(0px 1px 2px rgba(0, 0, 0, 0.3));\n",
              "      fill: #FFFFFF;\n",
              "    }\n",
              "  </style>\n",
              "\n",
              "      <script>\n",
              "        const buttonEl =\n",
              "          document.querySelector('#df-e2826192-05b0-40c4-96e2-7d628c6e78ce button.colab-df-convert');\n",
              "        buttonEl.style.display =\n",
              "          google.colab.kernel.accessAllowed ? 'block' : 'none';\n",
              "\n",
              "        async function convertToInteractive(key) {\n",
              "          const element = document.querySelector('#df-e2826192-05b0-40c4-96e2-7d628c6e78ce');\n",
              "          const dataTable =\n",
              "            await google.colab.kernel.invokeFunction('convertToInteractive',\n",
              "                                                     [key], {});\n",
              "          if (!dataTable) return;\n",
              "\n",
              "          const docLinkHtml = 'Like what you see? Visit the ' +\n",
              "            '<a target=\"_blank\" href=https://colab.research.google.com/notebooks/data_table.ipynb>data table notebook</a>'\n",
              "            + ' to learn more about interactive tables.';\n",
              "          element.innerHTML = '';\n",
              "          dataTable['output_type'] = 'display_data';\n",
              "          await google.colab.output.renderOutput(dataTable, element);\n",
              "          const docLink = document.createElement('div');\n",
              "          docLink.innerHTML = docLinkHtml;\n",
              "          element.appendChild(docLink);\n",
              "        }\n",
              "      </script>\n",
              "    </div>\n",
              "  </div>\n",
              "  "
            ]
          },
          "metadata": {},
          "execution_count": 66
        }
      ]
    },
    {
      "cell_type": "markdown",
      "source": [
        "In the first step we choose the top 4 models.\n",
        "\n"
      ],
      "metadata": {
        "id": "XrLy9FjHTdfq"
      }
    },
    {
      "cell_type": "markdown",
      "source": [
        "# **5 fold Cross Validation for choosing the best model**"
      ],
      "metadata": {
        "id": "QeBSK7HZaDiw"
      }
    },
    {
      "cell_type": "markdown",
      "source": [
        "Support Vector Machine"
      ],
      "metadata": {
        "id": "Z6DRt0ccaB--"
      }
    },
    {
      "cell_type": "code",
      "source": [
        "#Support vector machine\n",
        "from sklearn.model_selection import cross_val_score\n",
        "\n",
        "clf = SVC()\n",
        "cv_results = cross_val_score(clf, X, y, cv=5)\n",
        "cv_results"
      ],
      "metadata": {
        "colab": {
          "base_uri": "https://localhost:8080/"
        },
        "id": "YDg7WKFMXL5M",
        "outputId": "de3bf391-da00-4906-c2d5-c8113e1e2db9"
      },
      "execution_count": null,
      "outputs": [
        {
          "output_type": "execute_result",
          "data": {
            "text/plain": [
              "array([0.7536297 , 0.71901198, 0.68203593, 0.70778443, 0.73203593])"
            ]
          },
          "metadata": {},
          "execution_count": 29
        }
      ]
    },
    {
      "cell_type": "code",
      "source": [
        "np.mean(cv_results)"
      ],
      "metadata": {
        "colab": {
          "base_uri": "https://localhost:8080/"
        },
        "id": "81Fm4aMlYWWu",
        "outputId": "63860c7a-c802-489f-8553-62fd931af693"
      },
      "execution_count": null,
      "outputs": [
        {
          "output_type": "execute_result",
          "data": {
            "text/plain": [
              "0.718899591925265"
            ]
          },
          "metadata": {},
          "execution_count": 30
        }
      ]
    },
    {
      "cell_type": "markdown",
      "source": [
        "The accuracy of support vector machine model is 0.71"
      ],
      "metadata": {
        "id": "vcd9jG7BYxos"
      }
    },
    {
      "cell_type": "markdown",
      "source": [
        "Neural Networks"
      ],
      "metadata": {
        "id": "ZELysTiqa8nI"
      }
    },
    {
      "cell_type": "code",
      "source": [
        "from sklearn.model_selection import cross_val_score\n",
        "cv_results = cross_val_score(clf, X, y, cv=5)\n",
        "cv_results = cross_val_score(clf, X, y, cv=5)\n",
        "cv_results"
      ],
      "metadata": {
        "colab": {
          "base_uri": "https://localhost:8080/"
        },
        "id": "19Z-N_GUeWSa",
        "outputId": "042879e2-77a3-46a4-aeb7-857f77758e67"
      },
      "execution_count": null,
      "outputs": [
        {
          "output_type": "stream",
          "name": "stderr",
          "text": [
            "/usr/local/lib/python3.7/dist-packages/sklearn/neural_network/_multilayer_perceptron.py:696: ConvergenceWarning: Stochastic Optimizer: Maximum iterations (200) reached and the optimization hasn't converged yet.\n",
            "  ConvergenceWarning,\n",
            "/usr/local/lib/python3.7/dist-packages/sklearn/neural_network/_multilayer_perceptron.py:696: ConvergenceWarning: Stochastic Optimizer: Maximum iterations (200) reached and the optimization hasn't converged yet.\n",
            "  ConvergenceWarning,\n",
            "/usr/local/lib/python3.7/dist-packages/sklearn/neural_network/_multilayer_perceptron.py:696: ConvergenceWarning: Stochastic Optimizer: Maximum iterations (200) reached and the optimization hasn't converged yet.\n",
            "  ConvergenceWarning,\n",
            "/usr/local/lib/python3.7/dist-packages/sklearn/neural_network/_multilayer_perceptron.py:696: ConvergenceWarning: Stochastic Optimizer: Maximum iterations (200) reached and the optimization hasn't converged yet.\n",
            "  ConvergenceWarning,\n",
            "/usr/local/lib/python3.7/dist-packages/sklearn/neural_network/_multilayer_perceptron.py:696: ConvergenceWarning: Stochastic Optimizer: Maximum iterations (200) reached and the optimization hasn't converged yet.\n",
            "  ConvergenceWarning,\n"
          ]
        },
        {
          "output_type": "execute_result",
          "data": {
            "text/plain": [
              "array([0.7597665 , 0.71946108, 0.66511976, 0.70194611, 0.74026946])"
            ]
          },
          "metadata": {},
          "execution_count": 30
        }
      ]
    },
    {
      "cell_type": "code",
      "source": [
        "np.mean(cv_results)"
      ],
      "metadata": {
        "colab": {
          "base_uri": "https://localhost:8080/"
        },
        "id": "PIdsfDfVgFNm",
        "outputId": "5044f73c-c723-4cb3-ccb5-7c2ce5f6448d"
      },
      "execution_count": null,
      "outputs": [
        {
          "output_type": "execute_result",
          "data": {
            "text/plain": [
              "0.7173125818412569"
            ]
          },
          "metadata": {},
          "execution_count": 50
        }
      ]
    },
    {
      "cell_type": "markdown",
      "source": [
        "The accuracy for neural network model is 0.71"
      ],
      "metadata": {
        "id": "dlWq7XFYY6lh"
      }
    },
    {
      "cell_type": "markdown",
      "source": [
        "**Random Forest**"
      ],
      "metadata": {
        "id": "0rgvooH6ub4u"
      }
    },
    {
      "cell_type": "code",
      "source": [
        "#Random Forest\n",
        "from sklearn.model_selection import GridSearchCV\n",
        "from sklearn.model_selection import RandomizedSearchCV\n",
        "\n",
        "random_grid = {'bootstrap': [True, False],\n",
        " 'max_depth': [10, 20, 30, 40, 50, 60, 70, 80, 90, 100, None],\n",
        " 'max_features': ['auto', 'sqrt'],\n",
        " 'min_samples_leaf': [1, 2, 4],\n",
        " 'min_samples_split': [2, 5, 10],\n",
        " 'n_estimators': [200, 400, 600, 800, 1000, 1200, 1400, 1600, 1800, 2000]}\n",
        "\n",
        "rand = RandomizedSearchCV(RandomForestClassifier(), param_distributions = random_grid, n_iter = 1, cv = 2)\n",
        "rand.fit(X_train, y_train)"
      ],
      "metadata": {
        "id": "BupOn9_KubaN",
        "colab": {
          "base_uri": "https://localhost:8080/"
        },
        "outputId": "8dee2159-dd1d-4d71-fdb6-93e106aa7260"
      },
      "execution_count": null,
      "outputs": [
        {
          "output_type": "execute_result",
          "data": {
            "text/plain": [
              "RandomizedSearchCV(cv=2, estimator=RandomForestClassifier(), n_iter=1,\n",
              "                   param_distributions={'bootstrap': [True, False],\n",
              "                                        'max_depth': [10, 20, 30, 40, 50, 60,\n",
              "                                                      70, 80, 90, 100, None],\n",
              "                                        'max_features': ['auto', 'sqrt'],\n",
              "                                        'min_samples_leaf': [1, 2, 4],\n",
              "                                        'min_samples_split': [2, 5, 10],\n",
              "                                        'n_estimators': [200, 400, 600, 800,\n",
              "                                                         1000, 1200, 1400, 1600,\n",
              "                                                         1800, 2000]})"
            ]
          },
          "metadata": {},
          "execution_count": 37
        }
      ]
    },
    {
      "cell_type": "code",
      "source": [
        "#Random Forest\n",
        "\n",
        "from sklearn.model_selection import cross_val_score\n",
        "m = RandomForestClassifier()\n",
        "print(cross_val_score(RandomForestClassifier(),X_train, y_train,cv=5))"
      ],
      "metadata": {
        "colab": {
          "base_uri": "https://localhost:8080/"
        },
        "id": "Lr5T1r7QJdcV",
        "outputId": "9027aa90-e31c-4b27-edea-f6b89e3bed97"
      },
      "execution_count": null,
      "outputs": [
        {
          "output_type": "stream",
          "name": "stdout",
          "text": [
            "[0.74438623 0.72735778 0.7369012  0.74195359 0.7376497 ]\n"
          ]
        }
      ]
    },
    {
      "cell_type": "code",
      "source": [
        "np.mean(([0.74513473, 0.72922904, 0.74045659, 0.74326347, 0.74195359]))"
      ],
      "metadata": {
        "colab": {
          "base_uri": "https://localhost:8080/"
        },
        "id": "euMeiPDaZFD0",
        "outputId": "d7c402e5-1798-4426-bffa-34ddd5ba73fb"
      },
      "execution_count": null,
      "outputs": [
        {
          "output_type": "execute_result",
          "data": {
            "text/plain": [
              "0.740007484"
            ]
          },
          "metadata": {},
          "execution_count": 32
        }
      ]
    },
    {
      "cell_type": "markdown",
      "source": [
        "The accuracy for the random forest model is 0.74"
      ],
      "metadata": {
        "id": "5pDmndldZuJg"
      }
    },
    {
      "cell_type": "markdown",
      "source": [
        "Gradient Boosting"
      ],
      "metadata": {
        "id": "RTMOq6j5aLF1"
      }
    },
    {
      "cell_type": "code",
      "source": [
        "#gradient boosting\n",
        "\n",
        "clf = GradientBoostingClassifier()\n",
        "cv_results = cross_val_score(clf, X, y, cv=5)\n",
        "cv_results\n"
      ],
      "metadata": {
        "colab": {
          "base_uri": "https://localhost:8080/"
        },
        "id": "CGOz3OezaNIG",
        "outputId": "b7d0883f-8557-4900-e16e-2ab19d9b57d8"
      },
      "execution_count": null,
      "outputs": [
        {
          "output_type": "execute_result",
          "data": {
            "text/plain": [
              "array([0.75886843, 0.71721557, 0.65643713, 0.7005988 , 0.73173653])"
            ]
          },
          "metadata": {},
          "execution_count": 33
        }
      ]
    },
    {
      "cell_type": "code",
      "source": [
        "np.mean(cv_results)"
      ],
      "metadata": {
        "colab": {
          "base_uri": "https://localhost:8080/"
        },
        "id": "dgaaIkCcdaZQ",
        "outputId": "971b021b-9934-47eb-82c9-bdc239e53a2f"
      },
      "execution_count": null,
      "outputs": [
        {
          "output_type": "execute_result",
          "data": {
            "text/plain": [
              "0.7129712913642854"
            ]
          },
          "metadata": {},
          "execution_count": 34
        }
      ]
    },
    {
      "cell_type": "markdown",
      "source": [
        "The accuracy for the gradient boosting model is 0.71"
      ],
      "metadata": {
        "id": "oxY0QBPwddrJ"
      }
    },
    {
      "cell_type": "markdown",
      "source": [
        "We choose Random Forest as our final model."
      ],
      "metadata": {
        "id": "t2PUEs1Udh45"
      }
    },
    {
      "cell_type": "markdown",
      "source": [
        "# **Model Implementation Part 2: Random Forest Model**"
      ],
      "metadata": {
        "id": "BUXQdSKsh916"
      }
    },
    {
      "cell_type": "code",
      "source": [
        "from sklearn.metrics import accuracy_score\n",
        "rf = RandomForestClassifier()\n",
        "rf.fit(X_train, y_train)\n"
      ],
      "metadata": {
        "colab": {
          "base_uri": "https://localhost:8080/"
        },
        "id": "DKG1UkB9h8Ks",
        "outputId": "0b36004a-b7ec-4085-baa4-c29569987211"
      },
      "execution_count": null,
      "outputs": [
        {
          "output_type": "execute_result",
          "data": {
            "text/plain": [
              "RandomForestClassifier()"
            ]
          },
          "metadata": {},
          "execution_count": 98
        }
      ]
    },
    {
      "cell_type": "code",
      "source": [
        ""
      ],
      "metadata": {
        "id": "yzbpx2v3pT4O"
      },
      "execution_count": null,
      "outputs": []
    },
    {
      "cell_type": "markdown",
      "source": [
        "**Importance of the variables**"
      ],
      "metadata": {
        "id": "bT-DK7c2ntr5"
      }
    },
    {
      "cell_type": "code",
      "source": [
        "#feature importance\n",
        "importances = list(rf.feature_importances_)\n",
        "\n",
        "feature_importances = [(feature, round(importance, 2)) for feature, importance in zip(X.columns, importances)]\n",
        "feature_importances"
      ],
      "metadata": {
        "colab": {
          "base_uri": "https://localhost:8080/"
        },
        "id": "3ujxn8AZkixG",
        "outputId": "e1c5fb0f-d3b9-46a8-c3ac-8b44d9594431"
      },
      "execution_count": null,
      "outputs": [
        {
          "output_type": "execute_result",
          "data": {
            "text/plain": [
              "[('danceability', 0.13),\n",
              " ('energy', 0.11),\n",
              " ('key', 0.04),\n",
              " ('loudness', 0.1),\n",
              " ('mode', 0.01),\n",
              " ('acousticness', 0.15),\n",
              " ('liveness', 0.07),\n",
              " ('valence', 0.09),\n",
              " ('tempo', 0.07),\n",
              " ('duration_ms', 0.11),\n",
              " ('chorus_hit', 0.07),\n",
              " ('sections', 0.04)]"
            ]
          },
          "metadata": {},
          "execution_count": 68
        }
      ]
    },
    {
      "cell_type": "code",
      "source": [
        "#plotting feature importance\n",
        "feat_importances_plot = pd.Series(rf.feature_importances_, index=X.columns)\n",
        "feat_importances_plot.plot(kind='barh')\n",
        "plt.ylabel(\"Predictors\")\n",
        "plt.xlabel(\"Feature Importance\")"
      ],
      "metadata": {
        "colab": {
          "base_uri": "https://localhost:8080/",
          "height": 901
        },
        "id": "vSnQ-lm0q8Dc",
        "outputId": "ac31c8af-9f21-49db-a3c5-5d25d3a03b7f"
      },
      "execution_count": null,
      "outputs": [
        {
          "output_type": "execute_result",
          "data": {
            "text/plain": [
              "Text(0.5, 0, 'Feature Importance')"
            ]
          },
          "metadata": {},
          "execution_count": 83
        },
        {
          "output_type": "display_data",
          "data": {
            "text/plain": [
              "<Figure size 864x1080 with 1 Axes>"
            ],
            "image/png": "[encoded data removed]"
          },
          "metadata": {}
        }
      ]
    },
    {
      "cell_type": "code",
      "source": [
        "#dropping 3 less important predictors\n",
        "X_reduced = X.drop(labels=['key', 'mode', 'sections'], axis=1)\n",
        "X_reduced"
      ],
      "metadata": {
        "colab": {
          "base_uri": "https://localhost:8080/",
          "height": 423
        },
        "id": "pDuKqZcJlPRg",
        "outputId": "d5cf3782-2b08-4ce7-ad6b-19c92cd59bb8"
      },
      "execution_count": null,
      "outputs": [
        {
          "output_type": "execute_result",
          "data": {
            "text/plain": [
              "      danceability    energy  loudness  acousticness  liveness   valence  \\\n",
              "0         0.118486 -0.518795  0.535085      0.072572 -0.076165 -0.126019   \n",
              "1         0.861614  1.100931  0.957657     -0.997974 -0.181124  0.478866   \n",
              "2        -2.335015  1.024808  1.539313     -1.054301  0.066960 -1.025591   \n",
              "3        -2.181672  1.692998  1.365853     -1.054618  0.238710 -0.897635   \n",
              "4         0.425174  0.720316  1.222560      0.057257 -0.400582  0.257851   \n",
              "...            ...       ...       ...           ...       ...       ...   \n",
              "5515     -0.954921  0.851417  0.817900     -1.051798  0.143293  0.765799   \n",
              "5516      0.372093  0.259350  0.768171     -0.899649 -0.699237  0.486621   \n",
              "5517      0.024120 -1.182755 -1.336912      0.293114 -0.581874  0.025203   \n",
              "5518      0.377991  0.792210  0.815543     -1.054332  2.061170 -1.359053   \n",
              "5519      0.625700  0.614590  0.126182     -0.729955  1.584086 -0.412951   \n",
              "\n",
              "         tempo  duration_ms  chorus_hit  \n",
              "0     0.495782    -0.315094   -0.479443  \n",
              "1    -0.953376     0.405103    0.308361  \n",
              "2    -1.171222     1.916857    2.073455  \n",
              "3     1.051932     0.610425    1.574441  \n",
              "4    -0.262302    -0.361354   -1.091335  \n",
              "...        ...          ...         ...  \n",
              "5515  1.214773    -2.114016   -0.519424  \n",
              "5516  0.535778    -0.080480   -0.181938  \n",
              "5517  1.717583    -0.423092   -1.202957  \n",
              "5518  0.025302     1.778092    0.725184  \n",
              "5519 -0.979811     1.211730    0.381903  \n",
              "\n",
              "[33401 rows x 9 columns]"
            ],
            "text/html": [
              "\n",
              "  <div id=\"df-98d0f962-05d9-4dad-9aad-ba7b84448881\">\n",
              "    <div class=\"colab-df-container\">\n",
              "      <div>\n",
              "<style scoped>\n",
              "    .dataframe tbody tr th:only-of-type {\n",
              "        vertical-align: middle;\n",
              "    }\n",
              "\n",
              "    .dataframe tbody tr th {\n",
              "        vertical-align: top;\n",
              "    }\n",
              "\n",
              "    .dataframe thead th {\n",
              "        text-align: right;\n",
              "    }\n",
              "</style>\n",
              "<table border=\"1\" class=\"dataframe\">\n",
              "  <thead>\n",
              "    <tr style=\"text-align: right;\">\n",
              "      <th></th>\n",
              "      <th>danceability</th>\n",
              "      <th>energy</th>\n",
              "      <th>loudness</th>\n",
              "      <th>acousticness</th>\n",
              "      <th>liveness</th>\n",
              "      <th>valence</th>\n",
              "      <th>tempo</th>\n",
              "      <th>duration_ms</th>\n",
              "      <th>chorus_hit</th>\n",
              "    </tr>\n",
              "  </thead>\n",
              "  <tbody>\n",
              "    <tr>\n",
              "      <th>0</th>\n",
              "      <td>0.118486</td>\n",
              "      <td>-0.518795</td>\n",
              "      <td>0.535085</td>\n",
              "      <td>0.072572</td>\n",
              "      <td>-0.076165</td>\n",
              "      <td>-0.126019</td>\n",
              "      <td>0.495782</td>\n",
              "      <td>-0.315094</td>\n",
              "      <td>-0.479443</td>\n",
              "    </tr>\n",
              "    <tr>\n",
              "      <th>1</th>\n",
              "      <td>0.861614</td>\n",
              "      <td>1.100931</td>\n",
              "      <td>0.957657</td>\n",
              "      <td>-0.997974</td>\n",
              "      <td>-0.181124</td>\n",
              "      <td>0.478866</td>\n",
              "      <td>-0.953376</td>\n",
              "      <td>0.405103</td>\n",
              "      <td>0.308361</td>\n",
              "    </tr>\n",
              "    <tr>\n",
              "      <th>2</th>\n",
              "      <td>-2.335015</td>\n",
              "      <td>1.024808</td>\n",
              "      <td>1.539313</td>\n",
              "      <td>-1.054301</td>\n",
              "      <td>0.066960</td>\n",
              "      <td>-1.025591</td>\n",
              "      <td>-1.171222</td>\n",
              "      <td>1.916857</td>\n",
              "      <td>2.073455</td>\n",
              "    </tr>\n",
              "    <tr>\n",
              "      <th>3</th>\n",
              "      <td>-2.181672</td>\n",
              "      <td>1.692998</td>\n",
              "      <td>1.365853</td>\n",
              "      <td>-1.054618</td>\n",
              "      <td>0.238710</td>\n",
              "      <td>-0.897635</td>\n",
              "      <td>1.051932</td>\n",
              "      <td>0.610425</td>\n",
              "      <td>1.574441</td>\n",
              "    </tr>\n",
              "    <tr>\n",
              "      <th>4</th>\n",
              "      <td>0.425174</td>\n",
              "      <td>0.720316</td>\n",
              "      <td>1.222560</td>\n",
              "      <td>0.057257</td>\n",
              "      <td>-0.400582</td>\n",
              "      <td>0.257851</td>\n",
              "      <td>-0.262302</td>\n",
              "      <td>-0.361354</td>\n",
              "      <td>-1.091335</td>\n",
              "    </tr>\n",
              "    <tr>\n",
              "      <th>...</th>\n",
              "      <td>...</td>\n",
              "      <td>...</td>\n",
              "      <td>...</td>\n",
              "      <td>...</td>\n",
              "      <td>...</td>\n",
              "      <td>...</td>\n",
              "      <td>...</td>\n",
              "      <td>...</td>\n",
              "      <td>...</td>\n",
              "    </tr>\n",
              "    <tr>\n",
              "      <th>5515</th>\n",
              "      <td>-0.954921</td>\n",
              "      <td>0.851417</td>\n",
              "      <td>0.817900</td>\n",
              "      <td>-1.051798</td>\n",
              "      <td>0.143293</td>\n",
              "      <td>0.765799</td>\n",
              "      <td>1.214773</td>\n",
              "      <td>-2.114016</td>\n",
              "      <td>-0.519424</td>\n",
              "    </tr>\n",
              "    <tr>\n",
              "      <th>5516</th>\n",
              "      <td>0.372093</td>\n",
              "      <td>0.259350</td>\n",
              "      <td>0.768171</td>\n",
              "      <td>-0.899649</td>\n",
              "      <td>-0.699237</td>\n",
              "      <td>0.486621</td>\n",
              "      <td>0.535778</td>\n",
              "      <td>-0.080480</td>\n",
              "      <td>-0.181938</td>\n",
              "    </tr>\n",
              "    <tr>\n",
              "      <th>5517</th>\n",
              "      <td>0.024120</td>\n",
              "      <td>-1.182755</td>\n",
              "      <td>-1.336912</td>\n",
              "      <td>0.293114</td>\n",
              "      <td>-0.581874</td>\n",
              "      <td>0.025203</td>\n",
              "      <td>1.717583</td>\n",
              "      <td>-0.423092</td>\n",
              "      <td>-1.202957</td>\n",
              "    </tr>\n",
              "    <tr>\n",
              "      <th>5518</th>\n",
              "      <td>0.377991</td>\n",
              "      <td>0.792210</td>\n",
              "      <td>0.815543</td>\n",
              "      <td>-1.054332</td>\n",
              "      <td>2.061170</td>\n",
              "      <td>-1.359053</td>\n",
              "      <td>0.025302</td>\n",
              "      <td>1.778092</td>\n",
              "      <td>0.725184</td>\n",
              "    </tr>\n",
              "    <tr>\n",
              "      <th>5519</th>\n",
              "      <td>0.625700</td>\n",
              "      <td>0.614590</td>\n",
              "      <td>0.126182</td>\n",
              "      <td>-0.729955</td>\n",
              "      <td>1.584086</td>\n",
              "      <td>-0.412951</td>\n",
              "      <td>-0.979811</td>\n",
              "      <td>1.211730</td>\n",
              "      <td>0.381903</td>\n",
              "    </tr>\n",
              "  </tbody>\n",
              "</table>\n",
              "<p>33401 rows × 9 columns</p>\n",
              "</div>\n",
              "      <button class=\"colab-df-convert\" onclick=\"convertToInteractive('df-98d0f962-05d9-4dad-9aad-ba7b84448881')\"\n",
              "              title=\"Convert this dataframe to an interactive table.\"\n",
              "              style=\"display:none;\">\n",
              "        \n",
              "  <svg xmlns=\"http://www.w3.org/2000/svg\" height=\"24px\"viewBox=\"0 0 24 24\"\n",
              "       width=\"24px\">\n",
              "    <path d=\"M0 0h24v24H0V0z\" fill=\"none\"/>\n",
              "    <path d=\"M18.56 5.44l.94 2.06.94-2.06 2.06-.94-2.06-.94-.94-2.06-.94 2.06-2.06.94zm-11 1L8.5 8.5l.94-2.06 2.06-.94-2.06-.94L8.5 2.5l-.94 2.06-2.06.94zm10 10l.94 2.06.94-2.06 2.06-.94-2.06-.94-.94-2.06-.94 2.06-2.06.94z\"/><path d=\"M17.41 7.96l-1.37-1.37c-.4-.4-.92-.59-1.43-.59-.52 0-1.04.2-1.43.59L10.3 9.45l-7.72 7.72c-.78.78-.78 2.05 0 2.83L4 21.41c.39.39.9.59 1.41.59.51 0 1.02-.2 1.41-.59l7.78-7.78 2.81-2.81c.8-.78.8-2.07 0-2.86zM5.41 20L4 18.59l7.72-7.72 1.47 1.35L5.41 20z\"/>\n",
              "  </svg>\n",
              "      </button>\n",
              "      \n",
              "  <style>\n",
              "    .colab-df-container {\n",
              "      display:flex;\n",
              "      flex-wrap:wrap;\n",
              "      gap: 12px;\n",
              "    }\n",
              "\n",
              "    .colab-df-convert {\n",
              "      background-color: #E8F0FE;\n",
              "      border: none;\n",
              "      border-radius: 50%;\n",
              "      cursor: pointer;\n",
              "      display: none;\n",
              "      fill: #1967D2;\n",
              "      height: 32px;\n",
              "      padding: 0 0 0 0;\n",
              "      width: 32px;\n",
              "    }\n",
              "\n",
              "    .colab-df-convert:hover {\n",
              "      background-color: #E2EBFA;\n",
              "      box-shadow: 0px 1px 2px rgba(60, 64, 67, 0.3), 0px 1px 3px 1px rgba(60, 64, 67, 0.15);\n",
              "      fill: #174EA6;\n",
              "    }\n",
              "\n",
              "    [theme=dark] .colab-df-convert {\n",
              "      background-color: #3B4455;\n",
              "      fill: #D2E3FC;\n",
              "    }\n",
              "\n",
              "    [theme=dark] .colab-df-convert:hover {\n",
              "      background-color: #434B5C;\n",
              "      box-shadow: 0px 1px 3px 1px rgba(0, 0, 0, 0.15);\n",
              "      filter: drop-shadow(0px 1px 2px rgba(0, 0, 0, 0.3));\n",
              "      fill: #FFFFFF;\n",
              "    }\n",
              "  </style>\n",
              "\n",
              "      <script>\n",
              "        const buttonEl =\n",
              "          document.querySelector('#df-98d0f962-05d9-4dad-9aad-ba7b84448881 button.colab-df-convert');\n",
              "        buttonEl.style.display =\n",
              "          google.colab.kernel.accessAllowed ? 'block' : 'none';\n",
              "\n",
              "        async function convertToInteractive(key) {\n",
              "          const element = document.querySelector('#df-98d0f962-05d9-4dad-9aad-ba7b84448881');\n",
              "          const dataTable =\n",
              "            await google.colab.kernel.invokeFunction('convertToInteractive',\n",
              "                                                     [key], {});\n",
              "          if (!dataTable) return;\n",
              "\n",
              "          const docLinkHtml = 'Like what you see? Visit the ' +\n",
              "            '<a target=\"_blank\" href=https://colab.research.google.com/notebooks/data_table.ipynb>data table notebook</a>'\n",
              "            + ' to learn more about interactive tables.';\n",
              "          element.innerHTML = '';\n",
              "          dataTable['output_type'] = 'display_data';\n",
              "          await google.colab.output.renderOutput(dataTable, element);\n",
              "          const docLink = document.createElement('div');\n",
              "          docLink.innerHTML = docLinkHtml;\n",
              "          element.appendChild(docLink);\n",
              "        }\n",
              "      </script>\n",
              "    </div>\n",
              "  </div>\n",
              "  "
            ]
          },
          "metadata": {},
          "execution_count": 69
        }
      ]
    },
    {
      "cell_type": "code",
      "source": [
        "X_red_train, X_red_test, y_red_train , y_red_test = train_test_split(X_reduced, y, test_size=0.2, random_state=1)"
      ],
      "metadata": {
        "id": "MWZ1S6Wpl0F8"
      },
      "execution_count": null,
      "outputs": []
    },
    {
      "cell_type": "code",
      "source": [
        "cross_val_score(RandomForestClassifier(),X_red_train, y_red_train,cv=5)"
      ],
      "metadata": {
        "colab": {
          "base_uri": "https://localhost:8080/"
        },
        "id": "gCXUc2VDpmYm",
        "outputId": "185b5358-643c-4fdb-d2b0-74a422149794"
      },
      "execution_count": null,
      "outputs": [
        {
          "output_type": "execute_result",
          "data": {
            "text/plain": [
              "array([0.73409431, 0.72735778, 0.73671407, 0.73353293, 0.73484281])"
            ]
          },
          "metadata": {},
          "execution_count": 71
        }
      ]
    },
    {
      "cell_type": "code",
      "source": [
        "np.mean([0.73409431, 0.72735778, 0.73671407, 0.73353293, 0.73484281])"
      ],
      "metadata": {
        "colab": {
          "base_uri": "https://localhost:8080/"
        },
        "id": "RITs09WsqVSL",
        "outputId": "ac8e5adb-2969-46c9-8e8e-619ad7b9e176"
      },
      "execution_count": null,
      "outputs": [
        {
          "output_type": "execute_result",
          "data": {
            "text/plain": [
              "0.73330838"
            ]
          },
          "metadata": {},
          "execution_count": 72
        }
      ]
    },
    {
      "cell_type": "markdown",
      "source": [
        "The accuracy is decreased by 0.006 and the running time is reduced by 1 second, therefore we will not use this trade off in our model and we will continue to use all the features."
      ],
      "metadata": {
        "id": "P3lS4MQ2nE75"
      }
    },
    {
      "cell_type": "markdown",
      "source": [
        "**PCA**"
      ],
      "metadata": {
        "id": "WErIjC12nyA-"
      }
    },
    {
      "cell_type": "code",
      "source": [
        "from sklearn.decomposition import PCA\n",
        "\n",
        "pca_test = PCA(n_components=12)\n",
        "pca_test.fit(X_train)\n",
        "sns.set(style='whitegrid')\n",
        "sns.set(rc={'figure.figsize':(8,6)})\n",
        "\n",
        "plt.plot(np.cumsum(pca_test.explained_variance_ratio_))\n",
        "plt.xlabel('number of components')\n",
        "plt.ylabel('cumulative explained variance')\n",
        "display(plt.show())"
      ],
      "metadata": {
        "colab": {
          "base_uri": "https://localhost:8080/",
          "height": 412
        },
        "id": "5sTZmvcin0jg",
        "outputId": "cfdf52ee-794e-43cb-a3f3-d96789a7a241"
      },
      "execution_count": null,
      "outputs": [
        {
          "output_type": "display_data",
          "data": {
            "text/plain": [
              "<Figure size 576x432 with 1 Axes>"
            ],
            "image/png": "[encoded data removed]"
          },
          "metadata": {}
        },
        {
          "output_type": "display_data",
          "data": {
            "text/plain": [
              "None"
            ]
          },
          "metadata": {}
        }
      ]
    },
    {
      "cell_type": "markdown",
      "source": [
        "We Can use 7 principle components to capture 90% of the total variance."
      ],
      "metadata": {
        "id": "ltEm_mqPp-hk"
      }
    },
    {
      "cell_type": "code",
      "source": [
        "pca = PCA(n_components=7)\n",
        "pca.fit(X_train)\n",
        "X_train_pca = pca.transform(X_train)\n",
        "X_test_pca = pca.transform(X_test)"
      ],
      "metadata": {
        "id": "VMP9PY2WqPXP"
      },
      "execution_count": null,
      "outputs": []
    },
    {
      "cell_type": "code",
      "source": [
        "cross_val_score(RandomForestClassifier(),X_train_pca, y_train,cv=5)"
      ],
      "metadata": {
        "colab": {
          "base_uri": "https://localhost:8080/"
        },
        "id": "ANwNYFcQquLv",
        "outputId": "a3d3e140-dd38-4a55-cf77-579bc66bb348"
      },
      "execution_count": null,
      "outputs": [
        {
          "output_type": "execute_result",
          "data": {
            "text/plain": [
              "array([0.68712575, 0.68731287, 0.67477545, 0.68787425, 0.6925524 ])"
            ]
          },
          "metadata": {},
          "execution_count": 100
        }
      ]
    },
    {
      "cell_type": "code",
      "source": [
        "np.mean([0.68712575, 0.68731287, 0.67477545, 0.68787425, 0.6925524 ])"
      ],
      "metadata": {
        "colab": {
          "base_uri": "https://localhost:8080/"
        },
        "id": "rJ5LAYyytACG",
        "outputId": "c2df7bc9-26a3-45fa-b99e-63d4198fa73f"
      },
      "execution_count": null,
      "outputs": [
        {
          "output_type": "execute_result",
          "data": {
            "text/plain": [
              "0.6859281439999999"
            ]
          },
          "metadata": {},
          "execution_count": 101
        }
      ]
    },
    {
      "cell_type": "markdown",
      "source": [
        "It can be seen that the performance of the model is not enhanced with dimension reduction."
      ],
      "metadata": {
        "id": "rfbSKN9HrFDX"
      }
    },
    {
      "cell_type": "markdown",
      "source": [
        "Hyperparameter"
      ],
      "metadata": {
        "id": "fDt9a8W6m0lf"
      }
    },
    {
      "cell_type": "code",
      "source": [
        "from sklearn.model_selection import RandomizedSearchCV\n",
        "\n",
        "#number of trees in the model\n",
        "n_estimators = [int(x) for x in np.linspace(start = 100, stop = 1000, num = 10)]\n",
        "\n",
        "#maximum number of splits for each tree\n",
        "max_depth = [int(x) for x in np.linspace(start = 1, stop = 15, num = 15)]\n",
        "\n",
        "#minimum number of cases required before spliting\n",
        "min_samples_split = [int(x) for x in np.linspace(start = 2, stop = 50, num = 10)]\n",
        "\n",
        "#minimum number required in each leaf at the end\n",
        "min_samples_leaf = [int(x) for x in np.linspace(start = 2, stop = 50, num = 10)]\n",
        "\n",
        "bootstrap = [True, False]\n",
        "\n",
        "param_dist = {'n_estimators': n_estimators,\n",
        "               'max_depth': max_depth,\n",
        "               'min_samples_split': min_samples_split,\n",
        "               'min_samples_leaf': min_samples_leaf,\n",
        "               'bootstrap': bootstrap}\n",
        "\n",
        "               "
      ],
      "metadata": {
        "id": "puFaqr7Zrf54"
      },
      "execution_count": null,
      "outputs": []
    },
    {
      "cell_type": "code",
      "source": [
        "rf_rs = RandomizedSearchCV(rf, \n",
        "                        param_dist, \n",
        "                        n_iter = 40, \n",
        "                        cv = 3, \n",
        "                        n_jobs=-1, \n",
        "                        random_state=1)\n",
        "rf_rs.fit(X_train, y_train)\n",
        "rf_rs.best_params_\n"
      ],
      "metadata": {
        "colab": {
          "base_uri": "https://localhost:8080/"
        },
        "id": "1lDnuSt8sg1B",
        "outputId": "eeafea1f-4951-40e4-c3e2-b25a975b0069"
      },
      "execution_count": null,
      "outputs": [
        {
          "output_type": "execute_result",
          "data": {
            "text/plain": [
              "{'bootstrap': False,\n",
              " 'max_depth': 13,\n",
              " 'min_samples_leaf': 12,\n",
              " 'min_samples_split': 2,\n",
              " 'n_estimators': 500}"
            ]
          },
          "metadata": {},
          "execution_count": 35
        }
      ]
    },
    {
      "cell_type": "code",
      "source": [
        "random_df = pd.DataFrame(rf_rs.cv_results_).sort_values('rank_test_score').reset_index(drop=True)\n",
        "random_df = random_df.drop([\n",
        "            'mean_fit_time', \n",
        "            'std_fit_time', \n",
        "            'mean_score_time',\n",
        "            'std_score_time', \n",
        "            'params', \n",
        "            'split0_test_score', \n",
        "            'split1_test_score', \n",
        "            'split2_test_score', \n",
        "            'std_test_score'],\n",
        "            axis=1)"
      ],
      "metadata": {
        "id": "Gf0TEdxVft-L"
      },
      "execution_count": null,
      "outputs": []
    },
    {
      "cell_type": "code",
      "source": [
        "fig, axs = plt.subplots(ncols=3, nrows=2)\n",
        "sns.set(style=\"whitegrid\", color_codes=True, font_scale = 1)\n",
        "fig.set_size_inches(18,18)\n",
        "\n",
        "sns.barplot(x='param_n_estimators', y='mean_test_score', data=random_df, ax=axs[0,0], color='lightgrey')\n",
        "axs[0,0].set_ylim([.65,.75])\n",
        "axs[0,0].set_title(label = 'n_estimators', size=10, weight='bold')\n",
        "\n",
        "sns.barplot(x='param_min_samples_split', y='mean_test_score', data=random_df, ax=axs[0,1], color='coral')\n",
        "axs[0,1].set_ylim([.65,.75])\n",
        "axs[0,1].set_title(label = 'min_samples_split', size=10, weight='bold')\n",
        "\n",
        "sns.barplot(x='param_min_samples_leaf', y='mean_test_score', data=random_df, ax=axs[0,2], color='lightgreen')\n",
        "axs[0,2].set_ylim([.65,.75])\n",
        "axs[0,2].set_title(label = 'min_samples_leaf', size=10, weight='bold')\n",
        "\n",
        "\n",
        "sns.barplot(x='param_max_depth', y='mean_test_score', data=random_df, ax=axs[1,1], color='lightpink')\n",
        "axs[1,1].set_ylim([.65,.75])\n",
        "axs[1,1].set_title(label = 'max_depth', size=10, weight='bold')\n",
        "\n",
        "sns.barplot(x='param_bootstrap',y='mean_test_score', data=random_df, ax=axs[1,2], color='skyblue')\n",
        "axs[1,2].set_ylim([.65,.75])\n",
        "axs[1,2].set_title(label = 'bootstrap', size=10, weight='bold')\n",
        "\n",
        "axs[1,0].set_axis_off()\n",
        "plt.show()"
      ],
      "metadata": {
        "colab": {
          "base_uri": "https://localhost:8080/",
          "height": 1000
        },
        "id": "ITCjDmzJgXuE",
        "outputId": "ef25b81e-b7db-4594-afb5-8ac10923a8ab"
      },
      "execution_count": null,
      "outputs": [
        {
          "output_type": "display_data",
          "data": {
            "text/plain": [
              "<Figure size 1296x1296 with 6 Axes>"
            ],
            "image/png": "[encoded data removed]"
          },
          "metadata": {}
        }
      ]
    },
    {
      "cell_type": "markdown",
      "source": [
        "From the results for the number of estimators we choose [400,900].\n",
        "For min sample split we choose [2,12,28].\n",
        "For min sample leaf we choose [28,34].\n",
        "For max depth we choose [12,13].\n",
        "And we choose bootstrap False."
      ],
      "metadata": {
        "id": "JT4o8kvqjNOF"
      }
    },
    {
      "cell_type": "code",
      "source": [
        "grid = {'bootstrap': [False],\n",
        " 'max_depth': [12,13],\n",
        " 'max_features': ['auto', 'sqrt'],\n",
        " 'min_samples_leaf': [28, 34],\n",
        " 'min_samples_split': [2, 12, 28],\n",
        " 'n_estimators': [ 400, 900]}"
      ],
      "metadata": {
        "id": "FnpCCrmHkAWf"
      },
      "execution_count": null,
      "outputs": []
    },
    {
      "cell_type": "code",
      "source": [
        "gs = GridSearchCV(rf, grid, cv = 3, verbose = 1, n_jobs=-1)\n",
        "gs.fit(X_train, y_train)\n",
        "rfc_3 = gs.best_estimator_\n",
        "gs.best_params_"
      ],
      "metadata": {
        "colab": {
          "base_uri": "https://localhost:8080/"
        },
        "id": "UoQfY6AWkfco",
        "outputId": "c21a4fe5-c8b7-4e7f-c918-62577f8bc5bb"
      },
      "execution_count": null,
      "outputs": [
        {
          "output_type": "stream",
          "name": "stdout",
          "text": [
            "Fitting 3 folds for each of 48 candidates, totalling 144 fits\n"
          ]
        },
        {
          "output_type": "execute_result",
          "data": {
            "text/plain": [
              "{'bootstrap': False,\n",
              " 'max_depth': 13,\n",
              " 'max_features': 'sqrt',\n",
              " 'min_samples_leaf': 28,\n",
              " 'min_samples_split': 12,\n",
              " 'n_estimators': 400}"
            ]
          },
          "metadata": {},
          "execution_count": 57
        }
      ]
    },
    {
      "cell_type": "code",
      "source": [
        "y_pred_gs = gs.best_estimator_.predict(X_test)\n",
        "accuracy_score(y_test,y_pred_gs)"
      ],
      "metadata": {
        "colab": {
          "base_uri": "https://localhost:8080/"
        },
        "id": "RAzgf3dH87Ib",
        "outputId": "023fc9c2-1029-48a6-c91c-20cc971075cf"
      },
      "execution_count": null,
      "outputs": [
        {
          "output_type": "execute_result",
          "data": {
            "text/plain": [
              "0.7307289327944918"
            ]
          },
          "metadata": {},
          "execution_count": 61
        }
      ]
    },
    {
      "cell_type": "code",
      "source": [
        "sum(y_test == 1)"
      ],
      "metadata": {
        "colab": {
          "base_uri": "https://localhost:8080/"
        },
        "id": "DRFPhThU-noB",
        "outputId": "10642921-d669-449b-9cd2-5c5dcfd8cf6b"
      },
      "execution_count": null,
      "outputs": [
        {
          "output_type": "execute_result",
          "data": {
            "text/plain": [
              "3606"
            ]
          },
          "metadata": {},
          "execution_count": 84
        }
      ]
    },
    {
      "cell_type": "markdown",
      "source": [
        "# Performance Evaluation and Interpretation"
      ],
      "metadata": {
        "id": "5AUksX-JCiu2"
      }
    },
    {
      "cell_type": "markdown",
      "source": [
        "Importing Accuracy score, confusion matrix and Classification report"
      ],
      "metadata": {
        "id": "sq02Q7fEHvCu"
      }
    },
    {
      "cell_type": "code",
      "source": [
        "from sklearn.metrics import accuracy_score, confusion_matrix, classification_report"
      ],
      "metadata": {
        "id": "kxJQqjfDCre4"
      },
      "execution_count": null,
      "outputs": []
    },
    {
      "cell_type": "markdown",
      "source": [
        "Calculating accuracy scores"
      ],
      "metadata": {
        "id": "Wi49OR8sH0rQ"
      }
    },
    {
      "cell_type": "code",
      "source": [
        "accuracy_score(y_test, y_pred)"
      ],
      "metadata": {
        "colab": {
          "base_uri": "https://localhost:8080/"
        },
        "id": "izVcgAiRDUQ7",
        "outputId": "5b06a998-26b9-4aba-9434-c86484e1087e"
      },
      "execution_count": null,
      "outputs": [
        {
          "output_type": "execute_result",
          "data": {
            "text/plain": [
              "0.7353689567430025"
            ]
          },
          "metadata": {},
          "execution_count": 113
        }
      ]
    },
    {
      "cell_type": "markdown",
      "source": [
        "View Confusion Matrix for test data and the predictions"
      ],
      "metadata": {
        "id": "GFu5PdUYH6rP"
      }
    },
    {
      "cell_type": "code",
      "source": [
        "confusion_matrix(y_test, y_pred, labels=[1, 0])"
      ],
      "metadata": {
        "colab": {
          "base_uri": "https://localhost:8080/"
        },
        "id": "EnLcy01YDYwO",
        "outputId": "e0c4b214-579a-445d-b9ea-92654aaf0d8c"
      },
      "execution_count": null,
      "outputs": [
        {
          "output_type": "execute_result",
          "data": {
            "text/plain": [
              "array([[2935,  671],\n",
              "       [1097, 1978]])"
            ]
          },
          "metadata": {},
          "execution_count": 114
        }
      ]
    },
    {
      "cell_type": "markdown",
      "source": [
        "Printing the classification report for test data and the predictions"
      ],
      "metadata": {
        "id": "luxq_0yQIEoS"
      }
    },
    {
      "cell_type": "code",
      "source": [
        "print(classification_report(y_test, y_pred))"
      ],
      "metadata": {
        "colab": {
          "base_uri": "https://localhost:8080/"
        },
        "id": "n6IzKJdKDkJd",
        "outputId": "3dc753a2-06cb-47bf-b5bf-5a24f9da4915"
      },
      "execution_count": null,
      "outputs": [
        {
          "output_type": "stream",
          "name": "stdout",
          "text": [
            "              precision    recall  f1-score   support\n",
            "\n",
            "           0       0.75      0.64      0.69      3075\n",
            "           1       0.73      0.81      0.77      3606\n",
            "\n",
            "    accuracy                           0.74      6681\n",
            "   macro avg       0.74      0.73      0.73      6681\n",
            "weighted avg       0.74      0.74      0.73      6681\n",
            "\n"
          ]
        }
      ]
    },
    {
      "cell_type": "code",
      "source": [
        "y_prob= rf.predict_proba((X_test))"
      ],
      "metadata": {
        "id": "9u8H8Gc_vUXt"
      },
      "execution_count": null,
      "outputs": []
    },
    {
      "cell_type": "code",
      "source": [
        "prob_1 = y_prob[::,1]"
      ],
      "metadata": {
        "id": "XwNlC3aDwsGP"
      },
      "execution_count": null,
      "outputs": []
    },
    {
      "cell_type": "code",
      "source": [
        "from sklearn import metrics\n",
        "fpr, tpr, _ = metrics.roc_curve(y_test,  prob_1)\n",
        "auc = metrics.roc_auc_score(y_test, prob_1)\n",
        "\n",
        "#create ROC curve\n",
        "plt.plot(fpr,tpr, label=\"AUC=\"+str(auc))\n",
        "plt.ylabel('Sensitivity')\n",
        "plt.xlabel('1-Specificity')\n",
        "plt.legend(loc=4)\n",
        "plt.show()\n"
      ],
      "metadata": {
        "colab": {
          "base_uri": "https://localhost:8080/",
          "height": 394
        },
        "id": "yekwsTyACfKI",
        "outputId": "7a70d22a-31e0-40d1-964a-c589913eb7d9"
      },
      "execution_count": null,
      "outputs": [
        {
          "output_type": "display_data",
          "data": {
            "text/plain": [
              "<Figure size 576x432 with 1 Axes>"
            ],
            "image/png": "[encoded data removed]"
          },
          "metadata": {}
        }
      ]
    }
  ]
}